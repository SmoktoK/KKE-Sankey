{
 "cells": [
  {
   "cell_type": "code",
   "execution_count": 1,
   "id": "1a10502b",
   "metadata": {},
   "outputs": [],
   "source": [
    "import pandas as pd\n",
    "import numpy as np\n",
    "import datetime\n",
    "import plotly.graph_objects as go\n",
    "from plotly.subplots import make_subplots\n",
    "\n",
    "#import sdk library from parent directory\n",
    "import os\n",
    "import sys\n",
    "module_path = os.path.abspath(os.path.join('..'))\n",
    "if module_path not in sys.path:\n",
    "    sys.path.append(module_path)"
   ]
  },
  {
   "cell_type": "code",
   "execution_count": 2,
   "id": "c4dfc20d",
   "metadata": {},
   "outputs": [],
   "source": [
    "colors = {\n",
    "    'grid': \"rgba(255,255,255,0.2)\",\n",
    "    'graph_font': \"#f0f8ff\",\n",
    "    'plot_area': \"rgba(50,50,50,0.2)\",\n",
    "    'plot_background': \"rgba(50,50,50,0.5)\",\n",
    "    'active_link': 'rgba(200,200,200,0.7)',\n",
    "    'disabled_link': 'rgba(200,100,100,0.7)',\n",
    "}"
   ]
  },
  {
   "cell_type": "code",
   "execution_count": 3,
   "id": "f69d6c24",
   "metadata": {},
   "outputs": [
    {
     "ename": "Exception",
     "evalue": "Status code: 503, message: Forbidden",
     "output_type": "error",
     "traceback": [
      "\u001b[1;31m---------------------------------------------------------------------------\u001b[0m",
      "\u001b[1;31mException\u001b[0m                                 Traceback (most recent call last)",
      "\u001b[1;32mC:\\Users\\VYACHE~1\\AppData\\Local\\Temp/ipykernel_2240/4281147238.py\u001b[0m in \u001b[0;36m<module>\u001b[1;34m\u001b[0m\n\u001b[0;32m     21\u001b[0m \u001b[1;33m\u001b[0m\u001b[0m\n\u001b[0;32m     22\u001b[0m \u001b[0mel\u001b[0m \u001b[1;33m=\u001b[0m \u001b[0mElectricalArchive\u001b[0m\u001b[1;33m(\u001b[0m\u001b[0ms\u001b[0m\u001b[1;33m)\u001b[0m\u001b[1;33m\u001b[0m\u001b[1;33m\u001b[0m\u001b[0m\n\u001b[1;32m---> 23\u001b[1;33m df = el.get_data([\"dev-101_\"+energy+\"_imp\",\"dev-109_\"+energy+\"_imp\",\"dev-110_\"+energy+\"_imp\",\n\u001b[0m\u001b[0;32m     24\u001b[0m                 \u001b[1;34m\"dev-111_\"\u001b[0m\u001b[1;33m+\u001b[0m\u001b[0menergy\u001b[0m\u001b[1;33m+\u001b[0m\u001b[1;34m\"_imp\"\u001b[0m\u001b[1;33m,\u001b[0m\u001b[1;34m\"dev-112_\"\u001b[0m\u001b[1;33m+\u001b[0m\u001b[0menergy\u001b[0m\u001b[1;33m+\u001b[0m\u001b[1;34m\"_imp\"\u001b[0m\u001b[1;33m,\u001b[0m\u001b[1;34m\"dev-114_\"\u001b[0m\u001b[1;33m+\u001b[0m\u001b[0menergy\u001b[0m\u001b[1;33m+\u001b[0m\u001b[1;34m\"_imp\"\u001b[0m\u001b[1;33m,\u001b[0m\u001b[1;33m\u001b[0m\u001b[1;33m\u001b[0m\u001b[0m\n\u001b[0;32m     25\u001b[0m                 \u001b[1;34m\"dev-108_\"\u001b[0m\u001b[1;33m+\u001b[0m\u001b[0menergy\u001b[0m\u001b[1;33m+\u001b[0m\u001b[1;34m\"_imp\"\u001b[0m\u001b[1;33m,\u001b[0m\u001b[1;34m\"dev-102_\"\u001b[0m\u001b[1;33m+\u001b[0m\u001b[0menergy\u001b[0m\u001b[1;33m+\u001b[0m\u001b[1;34m\"_imp\"\u001b[0m\u001b[1;33m,\u001b[0m\u001b[1;34m\"dev-103_\"\u001b[0m\u001b[1;33m+\u001b[0m\u001b[0menergy\u001b[0m\u001b[1;33m+\u001b[0m\u001b[1;34m\"_imp\"\u001b[0m\u001b[1;33m,\u001b[0m\u001b[1;33m\u001b[0m\u001b[1;33m\u001b[0m\u001b[0m\n",
      "\u001b[1;32m~\\PycharmProjects\\sedmax-sdk\\sdk\\electro_scraper.py\u001b[0m in \u001b[0;36mget_data\u001b[1;34m(self, channels, period, begin, end, multiplier)\u001b[0m\n\u001b[0;32m     34\u001b[0m         \u001b[0murl\u001b[0m \u001b[1;33m=\u001b[0m \u001b[0mself\u001b[0m\u001b[1;33m.\u001b[0m\u001b[0mhost\u001b[0m \u001b[1;33m+\u001b[0m \u001b[1;34m'/sedmax/web/archive/electro/archive'\u001b[0m\u001b[1;33m\u001b[0m\u001b[1;33m\u001b[0m\u001b[0m\n\u001b[0;32m     35\u001b[0m \u001b[1;33m\u001b[0m\u001b[0m\n\u001b[1;32m---> 36\u001b[1;33m         \u001b[0mdata\u001b[0m \u001b[1;33m=\u001b[0m \u001b[0mself\u001b[0m\u001b[1;33m.\u001b[0m\u001b[0msedmax\u001b[0m\u001b[1;33m.\u001b[0m\u001b[0mget_data\u001b[0m\u001b[1;33m(\u001b[0m\u001b[0murl\u001b[0m\u001b[1;33m,\u001b[0m \u001b[0mrequest\u001b[0m\u001b[1;33m)\u001b[0m\u001b[1;33m\u001b[0m\u001b[1;33m\u001b[0m\u001b[0m\n\u001b[0m\u001b[0;32m     37\u001b[0m \u001b[1;33m\u001b[0m\u001b[0m\n\u001b[0;32m     38\u001b[0m         \u001b[0mdf\u001b[0m \u001b[1;33m=\u001b[0m \u001b[0mpd\u001b[0m\u001b[1;33m.\u001b[0m\u001b[0mDataFrame\u001b[0m\u001b[1;33m(\u001b[0m\u001b[0mdata\u001b[0m\u001b[1;33m[\u001b[0m\u001b[1;34m'rows'\u001b[0m\u001b[1;33m]\u001b[0m\u001b[1;33m)\u001b[0m\u001b[1;33m\u001b[0m\u001b[1;33m\u001b[0m\u001b[0m\n",
      "\u001b[1;32m~\\PycharmProjects\\sedmax-sdk\\sdk\\sedmax.py\u001b[0m in \u001b[0;36mget_data\u001b[1;34m(self, url, request)\u001b[0m\n\u001b[0;32m     65\u001b[0m                 \u001b[1;32mraise\u001b[0m \u001b[0mException\u001b[0m\u001b[1;33m(\u001b[0m\u001b[1;34mf'Status code: {r.status_code}, message: {r.json()[\"message\"]}'\u001b[0m\u001b[1;33m)\u001b[0m\u001b[1;33m\u001b[0m\u001b[1;33m\u001b[0m\u001b[0m\n\u001b[0;32m     66\u001b[0m         \u001b[1;32melse\u001b[0m\u001b[1;33m:\u001b[0m\u001b[1;33m\u001b[0m\u001b[1;33m\u001b[0m\u001b[0m\n\u001b[1;32m---> 67\u001b[1;33m             \u001b[1;32mraise\u001b[0m \u001b[0mException\u001b[0m\u001b[1;33m(\u001b[0m\u001b[1;34mf'Status code: {r.status_code}, message: {r.json()[\"message\"]}'\u001b[0m\u001b[1;33m)\u001b[0m\u001b[1;33m\u001b[0m\u001b[1;33m\u001b[0m\u001b[0m\n\u001b[0m\u001b[0;32m     68\u001b[0m \u001b[1;33m\u001b[0m\u001b[0m\n\u001b[0;32m     69\u001b[0m     \u001b[1;32mdef\u001b[0m \u001b[0mcategories\u001b[0m\u001b[1;33m(\u001b[0m\u001b[0mself\u001b[0m\u001b[1;33m)\u001b[0m\u001b[1;33m:\u001b[0m\u001b[1;33m\u001b[0m\u001b[1;33m\u001b[0m\u001b[0m\n",
      "\u001b[1;31mException\u001b[0m: Status code: 503, message: Forbidden"
     ]
    }
   ],
   "source": [
    "import pandas as pd\n",
    "import numpy as np\n",
    "import dash\n",
    "import datetime\n",
    "from dash import dcc, html, dash_table, callback_context\n",
    "from dash.dependencies import Input, Output, State\n",
    "import dash_bootstrap_components as dbc\n",
    "\n",
    "from sdk import SedmaxHeader, Sedmax, ElectricalArchive, EventJournal, RTDArchive\n",
    "from uptime_report.graphs import out_time_scatter, out_table\n",
    "\n",
    "\n",
    "energy = 'ea' #'er' or 'ea'\n",
    "\n",
    "\n",
    "s = Sedmax('https://demo.sedmax.ru')\n",
    "\n",
    "username = 'demo' #os.environ['SEDMAX_USERNAME']\n",
    "password = 'demo' #os.environ['SEDMAX_PASSWORD']\n",
    "s.login(username, password)\n",
    "\n",
    "el = ElectricalArchive(s)\n",
    "df = el.get_data([\"dev-101_\"+energy+\"_imp\",\"dev-109_\"+energy+\"_imp\",\"dev-110_\"+energy+\"_imp\",\n",
    "                \"dev-111_\"+energy+\"_imp\",\"dev-112_\"+energy+\"_imp\",\"dev-114_\"+energy+\"_imp\",\n",
    "                \"dev-108_\"+energy+\"_imp\",\"dev-102_\"+energy+\"_imp\",\"dev-103_\"+energy+\"_imp\",\n",
    "                \"dev-104_\"+energy+\"_imp\",\"dev-105_\"+energy+\"_imp\",\"dev-106_\"+energy+\"_imp\",\n",
    "                \"dev-107_\"+energy+\"_imp\",\"dev-202_\"+energy+\"_imp\",\"dev-201_\"+energy+\"_imp\",\n",
    "                \"dev-113_\"+energy+\"_imp\",\"dev-116_\"+energy+\"_imp\",\"dev-117_\"+energy+\"_imp\"], \n",
    "                 ['30min'], '2022-03-21','2022-03-21')\n",
    "\n",
    "tree = el.devices_tree()\n",
    "parents = tree.parent.unique()\n",
    "\n",
    "names = tree.name.values.tolist()\n",
    "names.append('object-0')\n",
    "map_dict = tree.id.values.tolist()\n",
    "map_dict.append('object-0')\n",
    "map_dict = dict([(v,k) for (k,v) in enumerate(map_dict)])\n",
    "\n",
    "power_data = df.sum()\n",
    "power_data.index = [x.split('_')[0].replace('dev', 'device') for x in power_data.index]\n",
    "power_data['device-110'] = power_data['device-110']/1000\n",
    "\n",
    "power_data.index = power_data.index.map(map_dict)\n",
    "tree.id = tree.id.map(map_dict)\n",
    "\n",
    "records = []\n",
    "for par in parents:\n",
    "\n",
    "    children = tree[tree.parent == par].id.to_list()\n",
    "    values = []\n",
    "    for device in children:\n",
    "        if device in power_data.index:\n",
    "            values.append(power_data[device])\n",
    "        else:\n",
    "            values.append(0)\n",
    "\n",
    "    Dict = {'name': map_dict[par],\n",
    "          'children': tree[tree.parent == par].id.to_list(),\n",
    "          'values': values\n",
    "          }\n",
    "    records.append(Dict)\n",
    "\n",
    "    \n",
    "#manually determined records    \n",
    "\n",
    "records = [\n",
    "        {'dev': 23, 'children': [8]},\n",
    "        {'dev': 8, 'children': [1]},\n",
    "        {'dev': 1, 'children': [15, 16, 17, 18, 25]},\n",
    "        {'dev': 24, 'children': [9]},\n",
    "        {'dev': 9, 'children': [2]},\n",
    "        {'dev': 2, 'children': [10, 11, 12, 13, 14]},\n",
    "        {'dev': 12, 'children': [20]},\n",
    "        {'dev': 18, 'children': [19]},\n",
    "        {'dev': 14, 'children': [19]},\n",
    "        {'dev': 19, 'children': [21]},\n",
    "        {'dev': 20, 'children': [22]},\n",
    "    ]\n",
    "\n",
    "\n",
    "def flatten(t):\n",
    "    return [item for sublist in t for item in sublist]\n",
    "\n",
    "source = []\n",
    "target = []\n",
    "value = []\n",
    "link_colors = []\n",
    "\n",
    "for record in records:\n",
    "    children = record['children']\n",
    "    device = record['dev']\n",
    "    values = []\n",
    "\n",
    "    if len(children) <= 1:\n",
    "        if device in power_data.index:\n",
    "            if power_data[device] != 0:\n",
    "                values.append(power_data[device])\n",
    "                link_colors.append(colors['active_link'])\n",
    "            else:\n",
    "                values.append(0.01)\n",
    "                link_colors.append(colors['disabled_link'])\n",
    "        else:\n",
    "            values.append(0.01)\n",
    "            link_colors.append(colors['disabled_link'])\n",
    "    else:\n",
    "        for child in children:\n",
    "            if child in power_data.index:\n",
    "                if power_data[child] != 0:\n",
    "                    values.append(power_data[child])\n",
    "                    link_colors.append(colors['active_link'])\n",
    "                else:\n",
    "                    values.append(0.01)\n",
    "                    link_colors.append(colors['disabled_link'])\n",
    "            else:\n",
    "                values.append(0.01)\n",
    "                link_colors.append(colors['disabled_link'])\n",
    "\n",
    "    node = [record['dev']] * len(children)\n",
    "\n",
    "    source.append(node)\n",
    "    target.append(children)\n",
    "    value.append(values)\n",
    "\n",
    "source = flatten(source)\n",
    "target = flatten(target)\n",
    "value = flatten(value)\n",
    "labels = names\n",
    "\n",
    "print(len(source), len(target), len(value), len(labels))"
   ]
  },
  {
   "cell_type": "code",
   "execution_count": 9,
   "id": "4f82ee58",
   "metadata": {},
   "outputs": [
    {
     "ename": "AttributeError",
     "evalue": "'Sedmax' object has no attribute 'channels_tree'",
     "output_type": "error",
     "traceback": [
      "\u001b[1;31m---------------------------------------------------------------------------\u001b[0m",
      "\u001b[1;31mAttributeError\u001b[0m                            Traceback (most recent call last)",
      "\u001b[1;32mC:\\Users\\VYACHE~1\\AppData\\Local\\Temp/ipykernel_2240/144988365.py\u001b[0m in \u001b[0;36m<module>\u001b[1;34m\u001b[0m\n\u001b[1;32m----> 1\u001b[1;33m \u001b[0ms\u001b[0m\u001b[1;33m.\u001b[0m\u001b[0mchannels_tree\u001b[0m\u001b[1;33m(\u001b[0m\u001b[1;33m)\u001b[0m\u001b[1;33m\u001b[0m\u001b[1;33m\u001b[0m\u001b[0m\n\u001b[0m",
      "\u001b[1;31mAttributeError\u001b[0m: 'Sedmax' object has no attribute 'channels_tree'"
     ]
    }
   ],
   "source": [
    "s.channels_tree()"
   ]
  },
  {
   "cell_type": "code",
   "execution_count": 63,
   "id": "99b4520c",
   "metadata": {},
   "outputs": [],
   "source": [
    "colors = {\n",
    "    'grid': \"rgba(255,255,255,0.2)\",\n",
    "    'graph_font': \"#f0f8ff\",\n",
    "    'plot_area': \"rgba(50,50,50,0.2)\",\n",
    "    'plot_background': \"rgba(50,50,50,0.5)\",\n",
    "    'active_link': 'rgba(200,200,200,0.7)',\n",
    "    'disabled_link': 'rgba(200,100,100,0.7)',\n",
    "}"
   ]
  },
  {
   "cell_type": "code",
   "execution_count": 156,
   "id": "6a0a309d",
   "metadata": {
    "scrolled": false
   },
   "outputs": [
    {
     "data": {
      "application/vnd.plotly.v1+json": {
       "config": {
        "plotlyServerURL": "https://plot.ly"
       },
       "data": [
        {
         "link": {
          "source": [
           23,
           8,
           1,
           1,
           1,
           1,
           1,
           24,
           9,
           2,
           2,
           2,
           2,
           2,
           12,
           18,
           14,
           19,
           20
          ],
          "target": [
           8,
           1,
           15,
           16,
           17,
           18,
           25,
           9,
           2,
           10,
           11,
           12,
           13,
           14,
           20,
           19,
           19,
           21,
           22
          ],
          "value": [
           97.66199999999999,
           96.6335,
           27.605499999999996,
           0.0551985,
           0.01,
           0.01,
           11.795,
           242.17399999999998,
           237.736,
           14.158000000000001,
           83.6965,
           111.517,
           0.01,
           0.01,
           111.517,
           0.01,
           0.01,
           22.095499999999998,
           17.866500000000002
          ]
         },
         "node": {
          "label": [
           "Офис",
           "ВРУ-3.1",
           "ВРУ-3.2",
           "ВРУ 2-го этажа",
           "ВРУ 1-го этажа",
           "Шкаф АВР",
           "Серверная",
           "Модуль дорасчетов",
           "Ввод-1 (контр.)",
           "Ввод-2 (контр.)",
           "ЩВК 3.3 (ВРУ 3.2)",
           "ЩР 3.2 (ВРУ 3.2)",
           "ЩРС 2 (ВРУ 3.2)",
           "Резерв (ВРУ 3.2)",
           "ЩАВР (ВРУ 3.2)",
           "ЩВК 3.2 (ВРУ 3.1)",
           "ЩР 3.1 (ВРУ 3.1)",
           "Резерв (ВРУ-3.1)",
           "ЩАВР (ВРУ 3.1)",
           "ЩРС-1",
           "ЩРС-2",
           "Шкаф серверный №2  ввод-1",
           "Шкаф серверный №2  ввод-2",
           "Ввод-1 (ком.)",
           "Ввод-2 (ком.)",
           "ЩВК 3.1 (ВРУ 3.1)",
           "object-0"
          ],
          "line": {
           "color": "black",
           "width": 0.5
          },
          "pad": 15,
          "thickness": 20
         },
         "type": "sankey",
         "valuesuffix": " кВтч"
        }
       ],
       "layout": {
        "font": {
         "color": "#f0f8ff"
        },
        "height": 700,
        "margin": {
         "b": 30,
         "l": 20,
         "pad": 1,
         "r": 20,
         "t": 80
        },
        "paper_bgcolor": "rgba(50,50,50,0.5)",
        "plot_bgcolor": "rgba(50,50,50,0.2)",
        "template": {
         "data": {
          "bar": [
           {
            "error_x": {
             "color": "#2a3f5f"
            },
            "error_y": {
             "color": "#2a3f5f"
            },
            "marker": {
             "line": {
              "color": "#E5ECF6",
              "width": 0.5
             },
             "pattern": {
              "fillmode": "overlay",
              "size": 10,
              "solidity": 0.2
             }
            },
            "type": "bar"
           }
          ],
          "barpolar": [
           {
            "marker": {
             "line": {
              "color": "#E5ECF6",
              "width": 0.5
             },
             "pattern": {
              "fillmode": "overlay",
              "size": 10,
              "solidity": 0.2
             }
            },
            "type": "barpolar"
           }
          ],
          "carpet": [
           {
            "aaxis": {
             "endlinecolor": "#2a3f5f",
             "gridcolor": "white",
             "linecolor": "white",
             "minorgridcolor": "white",
             "startlinecolor": "#2a3f5f"
            },
            "baxis": {
             "endlinecolor": "#2a3f5f",
             "gridcolor": "white",
             "linecolor": "white",
             "minorgridcolor": "white",
             "startlinecolor": "#2a3f5f"
            },
            "type": "carpet"
           }
          ],
          "choropleth": [
           {
            "colorbar": {
             "outlinewidth": 0,
             "ticks": ""
            },
            "type": "choropleth"
           }
          ],
          "contour": [
           {
            "colorbar": {
             "outlinewidth": 0,
             "ticks": ""
            },
            "colorscale": [
             [
              0,
              "#0d0887"
             ],
             [
              0.1111111111111111,
              "#46039f"
             ],
             [
              0.2222222222222222,
              "#7201a8"
             ],
             [
              0.3333333333333333,
              "#9c179e"
             ],
             [
              0.4444444444444444,
              "#bd3786"
             ],
             [
              0.5555555555555556,
              "#d8576b"
             ],
             [
              0.6666666666666666,
              "#ed7953"
             ],
             [
              0.7777777777777778,
              "#fb9f3a"
             ],
             [
              0.8888888888888888,
              "#fdca26"
             ],
             [
              1,
              "#f0f921"
             ]
            ],
            "type": "contour"
           }
          ],
          "contourcarpet": [
           {
            "colorbar": {
             "outlinewidth": 0,
             "ticks": ""
            },
            "type": "contourcarpet"
           }
          ],
          "heatmap": [
           {
            "colorbar": {
             "outlinewidth": 0,
             "ticks": ""
            },
            "colorscale": [
             [
              0,
              "#0d0887"
             ],
             [
              0.1111111111111111,
              "#46039f"
             ],
             [
              0.2222222222222222,
              "#7201a8"
             ],
             [
              0.3333333333333333,
              "#9c179e"
             ],
             [
              0.4444444444444444,
              "#bd3786"
             ],
             [
              0.5555555555555556,
              "#d8576b"
             ],
             [
              0.6666666666666666,
              "#ed7953"
             ],
             [
              0.7777777777777778,
              "#fb9f3a"
             ],
             [
              0.8888888888888888,
              "#fdca26"
             ],
             [
              1,
              "#f0f921"
             ]
            ],
            "type": "heatmap"
           }
          ],
          "heatmapgl": [
           {
            "colorbar": {
             "outlinewidth": 0,
             "ticks": ""
            },
            "colorscale": [
             [
              0,
              "#0d0887"
             ],
             [
              0.1111111111111111,
              "#46039f"
             ],
             [
              0.2222222222222222,
              "#7201a8"
             ],
             [
              0.3333333333333333,
              "#9c179e"
             ],
             [
              0.4444444444444444,
              "#bd3786"
             ],
             [
              0.5555555555555556,
              "#d8576b"
             ],
             [
              0.6666666666666666,
              "#ed7953"
             ],
             [
              0.7777777777777778,
              "#fb9f3a"
             ],
             [
              0.8888888888888888,
              "#fdca26"
             ],
             [
              1,
              "#f0f921"
             ]
            ],
            "type": "heatmapgl"
           }
          ],
          "histogram": [
           {
            "marker": {
             "pattern": {
              "fillmode": "overlay",
              "size": 10,
              "solidity": 0.2
             }
            },
            "type": "histogram"
           }
          ],
          "histogram2d": [
           {
            "colorbar": {
             "outlinewidth": 0,
             "ticks": ""
            },
            "colorscale": [
             [
              0,
              "#0d0887"
             ],
             [
              0.1111111111111111,
              "#46039f"
             ],
             [
              0.2222222222222222,
              "#7201a8"
             ],
             [
              0.3333333333333333,
              "#9c179e"
             ],
             [
              0.4444444444444444,
              "#bd3786"
             ],
             [
              0.5555555555555556,
              "#d8576b"
             ],
             [
              0.6666666666666666,
              "#ed7953"
             ],
             [
              0.7777777777777778,
              "#fb9f3a"
             ],
             [
              0.8888888888888888,
              "#fdca26"
             ],
             [
              1,
              "#f0f921"
             ]
            ],
            "type": "histogram2d"
           }
          ],
          "histogram2dcontour": [
           {
            "colorbar": {
             "outlinewidth": 0,
             "ticks": ""
            },
            "colorscale": [
             [
              0,
              "#0d0887"
             ],
             [
              0.1111111111111111,
              "#46039f"
             ],
             [
              0.2222222222222222,
              "#7201a8"
             ],
             [
              0.3333333333333333,
              "#9c179e"
             ],
             [
              0.4444444444444444,
              "#bd3786"
             ],
             [
              0.5555555555555556,
              "#d8576b"
             ],
             [
              0.6666666666666666,
              "#ed7953"
             ],
             [
              0.7777777777777778,
              "#fb9f3a"
             ],
             [
              0.8888888888888888,
              "#fdca26"
             ],
             [
              1,
              "#f0f921"
             ]
            ],
            "type": "histogram2dcontour"
           }
          ],
          "mesh3d": [
           {
            "colorbar": {
             "outlinewidth": 0,
             "ticks": ""
            },
            "type": "mesh3d"
           }
          ],
          "parcoords": [
           {
            "line": {
             "colorbar": {
              "outlinewidth": 0,
              "ticks": ""
             }
            },
            "type": "parcoords"
           }
          ],
          "pie": [
           {
            "automargin": true,
            "type": "pie"
           }
          ],
          "scatter": [
           {
            "marker": {
             "colorbar": {
              "outlinewidth": 0,
              "ticks": ""
             }
            },
            "type": "scatter"
           }
          ],
          "scatter3d": [
           {
            "line": {
             "colorbar": {
              "outlinewidth": 0,
              "ticks": ""
             }
            },
            "marker": {
             "colorbar": {
              "outlinewidth": 0,
              "ticks": ""
             }
            },
            "type": "scatter3d"
           }
          ],
          "scattercarpet": [
           {
            "marker": {
             "colorbar": {
              "outlinewidth": 0,
              "ticks": ""
             }
            },
            "type": "scattercarpet"
           }
          ],
          "scattergeo": [
           {
            "marker": {
             "colorbar": {
              "outlinewidth": 0,
              "ticks": ""
             }
            },
            "type": "scattergeo"
           }
          ],
          "scattergl": [
           {
            "marker": {
             "colorbar": {
              "outlinewidth": 0,
              "ticks": ""
             }
            },
            "type": "scattergl"
           }
          ],
          "scattermapbox": [
           {
            "marker": {
             "colorbar": {
              "outlinewidth": 0,
              "ticks": ""
             }
            },
            "type": "scattermapbox"
           }
          ],
          "scatterpolar": [
           {
            "marker": {
             "colorbar": {
              "outlinewidth": 0,
              "ticks": ""
             }
            },
            "type": "scatterpolar"
           }
          ],
          "scatterpolargl": [
           {
            "marker": {
             "colorbar": {
              "outlinewidth": 0,
              "ticks": ""
             }
            },
            "type": "scatterpolargl"
           }
          ],
          "scatterternary": [
           {
            "marker": {
             "colorbar": {
              "outlinewidth": 0,
              "ticks": ""
             }
            },
            "type": "scatterternary"
           }
          ],
          "surface": [
           {
            "colorbar": {
             "outlinewidth": 0,
             "ticks": ""
            },
            "colorscale": [
             [
              0,
              "#0d0887"
             ],
             [
              0.1111111111111111,
              "#46039f"
             ],
             [
              0.2222222222222222,
              "#7201a8"
             ],
             [
              0.3333333333333333,
              "#9c179e"
             ],
             [
              0.4444444444444444,
              "#bd3786"
             ],
             [
              0.5555555555555556,
              "#d8576b"
             ],
             [
              0.6666666666666666,
              "#ed7953"
             ],
             [
              0.7777777777777778,
              "#fb9f3a"
             ],
             [
              0.8888888888888888,
              "#fdca26"
             ],
             [
              1,
              "#f0f921"
             ]
            ],
            "type": "surface"
           }
          ],
          "table": [
           {
            "cells": {
             "fill": {
              "color": "#EBF0F8"
             },
             "line": {
              "color": "white"
             }
            },
            "header": {
             "fill": {
              "color": "#C8D4E3"
             },
             "line": {
              "color": "white"
             }
            },
            "type": "table"
           }
          ]
         },
         "layout": {
          "annotationdefaults": {
           "arrowcolor": "#2a3f5f",
           "arrowhead": 0,
           "arrowwidth": 1
          },
          "autotypenumbers": "strict",
          "coloraxis": {
           "colorbar": {
            "outlinewidth": 0,
            "ticks": ""
           }
          },
          "colorscale": {
           "diverging": [
            [
             0,
             "#8e0152"
            ],
            [
             0.1,
             "#c51b7d"
            ],
            [
             0.2,
             "#de77ae"
            ],
            [
             0.3,
             "#f1b6da"
            ],
            [
             0.4,
             "#fde0ef"
            ],
            [
             0.5,
             "#f7f7f7"
            ],
            [
             0.6,
             "#e6f5d0"
            ],
            [
             0.7,
             "#b8e186"
            ],
            [
             0.8,
             "#7fbc41"
            ],
            [
             0.9,
             "#4d9221"
            ],
            [
             1,
             "#276419"
            ]
           ],
           "sequential": [
            [
             0,
             "#0d0887"
            ],
            [
             0.1111111111111111,
             "#46039f"
            ],
            [
             0.2222222222222222,
             "#7201a8"
            ],
            [
             0.3333333333333333,
             "#9c179e"
            ],
            [
             0.4444444444444444,
             "#bd3786"
            ],
            [
             0.5555555555555556,
             "#d8576b"
            ],
            [
             0.6666666666666666,
             "#ed7953"
            ],
            [
             0.7777777777777778,
             "#fb9f3a"
            ],
            [
             0.8888888888888888,
             "#fdca26"
            ],
            [
             1,
             "#f0f921"
            ]
           ],
           "sequentialminus": [
            [
             0,
             "#0d0887"
            ],
            [
             0.1111111111111111,
             "#46039f"
            ],
            [
             0.2222222222222222,
             "#7201a8"
            ],
            [
             0.3333333333333333,
             "#9c179e"
            ],
            [
             0.4444444444444444,
             "#bd3786"
            ],
            [
             0.5555555555555556,
             "#d8576b"
            ],
            [
             0.6666666666666666,
             "#ed7953"
            ],
            [
             0.7777777777777778,
             "#fb9f3a"
            ],
            [
             0.8888888888888888,
             "#fdca26"
            ],
            [
             1,
             "#f0f921"
            ]
           ]
          },
          "colorway": [
           "#636efa",
           "#EF553B",
           "#00cc96",
           "#ab63fa",
           "#FFA15A",
           "#19d3f3",
           "#FF6692",
           "#B6E880",
           "#FF97FF",
           "#FECB52"
          ],
          "font": {
           "color": "#2a3f5f"
          },
          "geo": {
           "bgcolor": "white",
           "lakecolor": "white",
           "landcolor": "#E5ECF6",
           "showlakes": true,
           "showland": true,
           "subunitcolor": "white"
          },
          "hoverlabel": {
           "align": "left"
          },
          "hovermode": "closest",
          "mapbox": {
           "style": "light"
          },
          "paper_bgcolor": "white",
          "plot_bgcolor": "#E5ECF6",
          "polar": {
           "angularaxis": {
            "gridcolor": "white",
            "linecolor": "white",
            "ticks": ""
           },
           "bgcolor": "#E5ECF6",
           "radialaxis": {
            "gridcolor": "white",
            "linecolor": "white",
            "ticks": ""
           }
          },
          "scene": {
           "xaxis": {
            "backgroundcolor": "#E5ECF6",
            "gridcolor": "white",
            "gridwidth": 2,
            "linecolor": "white",
            "showbackground": true,
            "ticks": "",
            "zerolinecolor": "white"
           },
           "yaxis": {
            "backgroundcolor": "#E5ECF6",
            "gridcolor": "white",
            "gridwidth": 2,
            "linecolor": "white",
            "showbackground": true,
            "ticks": "",
            "zerolinecolor": "white"
           },
           "zaxis": {
            "backgroundcolor": "#E5ECF6",
            "gridcolor": "white",
            "gridwidth": 2,
            "linecolor": "white",
            "showbackground": true,
            "ticks": "",
            "zerolinecolor": "white"
           }
          },
          "shapedefaults": {
           "line": {
            "color": "#2a3f5f"
           }
          },
          "ternary": {
           "aaxis": {
            "gridcolor": "white",
            "linecolor": "white",
            "ticks": ""
           },
           "baxis": {
            "gridcolor": "white",
            "linecolor": "white",
            "ticks": ""
           },
           "bgcolor": "#E5ECF6",
           "caxis": {
            "gridcolor": "white",
            "linecolor": "white",
            "ticks": ""
           }
          },
          "title": {
           "x": 0.05
          },
          "xaxis": {
           "automargin": true,
           "gridcolor": "white",
           "linecolor": "white",
           "ticks": "",
           "title": {
            "standoff": 15
           },
           "zerolinecolor": "white",
           "zerolinewidth": 2
          },
          "yaxis": {
           "automargin": true,
           "gridcolor": "white",
           "linecolor": "white",
           "ticks": "",
           "title": {
            "standoff": 15
           },
           "zerolinecolor": "white",
           "zerolinewidth": 2
          }
         }
        },
        "title": {
         "text": "Basic Sankey Diagram"
        }
       }
      },
      "text/html": [
       "<div>                            <div id=\"3d14a903-7cee-4675-8331-09da1b7badfd\" class=\"plotly-graph-div\" style=\"height:700px; width:100%;\"></div>            <script type=\"text/javascript\">                require([\"plotly\"], function(Plotly) {                    window.PLOTLYENV=window.PLOTLYENV || {};                                    if (document.getElementById(\"3d14a903-7cee-4675-8331-09da1b7badfd\")) {                    Plotly.newPlot(                        \"3d14a903-7cee-4675-8331-09da1b7badfd\",                        [{\"link\":{\"source\":[23,8,1,1,1,1,1,24,9,2,2,2,2,2,12,18,14,19,20],\"target\":[8,1,15,16,17,18,25,9,2,10,11,12,13,14,20,19,19,21,22],\"value\":[97.66199999999999,96.6335,27.605499999999996,0.0551985,0.01,0.01,11.795,242.17399999999998,237.736,14.158000000000001,83.6965,111.517,0.01,0.01,111.517,0.01,0.01,22.095499999999998,17.866500000000002]},\"node\":{\"label\":[\"\\u041e\\u0444\\u0438\\u0441\",\"\\u0412\\u0420\\u0423-3.1\",\"\\u0412\\u0420\\u0423-3.2\",\"\\u0412\\u0420\\u0423 2-\\u0433\\u043e \\u044d\\u0442\\u0430\\u0436\\u0430\",\"\\u0412\\u0420\\u0423 1-\\u0433\\u043e \\u044d\\u0442\\u0430\\u0436\\u0430\",\"\\u0428\\u043a\\u0430\\u0444 \\u0410\\u0412\\u0420\",\"\\u0421\\u0435\\u0440\\u0432\\u0435\\u0440\\u043d\\u0430\\u044f\",\"\\u041c\\u043e\\u0434\\u0443\\u043b\\u044c \\u0434\\u043e\\u0440\\u0430\\u0441\\u0447\\u0435\\u0442\\u043e\\u0432\",\"\\u0412\\u0432\\u043e\\u0434-1 (\\u043a\\u043e\\u043d\\u0442\\u0440.)\",\"\\u0412\\u0432\\u043e\\u0434-2 (\\u043a\\u043e\\u043d\\u0442\\u0440.)\",\"\\u0429\\u0412\\u041a 3.3 (\\u0412\\u0420\\u0423 3.2)\",\"\\u0429\\u0420 3.2 (\\u0412\\u0420\\u0423 3.2)\",\"\\u0429\\u0420\\u0421 2 (\\u0412\\u0420\\u0423 3.2)\",\"\\u0420\\u0435\\u0437\\u0435\\u0440\\u0432 (\\u0412\\u0420\\u0423 3.2)\",\"\\u0429\\u0410\\u0412\\u0420 (\\u0412\\u0420\\u0423 3.2)\",\"\\u0429\\u0412\\u041a 3.2 (\\u0412\\u0420\\u0423 3.1)\",\"\\u0429\\u0420 3.1 (\\u0412\\u0420\\u0423 3.1)\",\"\\u0420\\u0435\\u0437\\u0435\\u0440\\u0432 (\\u0412\\u0420\\u0423-3.1)\",\"\\u0429\\u0410\\u0412\\u0420 (\\u0412\\u0420\\u0423 3.1)\",\"\\u0429\\u0420\\u0421-1\",\"\\u0429\\u0420\\u0421-2\",\"\\u0428\\u043a\\u0430\\u0444 \\u0441\\u0435\\u0440\\u0432\\u0435\\u0440\\u043d\\u044b\\u0439 \\u21162  \\u0432\\u0432\\u043e\\u0434-1\",\"\\u0428\\u043a\\u0430\\u0444 \\u0441\\u0435\\u0440\\u0432\\u0435\\u0440\\u043d\\u044b\\u0439 \\u21162  \\u0432\\u0432\\u043e\\u0434-2\",\"\\u0412\\u0432\\u043e\\u0434-1 (\\u043a\\u043e\\u043c.)\",\"\\u0412\\u0432\\u043e\\u0434-2 (\\u043a\\u043e\\u043c.)\",\"\\u0429\\u0412\\u041a 3.1 (\\u0412\\u0420\\u0423 3.1)\",\"object-0\"],\"line\":{\"color\":\"black\",\"width\":0.5},\"pad\":15,\"thickness\":20},\"type\":\"sankey\",\"valuesuffix\":\" \\u043a\\u0412\\u0442\\u0447\"}],                        {\"font\":{\"color\":\"#f0f8ff\"},\"height\":700,\"margin\":{\"b\":30,\"l\":20,\"pad\":1,\"r\":20,\"t\":80},\"paper_bgcolor\":\"rgba(50,50,50,0.5)\",\"plot_bgcolor\":\"rgba(50,50,50,0.2)\",\"template\":{\"data\":{\"bar\":[{\"error_x\":{\"color\":\"#2a3f5f\"},\"error_y\":{\"color\":\"#2a3f5f\"},\"marker\":{\"line\":{\"color\":\"#E5ECF6\",\"width\":0.5},\"pattern\":{\"fillmode\":\"overlay\",\"size\":10,\"solidity\":0.2}},\"type\":\"bar\"}],\"barpolar\":[{\"marker\":{\"line\":{\"color\":\"#E5ECF6\",\"width\":0.5},\"pattern\":{\"fillmode\":\"overlay\",\"size\":10,\"solidity\":0.2}},\"type\":\"barpolar\"}],\"carpet\":[{\"aaxis\":{\"endlinecolor\":\"#2a3f5f\",\"gridcolor\":\"white\",\"linecolor\":\"white\",\"minorgridcolor\":\"white\",\"startlinecolor\":\"#2a3f5f\"},\"baxis\":{\"endlinecolor\":\"#2a3f5f\",\"gridcolor\":\"white\",\"linecolor\":\"white\",\"minorgridcolor\":\"white\",\"startlinecolor\":\"#2a3f5f\"},\"type\":\"carpet\"}],\"choropleth\":[{\"colorbar\":{\"outlinewidth\":0,\"ticks\":\"\"},\"type\":\"choropleth\"}],\"contour\":[{\"colorbar\":{\"outlinewidth\":0,\"ticks\":\"\"},\"colorscale\":[[0.0,\"#0d0887\"],[0.1111111111111111,\"#46039f\"],[0.2222222222222222,\"#7201a8\"],[0.3333333333333333,\"#9c179e\"],[0.4444444444444444,\"#bd3786\"],[0.5555555555555556,\"#d8576b\"],[0.6666666666666666,\"#ed7953\"],[0.7777777777777778,\"#fb9f3a\"],[0.8888888888888888,\"#fdca26\"],[1.0,\"#f0f921\"]],\"type\":\"contour\"}],\"contourcarpet\":[{\"colorbar\":{\"outlinewidth\":0,\"ticks\":\"\"},\"type\":\"contourcarpet\"}],\"heatmap\":[{\"colorbar\":{\"outlinewidth\":0,\"ticks\":\"\"},\"colorscale\":[[0.0,\"#0d0887\"],[0.1111111111111111,\"#46039f\"],[0.2222222222222222,\"#7201a8\"],[0.3333333333333333,\"#9c179e\"],[0.4444444444444444,\"#bd3786\"],[0.5555555555555556,\"#d8576b\"],[0.6666666666666666,\"#ed7953\"],[0.7777777777777778,\"#fb9f3a\"],[0.8888888888888888,\"#fdca26\"],[1.0,\"#f0f921\"]],\"type\":\"heatmap\"}],\"heatmapgl\":[{\"colorbar\":{\"outlinewidth\":0,\"ticks\":\"\"},\"colorscale\":[[0.0,\"#0d0887\"],[0.1111111111111111,\"#46039f\"],[0.2222222222222222,\"#7201a8\"],[0.3333333333333333,\"#9c179e\"],[0.4444444444444444,\"#bd3786\"],[0.5555555555555556,\"#d8576b\"],[0.6666666666666666,\"#ed7953\"],[0.7777777777777778,\"#fb9f3a\"],[0.8888888888888888,\"#fdca26\"],[1.0,\"#f0f921\"]],\"type\":\"heatmapgl\"}],\"histogram\":[{\"marker\":{\"pattern\":{\"fillmode\":\"overlay\",\"size\":10,\"solidity\":0.2}},\"type\":\"histogram\"}],\"histogram2d\":[{\"colorbar\":{\"outlinewidth\":0,\"ticks\":\"\"},\"colorscale\":[[0.0,\"#0d0887\"],[0.1111111111111111,\"#46039f\"],[0.2222222222222222,\"#7201a8\"],[0.3333333333333333,\"#9c179e\"],[0.4444444444444444,\"#bd3786\"],[0.5555555555555556,\"#d8576b\"],[0.6666666666666666,\"#ed7953\"],[0.7777777777777778,\"#fb9f3a\"],[0.8888888888888888,\"#fdca26\"],[1.0,\"#f0f921\"]],\"type\":\"histogram2d\"}],\"histogram2dcontour\":[{\"colorbar\":{\"outlinewidth\":0,\"ticks\":\"\"},\"colorscale\":[[0.0,\"#0d0887\"],[0.1111111111111111,\"#46039f\"],[0.2222222222222222,\"#7201a8\"],[0.3333333333333333,\"#9c179e\"],[0.4444444444444444,\"#bd3786\"],[0.5555555555555556,\"#d8576b\"],[0.6666666666666666,\"#ed7953\"],[0.7777777777777778,\"#fb9f3a\"],[0.8888888888888888,\"#fdca26\"],[1.0,\"#f0f921\"]],\"type\":\"histogram2dcontour\"}],\"mesh3d\":[{\"colorbar\":{\"outlinewidth\":0,\"ticks\":\"\"},\"type\":\"mesh3d\"}],\"parcoords\":[{\"line\":{\"colorbar\":{\"outlinewidth\":0,\"ticks\":\"\"}},\"type\":\"parcoords\"}],\"pie\":[{\"automargin\":true,\"type\":\"pie\"}],\"scatter\":[{\"marker\":{\"colorbar\":{\"outlinewidth\":0,\"ticks\":\"\"}},\"type\":\"scatter\"}],\"scatter3d\":[{\"line\":{\"colorbar\":{\"outlinewidth\":0,\"ticks\":\"\"}},\"marker\":{\"colorbar\":{\"outlinewidth\":0,\"ticks\":\"\"}},\"type\":\"scatter3d\"}],\"scattercarpet\":[{\"marker\":{\"colorbar\":{\"outlinewidth\":0,\"ticks\":\"\"}},\"type\":\"scattercarpet\"}],\"scattergeo\":[{\"marker\":{\"colorbar\":{\"outlinewidth\":0,\"ticks\":\"\"}},\"type\":\"scattergeo\"}],\"scattergl\":[{\"marker\":{\"colorbar\":{\"outlinewidth\":0,\"ticks\":\"\"}},\"type\":\"scattergl\"}],\"scattermapbox\":[{\"marker\":{\"colorbar\":{\"outlinewidth\":0,\"ticks\":\"\"}},\"type\":\"scattermapbox\"}],\"scatterpolar\":[{\"marker\":{\"colorbar\":{\"outlinewidth\":0,\"ticks\":\"\"}},\"type\":\"scatterpolar\"}],\"scatterpolargl\":[{\"marker\":{\"colorbar\":{\"outlinewidth\":0,\"ticks\":\"\"}},\"type\":\"scatterpolargl\"}],\"scatterternary\":[{\"marker\":{\"colorbar\":{\"outlinewidth\":0,\"ticks\":\"\"}},\"type\":\"scatterternary\"}],\"surface\":[{\"colorbar\":{\"outlinewidth\":0,\"ticks\":\"\"},\"colorscale\":[[0.0,\"#0d0887\"],[0.1111111111111111,\"#46039f\"],[0.2222222222222222,\"#7201a8\"],[0.3333333333333333,\"#9c179e\"],[0.4444444444444444,\"#bd3786\"],[0.5555555555555556,\"#d8576b\"],[0.6666666666666666,\"#ed7953\"],[0.7777777777777778,\"#fb9f3a\"],[0.8888888888888888,\"#fdca26\"],[1.0,\"#f0f921\"]],\"type\":\"surface\"}],\"table\":[{\"cells\":{\"fill\":{\"color\":\"#EBF0F8\"},\"line\":{\"color\":\"white\"}},\"header\":{\"fill\":{\"color\":\"#C8D4E3\"},\"line\":{\"color\":\"white\"}},\"type\":\"table\"}]},\"layout\":{\"annotationdefaults\":{\"arrowcolor\":\"#2a3f5f\",\"arrowhead\":0,\"arrowwidth\":1},\"autotypenumbers\":\"strict\",\"coloraxis\":{\"colorbar\":{\"outlinewidth\":0,\"ticks\":\"\"}},\"colorscale\":{\"diverging\":[[0,\"#8e0152\"],[0.1,\"#c51b7d\"],[0.2,\"#de77ae\"],[0.3,\"#f1b6da\"],[0.4,\"#fde0ef\"],[0.5,\"#f7f7f7\"],[0.6,\"#e6f5d0\"],[0.7,\"#b8e186\"],[0.8,\"#7fbc41\"],[0.9,\"#4d9221\"],[1,\"#276419\"]],\"sequential\":[[0.0,\"#0d0887\"],[0.1111111111111111,\"#46039f\"],[0.2222222222222222,\"#7201a8\"],[0.3333333333333333,\"#9c179e\"],[0.4444444444444444,\"#bd3786\"],[0.5555555555555556,\"#d8576b\"],[0.6666666666666666,\"#ed7953\"],[0.7777777777777778,\"#fb9f3a\"],[0.8888888888888888,\"#fdca26\"],[1.0,\"#f0f921\"]],\"sequentialminus\":[[0.0,\"#0d0887\"],[0.1111111111111111,\"#46039f\"],[0.2222222222222222,\"#7201a8\"],[0.3333333333333333,\"#9c179e\"],[0.4444444444444444,\"#bd3786\"],[0.5555555555555556,\"#d8576b\"],[0.6666666666666666,\"#ed7953\"],[0.7777777777777778,\"#fb9f3a\"],[0.8888888888888888,\"#fdca26\"],[1.0,\"#f0f921\"]]},\"colorway\":[\"#636efa\",\"#EF553B\",\"#00cc96\",\"#ab63fa\",\"#FFA15A\",\"#19d3f3\",\"#FF6692\",\"#B6E880\",\"#FF97FF\",\"#FECB52\"],\"font\":{\"color\":\"#2a3f5f\"},\"geo\":{\"bgcolor\":\"white\",\"lakecolor\":\"white\",\"landcolor\":\"#E5ECF6\",\"showlakes\":true,\"showland\":true,\"subunitcolor\":\"white\"},\"hoverlabel\":{\"align\":\"left\"},\"hovermode\":\"closest\",\"mapbox\":{\"style\":\"light\"},\"paper_bgcolor\":\"white\",\"plot_bgcolor\":\"#E5ECF6\",\"polar\":{\"angularaxis\":{\"gridcolor\":\"white\",\"linecolor\":\"white\",\"ticks\":\"\"},\"bgcolor\":\"#E5ECF6\",\"radialaxis\":{\"gridcolor\":\"white\",\"linecolor\":\"white\",\"ticks\":\"\"}},\"scene\":{\"xaxis\":{\"backgroundcolor\":\"#E5ECF6\",\"gridcolor\":\"white\",\"gridwidth\":2,\"linecolor\":\"white\",\"showbackground\":true,\"ticks\":\"\",\"zerolinecolor\":\"white\"},\"yaxis\":{\"backgroundcolor\":\"#E5ECF6\",\"gridcolor\":\"white\",\"gridwidth\":2,\"linecolor\":\"white\",\"showbackground\":true,\"ticks\":\"\",\"zerolinecolor\":\"white\"},\"zaxis\":{\"backgroundcolor\":\"#E5ECF6\",\"gridcolor\":\"white\",\"gridwidth\":2,\"linecolor\":\"white\",\"showbackground\":true,\"ticks\":\"\",\"zerolinecolor\":\"white\"}},\"shapedefaults\":{\"line\":{\"color\":\"#2a3f5f\"}},\"ternary\":{\"aaxis\":{\"gridcolor\":\"white\",\"linecolor\":\"white\",\"ticks\":\"\"},\"baxis\":{\"gridcolor\":\"white\",\"linecolor\":\"white\",\"ticks\":\"\"},\"bgcolor\":\"#E5ECF6\",\"caxis\":{\"gridcolor\":\"white\",\"linecolor\":\"white\",\"ticks\":\"\"}},\"title\":{\"x\":0.05},\"xaxis\":{\"automargin\":true,\"gridcolor\":\"white\",\"linecolor\":\"white\",\"ticks\":\"\",\"title\":{\"standoff\":15},\"zerolinecolor\":\"white\",\"zerolinewidth\":2},\"yaxis\":{\"automargin\":true,\"gridcolor\":\"white\",\"linecolor\":\"white\",\"ticks\":\"\",\"title\":{\"standoff\":15},\"zerolinecolor\":\"white\",\"zerolinewidth\":2}}},\"title\":{\"text\":\"Basic Sankey Diagram\"}},                        {\"responsive\": true}                    ).then(function(){\n",
       "                            \n",
       "var gd = document.getElementById('3d14a903-7cee-4675-8331-09da1b7badfd');\n",
       "var x = new MutationObserver(function (mutations, observer) {{\n",
       "        var display = window.getComputedStyle(gd).display;\n",
       "        if (!display || display === 'none') {{\n",
       "            console.log([gd, 'removed!']);\n",
       "            Plotly.purge(gd);\n",
       "            observer.disconnect();\n",
       "        }}\n",
       "}});\n",
       "\n",
       "// Listen for the removal of the full notebook cells\n",
       "var notebookContainer = gd.closest('#notebook-container');\n",
       "if (notebookContainer) {{\n",
       "    x.observe(notebookContainer, {childList: true});\n",
       "}}\n",
       "\n",
       "// Listen for the clearing of the current output cell\n",
       "var outputEl = gd.closest('.output');\n",
       "if (outputEl) {{\n",
       "    x.observe(outputEl, {childList: true});\n",
       "}}\n",
       "\n",
       "                        })                };                });            </script>        </div>"
      ]
     },
     "metadata": {},
     "output_type": "display_data"
    }
   ],
   "source": [
    "fig = go.Figure(data=[go.Sankey(\n",
    "    valuesuffix = \" кВтч\",\n",
    "    node = dict(\n",
    "      pad = 15,\n",
    "      thickness = 20,\n",
    "      line = dict(color = \"black\", width = 0.5),\n",
    "      label = names,\n",
    "      #color = \"blue\"\n",
    "    ),\n",
    "    link = dict(\n",
    "      source = source, # indices correspond to labels, eg A1, A2, A1, B1, ...\n",
    "      target = target,\n",
    "      value = value,\n",
    "      #label = names  \n",
    "  ))])\n",
    "#fig.update_layout(title_text=\"Basic Sankey Diagram\", font_size=10)\n",
    "\n",
    "fig.update_layout(height=700,\n",
    "                      font_color=colors['graph_font'],\n",
    "                      title_text='Basic Sankey Diagram',\n",
    "                      plot_bgcolor=colors['plot_area'],\n",
    "                      paper_bgcolor=colors['plot_background'],\n",
    "                      margin=dict(l=20, r=20, b=30, t=80, pad=1),\n",
    "                      )\n",
    "\n",
    "fig.show()\n"
   ]
  },
  {
   "cell_type": "code",
   "execution_count": 5,
   "id": "935ffea9",
   "metadata": {},
   "outputs": [
    {
     "data": {
      "text/html": [
       "<div>\n",
       "<style scoped>\n",
       "    .dataframe tbody tr th:only-of-type {\n",
       "        vertical-align: middle;\n",
       "    }\n",
       "\n",
       "    .dataframe tbody tr th {\n",
       "        vertical-align: top;\n",
       "    }\n",
       "\n",
       "    .dataframe thead th {\n",
       "        text-align: right;\n",
       "    }\n",
       "</style>\n",
       "<table border=\"1\" class=\"dataframe\">\n",
       "  <thead>\n",
       "    <tr style=\"text-align: right;\">\n",
       "      <th></th>\n",
       "      <th>id</th>\n",
       "      <th>name</th>\n",
       "      <th>parent</th>\n",
       "      <th>type</th>\n",
       "    </tr>\n",
       "  </thead>\n",
       "  <tbody>\n",
       "    <tr>\n",
       "      <th>0</th>\n",
       "      <td>object-1</td>\n",
       "      <td>Офис</td>\n",
       "      <td>object-0</td>\n",
       "      <td>1</td>\n",
       "    </tr>\n",
       "    <tr>\n",
       "      <th>1</th>\n",
       "      <td>object-2</td>\n",
       "      <td>ВРУ-3.1</td>\n",
       "      <td>object-1</td>\n",
       "      <td>1</td>\n",
       "    </tr>\n",
       "    <tr>\n",
       "      <th>2</th>\n",
       "      <td>object-3</td>\n",
       "      <td>ВРУ-3.2</td>\n",
       "      <td>object-1</td>\n",
       "      <td>1</td>\n",
       "    </tr>\n",
       "    <tr>\n",
       "      <th>3</th>\n",
       "      <td>object-4</td>\n",
       "      <td>ВРУ 2-го этажа</td>\n",
       "      <td>object-1</td>\n",
       "      <td>1</td>\n",
       "    </tr>\n",
       "    <tr>\n",
       "      <th>4</th>\n",
       "      <td>object-5</td>\n",
       "      <td>ВРУ 1-го этажа</td>\n",
       "      <td>object-1</td>\n",
       "      <td>1</td>\n",
       "    </tr>\n",
       "    <tr>\n",
       "      <th>5</th>\n",
       "      <td>object-21</td>\n",
       "      <td>Шкаф АВР</td>\n",
       "      <td>object-1</td>\n",
       "      <td>1</td>\n",
       "    </tr>\n",
       "    <tr>\n",
       "      <th>6</th>\n",
       "      <td>object-23</td>\n",
       "      <td>Серверная</td>\n",
       "      <td>object-1</td>\n",
       "      <td>1</td>\n",
       "    </tr>\n",
       "    <tr>\n",
       "      <th>7</th>\n",
       "      <td>device-0</td>\n",
       "      <td>Модуль дорасчетов</td>\n",
       "      <td>object-0</td>\n",
       "      <td>2</td>\n",
       "    </tr>\n",
       "    <tr>\n",
       "      <th>8</th>\n",
       "      <td>device-101</td>\n",
       "      <td>Ввод-1 (контр.)</td>\n",
       "      <td>object-2</td>\n",
       "      <td>2</td>\n",
       "    </tr>\n",
       "    <tr>\n",
       "      <th>9</th>\n",
       "      <td>device-102</td>\n",
       "      <td>Ввод-2 (контр.)</td>\n",
       "      <td>object-3</td>\n",
       "      <td>2</td>\n",
       "    </tr>\n",
       "    <tr>\n",
       "      <th>10</th>\n",
       "      <td>device-103</td>\n",
       "      <td>ЩВК 3.3 (ВРУ 3.2)</td>\n",
       "      <td>object-3</td>\n",
       "      <td>2</td>\n",
       "    </tr>\n",
       "    <tr>\n",
       "      <th>11</th>\n",
       "      <td>device-104</td>\n",
       "      <td>ЩР 3.2 (ВРУ 3.2)</td>\n",
       "      <td>object-3</td>\n",
       "      <td>2</td>\n",
       "    </tr>\n",
       "    <tr>\n",
       "      <th>12</th>\n",
       "      <td>device-105</td>\n",
       "      <td>ЩРС 2 (ВРУ 3.2)</td>\n",
       "      <td>object-3</td>\n",
       "      <td>2</td>\n",
       "    </tr>\n",
       "    <tr>\n",
       "      <th>13</th>\n",
       "      <td>device-106</td>\n",
       "      <td>Резерв (ВРУ 3.2)</td>\n",
       "      <td>object-3</td>\n",
       "      <td>2</td>\n",
       "    </tr>\n",
       "    <tr>\n",
       "      <th>14</th>\n",
       "      <td>device-107</td>\n",
       "      <td>ЩАВР (ВРУ 3.2)</td>\n",
       "      <td>object-3</td>\n",
       "      <td>2</td>\n",
       "    </tr>\n",
       "    <tr>\n",
       "      <th>15</th>\n",
       "      <td>device-109</td>\n",
       "      <td>ЩВК 3.2 (ВРУ 3.1)</td>\n",
       "      <td>object-2</td>\n",
       "      <td>2</td>\n",
       "    </tr>\n",
       "    <tr>\n",
       "      <th>16</th>\n",
       "      <td>device-110</td>\n",
       "      <td>ЩР 3.1 (ВРУ 3.1)</td>\n",
       "      <td>object-2</td>\n",
       "      <td>2</td>\n",
       "    </tr>\n",
       "    <tr>\n",
       "      <th>17</th>\n",
       "      <td>device-111</td>\n",
       "      <td>Резерв (ВРУ-3.1)</td>\n",
       "      <td>object-2</td>\n",
       "      <td>2</td>\n",
       "    </tr>\n",
       "    <tr>\n",
       "      <th>18</th>\n",
       "      <td>device-112</td>\n",
       "      <td>ЩАВР (ВРУ 3.1)</td>\n",
       "      <td>object-2</td>\n",
       "      <td>2</td>\n",
       "    </tr>\n",
       "    <tr>\n",
       "      <th>19</th>\n",
       "      <td>device-113</td>\n",
       "      <td>ЩРС-1</td>\n",
       "      <td>object-21</td>\n",
       "      <td>2</td>\n",
       "    </tr>\n",
       "    <tr>\n",
       "      <th>20</th>\n",
       "      <td>device-114</td>\n",
       "      <td>ЩРС-2</td>\n",
       "      <td>object-2</td>\n",
       "      <td>2</td>\n",
       "    </tr>\n",
       "    <tr>\n",
       "      <th>21</th>\n",
       "      <td>device-116</td>\n",
       "      <td>Шкаф серверный №2  ввод-1</td>\n",
       "      <td>object-23</td>\n",
       "      <td>2</td>\n",
       "    </tr>\n",
       "    <tr>\n",
       "      <th>22</th>\n",
       "      <td>device-117</td>\n",
       "      <td>Шкаф серверный №2  ввод-2</td>\n",
       "      <td>object-23</td>\n",
       "      <td>2</td>\n",
       "    </tr>\n",
       "    <tr>\n",
       "      <th>23</th>\n",
       "      <td>device-201</td>\n",
       "      <td>Ввод-1 (ком.)</td>\n",
       "      <td>object-5</td>\n",
       "      <td>2</td>\n",
       "    </tr>\n",
       "    <tr>\n",
       "      <th>24</th>\n",
       "      <td>device-202</td>\n",
       "      <td>Ввод-2 (ком.)</td>\n",
       "      <td>object-4</td>\n",
       "      <td>2</td>\n",
       "    </tr>\n",
       "    <tr>\n",
       "      <th>25</th>\n",
       "      <td>device-108</td>\n",
       "      <td>ЩВК 3.1 (ВРУ 3.1)</td>\n",
       "      <td>object-2</td>\n",
       "      <td>2</td>\n",
       "    </tr>\n",
       "  </tbody>\n",
       "</table>\n",
       "</div>"
      ],
      "text/plain": [
       "            id                       name     parent  type\n",
       "0     object-1                       Офис   object-0     1\n",
       "1     object-2                    ВРУ-3.1   object-1     1\n",
       "2     object-3                    ВРУ-3.2   object-1     1\n",
       "3     object-4             ВРУ 2-го этажа   object-1     1\n",
       "4     object-5             ВРУ 1-го этажа   object-1     1\n",
       "5    object-21                   Шкаф АВР   object-1     1\n",
       "6    object-23                  Серверная   object-1     1\n",
       "7     device-0          Модуль дорасчетов   object-0     2\n",
       "8   device-101            Ввод-1 (контр.)   object-2     2\n",
       "9   device-102            Ввод-2 (контр.)   object-3     2\n",
       "10  device-103          ЩВК 3.3 (ВРУ 3.2)   object-3     2\n",
       "11  device-104           ЩР 3.2 (ВРУ 3.2)   object-3     2\n",
       "12  device-105            ЩРС 2 (ВРУ 3.2)   object-3     2\n",
       "13  device-106           Резерв (ВРУ 3.2)   object-3     2\n",
       "14  device-107             ЩАВР (ВРУ 3.2)   object-3     2\n",
       "15  device-109          ЩВК 3.2 (ВРУ 3.1)   object-2     2\n",
       "16  device-110           ЩР 3.1 (ВРУ 3.1)   object-2     2\n",
       "17  device-111           Резерв (ВРУ-3.1)   object-2     2\n",
       "18  device-112             ЩАВР (ВРУ 3.1)   object-2     2\n",
       "19  device-113                      ЩРС-1  object-21     2\n",
       "20  device-114                      ЩРС-2   object-2     2\n",
       "21  device-116  Шкаф серверный №2  ввод-1  object-23     2\n",
       "22  device-117  Шкаф серверный №2  ввод-2  object-23     2\n",
       "23  device-201              Ввод-1 (ком.)   object-5     2\n",
       "24  device-202              Ввод-2 (ком.)   object-4     2\n",
       "25  device-108          ЩВК 3.1 (ВРУ 3.1)   object-2     2"
      ]
     },
     "execution_count": 5,
     "metadata": {},
     "output_type": "execute_result"
    }
   ],
   "source": [
    "tree = el.devices_tree()\n",
    "tree"
   ]
  },
  {
   "cell_type": "code",
   "execution_count": 7,
   "id": "e0b57759",
   "metadata": {},
   "outputs": [
    {
     "data": {
      "text/plain": [
       "8      34.5820\n",
       "9     236.6190\n",
       "10    102.4345\n",
       "11     46.5925\n",
       "12    140.2055\n",
       "13      0.0000\n",
       "14      0.0000\n",
       "25      0.3840\n",
       "15      0.3540\n",
       "16     33.3620\n",
       "17      0.0000\n",
       "18      0.0000\n",
       "19     23.2995\n",
       "20     18.3435\n",
       "21     23.2995\n",
       "22     23.2995\n",
       "23     34.6230\n",
       "24    236.5070\n",
       "dtype: float64"
      ]
     },
     "execution_count": 7,
     "metadata": {},
     "output_type": "execute_result"
    }
   ],
   "source": [
    "power_data = df.sum()\n",
    "power_data.index = [x.split('_')[0].replace('dev', 'device') for x in power_data.index]\n",
    "#power_data['device-110'] = power_data['device-110']/2000 \n",
    "#power_data['device-117'] = power_data['device-117']/10\n",
    "#power_data['device-109'] = power_data['device-109']/100\n",
    "\n",
    "power_data.index = power_data.index.map(map_dict)\n",
    "power_data"
   ]
  },
  {
   "cell_type": "code",
   "execution_count": 8,
   "id": "04ab4510",
   "metadata": {},
   "outputs": [],
   "source": [
    "records = [\n",
    "\n",
    "{'dev':23, 'children': [8]},\n",
    "{'dev':8, 'children': [1]},   \n",
    " {'dev':1, 'children': [15,16,17,18,25]},\n",
    " {'dev':24, 'children': [9]},\n",
    "{'dev':9, 'children': [2]},  \n",
    " {'dev':2, 'children': [10,11,12,13,14]},\n",
    " {'dev':12, 'children': [20]},\n",
    " {'dev':18, 'children': [19]},\n",
    " {'dev':14, 'children': [19]},\n",
    " {'dev':19, 'children': [21]},        \n",
    " {'dev':20, 'children': [22]},   \n",
    "]\n",
    "\n"
   ]
  },
  {
   "cell_type": "code",
   "execution_count": 9,
   "id": "8a812452",
   "metadata": {},
   "outputs": [],
   "source": [
    "records = [\n",
    "\n",
    "{'dev':23, 'children': [8]},\n",
    " {'dev':8, 'children': [15,16,17,18,25]},\n",
    " {'dev':24, 'children': [9]},\n",
    " {'dev':9, 'children': [10,11,12,13,14]},\n",
    " {'dev':12, 'children': [20]},\n",
    " {'dev':18, 'children': [19]},\n",
    " {'dev':14, 'children': [19]},\n",
    " {'dev':19, 'children': [21]},        \n",
    " {'dev':20, 'children': [22]},   \n",
    "]\n",
    "\n"
   ]
  },
  {
   "cell_type": "code",
   "execution_count": 10,
   "id": "f1328821",
   "metadata": {},
   "outputs": [],
   "source": [
    "source = []\n",
    "target = []\n",
    "value = []\n",
    "link_colors = []\n",
    "\n",
    "for record in records:\n",
    "    children = record['children']\n",
    "    device = record['dev']\n",
    "    values = []\n",
    "\n",
    "    if len(children) <= 1:\n",
    "        if device in power_data.index:\n",
    "            if power_data[device] != 0:\n",
    "                values.append(power_data[device])\n",
    "                link_colors.append(colors['active_link'])\n",
    "            else:\n",
    "                values.append(0.1)\n",
    "                link_colors.append(colors['disabled_link'])\n",
    "        else:\n",
    "            values.append(0.1)\n",
    "            link_colors.append(colors['disabled_link'])\n",
    "    else:\n",
    "        for child in children:\n",
    "            if child in power_data.index:\n",
    "                if power_data[child] != 0:\n",
    "                    values.append(power_data[child])\n",
    "                    link_colors.append(colors['active_link'])\n",
    "                else:\n",
    "                    values.append(0.1)\n",
    "                    link_colors.append(colors['disabled_link'])\n",
    "            else:\n",
    "                values.append(0.1)\n",
    "                link_colors.append(colors['disabled_link'])\n",
    "\n",
    "    node = [record['dev']] * len(children)\n",
    "\n",
    "    source.append(node)\n",
    "    target.append(children)\n",
    "    value.append(values)\n",
    "\n",
    "source = flatten(source)\n",
    "target = flatten(target)\n",
    "value = flatten(value)"
   ]
  },
  {
   "cell_type": "code",
   "execution_count": 11,
   "id": "577c03aa",
   "metadata": {},
   "outputs": [
    {
     "data": {
      "text/plain": [
       "[34.623,\n",
       " 0.354,\n",
       " 33.362,\n",
       " 0.1,\n",
       " 0.1,\n",
       " 0.384,\n",
       " 236.507,\n",
       " 102.4345,\n",
       " 46.5925,\n",
       " 140.2055,\n",
       " 0.1,\n",
       " 0.1,\n",
       " 140.2055,\n",
       " 0.1,\n",
       " 0.1,\n",
       " 23.2995,\n",
       " 18.3435]"
      ]
     },
     "execution_count": 11,
     "metadata": {},
     "output_type": "execute_result"
    }
   ],
   "source": [
    "value"
   ]
  },
  {
   "cell_type": "code",
   "execution_count": 12,
   "id": "6c22a79a",
   "metadata": {},
   "outputs": [],
   "source": [
    "names = tree.name.copy()\n",
    "names[8] = 'ВРУ-3.1'\n",
    "names[9] = 'ВРУ-3.2'\n",
    "names = names.values\n"
   ]
  },
  {
   "cell_type": "code",
   "execution_count": 13,
   "id": "12ea444b",
   "metadata": {},
   "outputs": [
    {
     "data": {
      "application/vnd.plotly.v1+json": {
       "config": {
        "plotlyServerURL": "https://plot.ly"
       },
       "data": [
        {
         "link": {
          "color": [
           "rgba(200,200,200,0.7)",
           "rgba(200,200,200,0.7)",
           "rgba(200,200,200,0.7)",
           "rgba(200,100,100,0.7)",
           "rgba(200,100,100,0.7)",
           "rgba(200,200,200,0.7)",
           "rgba(200,200,200,0.7)",
           "rgba(200,200,200,0.7)",
           "rgba(200,200,200,0.7)",
           "rgba(200,200,200,0.7)",
           "rgba(200,100,100,0.7)",
           "rgba(200,100,100,0.7)",
           "rgba(200,200,200,0.7)",
           "rgba(200,100,100,0.7)",
           "rgba(200,100,100,0.7)",
           "rgba(200,200,200,0.7)",
           "rgba(200,200,200,0.7)"
          ],
          "source": [
           23,
           8,
           8,
           8,
           8,
           8,
           24,
           9,
           9,
           9,
           9,
           9,
           12,
           18,
           14,
           19,
           20
          ],
          "target": [
           8,
           15,
           16,
           17,
           18,
           25,
           9,
           10,
           11,
           12,
           13,
           14,
           20,
           19,
           19,
           21,
           22
          ],
          "value": [
           34.623,
           0.354,
           33.362,
           0.1,
           0.1,
           0.384,
           236.507,
           102.4345,
           46.5925,
           140.2055,
           0.1,
           0.1,
           140.2055,
           0.1,
           0.1,
           23.2995,
           18.3435
          ]
         },
         "node": {
          "label": [
           "Офис",
           "ВРУ-3.1",
           "ВРУ-3.2",
           "ВРУ 2-го этажа",
           "ВРУ 1-го этажа",
           "Шкаф АВР",
           "Серверная",
           "Модуль дорасчетов",
           "ВРУ-3.1",
           "ВРУ-3.2",
           "ЩВК 3.3 (ВРУ 3.2)",
           "ЩР 3.2 (ВРУ 3.2)",
           "ЩРС 2 (ВРУ 3.2)",
           "Резерв (ВРУ 3.2)",
           "ЩАВР (ВРУ 3.2)",
           "ЩВК 3.2 (ВРУ 3.1)",
           "ЩР 3.1 (ВРУ 3.1)",
           "Резерв (ВРУ-3.1)",
           "ЩАВР (ВРУ 3.1)",
           "ЩРС-1",
           "ЩРС-2",
           "Шкаф серверный №2  ввод-1",
           "Шкаф серверный №2  ввод-2",
           "Ввод-1 (ком.)",
           "Ввод-2 (ком.)",
           "ЩВК 3.1 (ВРУ 3.1)"
          ],
          "line": {
           "color": "black",
           "width": 0.5
          },
          "pad": 15,
          "thickness": 20
         },
         "type": "sankey",
         "valuesuffix": " кВтч"
        }
       ],
       "layout": {
        "height": 500,
        "margin": {
         "b": 30,
         "l": 20,
         "pad": 1,
         "r": 20,
         "t": 80
        },
        "template": {
         "data": {
          "bar": [
           {
            "error_x": {
             "color": "#2a3f5f"
            },
            "error_y": {
             "color": "#2a3f5f"
            },
            "marker": {
             "line": {
              "color": "#E5ECF6",
              "width": 0.5
             },
             "pattern": {
              "fillmode": "overlay",
              "size": 10,
              "solidity": 0.2
             }
            },
            "type": "bar"
           }
          ],
          "barpolar": [
           {
            "marker": {
             "line": {
              "color": "#E5ECF6",
              "width": 0.5
             },
             "pattern": {
              "fillmode": "overlay",
              "size": 10,
              "solidity": 0.2
             }
            },
            "type": "barpolar"
           }
          ],
          "carpet": [
           {
            "aaxis": {
             "endlinecolor": "#2a3f5f",
             "gridcolor": "white",
             "linecolor": "white",
             "minorgridcolor": "white",
             "startlinecolor": "#2a3f5f"
            },
            "baxis": {
             "endlinecolor": "#2a3f5f",
             "gridcolor": "white",
             "linecolor": "white",
             "minorgridcolor": "white",
             "startlinecolor": "#2a3f5f"
            },
            "type": "carpet"
           }
          ],
          "choropleth": [
           {
            "colorbar": {
             "outlinewidth": 0,
             "ticks": ""
            },
            "type": "choropleth"
           }
          ],
          "contour": [
           {
            "colorbar": {
             "outlinewidth": 0,
             "ticks": ""
            },
            "colorscale": [
             [
              0,
              "#0d0887"
             ],
             [
              0.1111111111111111,
              "#46039f"
             ],
             [
              0.2222222222222222,
              "#7201a8"
             ],
             [
              0.3333333333333333,
              "#9c179e"
             ],
             [
              0.4444444444444444,
              "#bd3786"
             ],
             [
              0.5555555555555556,
              "#d8576b"
             ],
             [
              0.6666666666666666,
              "#ed7953"
             ],
             [
              0.7777777777777778,
              "#fb9f3a"
             ],
             [
              0.8888888888888888,
              "#fdca26"
             ],
             [
              1,
              "#f0f921"
             ]
            ],
            "type": "contour"
           }
          ],
          "contourcarpet": [
           {
            "colorbar": {
             "outlinewidth": 0,
             "ticks": ""
            },
            "type": "contourcarpet"
           }
          ],
          "heatmap": [
           {
            "colorbar": {
             "outlinewidth": 0,
             "ticks": ""
            },
            "colorscale": [
             [
              0,
              "#0d0887"
             ],
             [
              0.1111111111111111,
              "#46039f"
             ],
             [
              0.2222222222222222,
              "#7201a8"
             ],
             [
              0.3333333333333333,
              "#9c179e"
             ],
             [
              0.4444444444444444,
              "#bd3786"
             ],
             [
              0.5555555555555556,
              "#d8576b"
             ],
             [
              0.6666666666666666,
              "#ed7953"
             ],
             [
              0.7777777777777778,
              "#fb9f3a"
             ],
             [
              0.8888888888888888,
              "#fdca26"
             ],
             [
              1,
              "#f0f921"
             ]
            ],
            "type": "heatmap"
           }
          ],
          "heatmapgl": [
           {
            "colorbar": {
             "outlinewidth": 0,
             "ticks": ""
            },
            "colorscale": [
             [
              0,
              "#0d0887"
             ],
             [
              0.1111111111111111,
              "#46039f"
             ],
             [
              0.2222222222222222,
              "#7201a8"
             ],
             [
              0.3333333333333333,
              "#9c179e"
             ],
             [
              0.4444444444444444,
              "#bd3786"
             ],
             [
              0.5555555555555556,
              "#d8576b"
             ],
             [
              0.6666666666666666,
              "#ed7953"
             ],
             [
              0.7777777777777778,
              "#fb9f3a"
             ],
             [
              0.8888888888888888,
              "#fdca26"
             ],
             [
              1,
              "#f0f921"
             ]
            ],
            "type": "heatmapgl"
           }
          ],
          "histogram": [
           {
            "marker": {
             "pattern": {
              "fillmode": "overlay",
              "size": 10,
              "solidity": 0.2
             }
            },
            "type": "histogram"
           }
          ],
          "histogram2d": [
           {
            "colorbar": {
             "outlinewidth": 0,
             "ticks": ""
            },
            "colorscale": [
             [
              0,
              "#0d0887"
             ],
             [
              0.1111111111111111,
              "#46039f"
             ],
             [
              0.2222222222222222,
              "#7201a8"
             ],
             [
              0.3333333333333333,
              "#9c179e"
             ],
             [
              0.4444444444444444,
              "#bd3786"
             ],
             [
              0.5555555555555556,
              "#d8576b"
             ],
             [
              0.6666666666666666,
              "#ed7953"
             ],
             [
              0.7777777777777778,
              "#fb9f3a"
             ],
             [
              0.8888888888888888,
              "#fdca26"
             ],
             [
              1,
              "#f0f921"
             ]
            ],
            "type": "histogram2d"
           }
          ],
          "histogram2dcontour": [
           {
            "colorbar": {
             "outlinewidth": 0,
             "ticks": ""
            },
            "colorscale": [
             [
              0,
              "#0d0887"
             ],
             [
              0.1111111111111111,
              "#46039f"
             ],
             [
              0.2222222222222222,
              "#7201a8"
             ],
             [
              0.3333333333333333,
              "#9c179e"
             ],
             [
              0.4444444444444444,
              "#bd3786"
             ],
             [
              0.5555555555555556,
              "#d8576b"
             ],
             [
              0.6666666666666666,
              "#ed7953"
             ],
             [
              0.7777777777777778,
              "#fb9f3a"
             ],
             [
              0.8888888888888888,
              "#fdca26"
             ],
             [
              1,
              "#f0f921"
             ]
            ],
            "type": "histogram2dcontour"
           }
          ],
          "mesh3d": [
           {
            "colorbar": {
             "outlinewidth": 0,
             "ticks": ""
            },
            "type": "mesh3d"
           }
          ],
          "parcoords": [
           {
            "line": {
             "colorbar": {
              "outlinewidth": 0,
              "ticks": ""
             }
            },
            "type": "parcoords"
           }
          ],
          "pie": [
           {
            "automargin": true,
            "type": "pie"
           }
          ],
          "scatter": [
           {
            "marker": {
             "colorbar": {
              "outlinewidth": 0,
              "ticks": ""
             }
            },
            "type": "scatter"
           }
          ],
          "scatter3d": [
           {
            "line": {
             "colorbar": {
              "outlinewidth": 0,
              "ticks": ""
             }
            },
            "marker": {
             "colorbar": {
              "outlinewidth": 0,
              "ticks": ""
             }
            },
            "type": "scatter3d"
           }
          ],
          "scattercarpet": [
           {
            "marker": {
             "colorbar": {
              "outlinewidth": 0,
              "ticks": ""
             }
            },
            "type": "scattercarpet"
           }
          ],
          "scattergeo": [
           {
            "marker": {
             "colorbar": {
              "outlinewidth": 0,
              "ticks": ""
             }
            },
            "type": "scattergeo"
           }
          ],
          "scattergl": [
           {
            "marker": {
             "colorbar": {
              "outlinewidth": 0,
              "ticks": ""
             }
            },
            "type": "scattergl"
           }
          ],
          "scattermapbox": [
           {
            "marker": {
             "colorbar": {
              "outlinewidth": 0,
              "ticks": ""
             }
            },
            "type": "scattermapbox"
           }
          ],
          "scatterpolar": [
           {
            "marker": {
             "colorbar": {
              "outlinewidth": 0,
              "ticks": ""
             }
            },
            "type": "scatterpolar"
           }
          ],
          "scatterpolargl": [
           {
            "marker": {
             "colorbar": {
              "outlinewidth": 0,
              "ticks": ""
             }
            },
            "type": "scatterpolargl"
           }
          ],
          "scatterternary": [
           {
            "marker": {
             "colorbar": {
              "outlinewidth": 0,
              "ticks": ""
             }
            },
            "type": "scatterternary"
           }
          ],
          "surface": [
           {
            "colorbar": {
             "outlinewidth": 0,
             "ticks": ""
            },
            "colorscale": [
             [
              0,
              "#0d0887"
             ],
             [
              0.1111111111111111,
              "#46039f"
             ],
             [
              0.2222222222222222,
              "#7201a8"
             ],
             [
              0.3333333333333333,
              "#9c179e"
             ],
             [
              0.4444444444444444,
              "#bd3786"
             ],
             [
              0.5555555555555556,
              "#d8576b"
             ],
             [
              0.6666666666666666,
              "#ed7953"
             ],
             [
              0.7777777777777778,
              "#fb9f3a"
             ],
             [
              0.8888888888888888,
              "#fdca26"
             ],
             [
              1,
              "#f0f921"
             ]
            ],
            "type": "surface"
           }
          ],
          "table": [
           {
            "cells": {
             "fill": {
              "color": "#EBF0F8"
             },
             "line": {
              "color": "white"
             }
            },
            "header": {
             "fill": {
              "color": "#C8D4E3"
             },
             "line": {
              "color": "white"
             }
            },
            "type": "table"
           }
          ]
         },
         "layout": {
          "annotationdefaults": {
           "arrowcolor": "#2a3f5f",
           "arrowhead": 0,
           "arrowwidth": 1
          },
          "autotypenumbers": "strict",
          "coloraxis": {
           "colorbar": {
            "outlinewidth": 0,
            "ticks": ""
           }
          },
          "colorscale": {
           "diverging": [
            [
             0,
             "#8e0152"
            ],
            [
             0.1,
             "#c51b7d"
            ],
            [
             0.2,
             "#de77ae"
            ],
            [
             0.3,
             "#f1b6da"
            ],
            [
             0.4,
             "#fde0ef"
            ],
            [
             0.5,
             "#f7f7f7"
            ],
            [
             0.6,
             "#e6f5d0"
            ],
            [
             0.7,
             "#b8e186"
            ],
            [
             0.8,
             "#7fbc41"
            ],
            [
             0.9,
             "#4d9221"
            ],
            [
             1,
             "#276419"
            ]
           ],
           "sequential": [
            [
             0,
             "#0d0887"
            ],
            [
             0.1111111111111111,
             "#46039f"
            ],
            [
             0.2222222222222222,
             "#7201a8"
            ],
            [
             0.3333333333333333,
             "#9c179e"
            ],
            [
             0.4444444444444444,
             "#bd3786"
            ],
            [
             0.5555555555555556,
             "#d8576b"
            ],
            [
             0.6666666666666666,
             "#ed7953"
            ],
            [
             0.7777777777777778,
             "#fb9f3a"
            ],
            [
             0.8888888888888888,
             "#fdca26"
            ],
            [
             1,
             "#f0f921"
            ]
           ],
           "sequentialminus": [
            [
             0,
             "#0d0887"
            ],
            [
             0.1111111111111111,
             "#46039f"
            ],
            [
             0.2222222222222222,
             "#7201a8"
            ],
            [
             0.3333333333333333,
             "#9c179e"
            ],
            [
             0.4444444444444444,
             "#bd3786"
            ],
            [
             0.5555555555555556,
             "#d8576b"
            ],
            [
             0.6666666666666666,
             "#ed7953"
            ],
            [
             0.7777777777777778,
             "#fb9f3a"
            ],
            [
             0.8888888888888888,
             "#fdca26"
            ],
            [
             1,
             "#f0f921"
            ]
           ]
          },
          "colorway": [
           "#636efa",
           "#EF553B",
           "#00cc96",
           "#ab63fa",
           "#FFA15A",
           "#19d3f3",
           "#FF6692",
           "#B6E880",
           "#FF97FF",
           "#FECB52"
          ],
          "font": {
           "color": "#2a3f5f"
          },
          "geo": {
           "bgcolor": "white",
           "lakecolor": "white",
           "landcolor": "#E5ECF6",
           "showlakes": true,
           "showland": true,
           "subunitcolor": "white"
          },
          "hoverlabel": {
           "align": "left"
          },
          "hovermode": "closest",
          "mapbox": {
           "style": "light"
          },
          "paper_bgcolor": "white",
          "plot_bgcolor": "#E5ECF6",
          "polar": {
           "angularaxis": {
            "gridcolor": "white",
            "linecolor": "white",
            "ticks": ""
           },
           "bgcolor": "#E5ECF6",
           "radialaxis": {
            "gridcolor": "white",
            "linecolor": "white",
            "ticks": ""
           }
          },
          "scene": {
           "xaxis": {
            "backgroundcolor": "#E5ECF6",
            "gridcolor": "white",
            "gridwidth": 2,
            "linecolor": "white",
            "showbackground": true,
            "ticks": "",
            "zerolinecolor": "white"
           },
           "yaxis": {
            "backgroundcolor": "#E5ECF6",
            "gridcolor": "white",
            "gridwidth": 2,
            "linecolor": "white",
            "showbackground": true,
            "ticks": "",
            "zerolinecolor": "white"
           },
           "zaxis": {
            "backgroundcolor": "#E5ECF6",
            "gridcolor": "white",
            "gridwidth": 2,
            "linecolor": "white",
            "showbackground": true,
            "ticks": "",
            "zerolinecolor": "white"
           }
          },
          "shapedefaults": {
           "line": {
            "color": "#2a3f5f"
           }
          },
          "ternary": {
           "aaxis": {
            "gridcolor": "white",
            "linecolor": "white",
            "ticks": ""
           },
           "baxis": {
            "gridcolor": "white",
            "linecolor": "white",
            "ticks": ""
           },
           "bgcolor": "#E5ECF6",
           "caxis": {
            "gridcolor": "white",
            "linecolor": "white",
            "ticks": ""
           }
          },
          "title": {
           "x": 0.05
          },
          "xaxis": {
           "automargin": true,
           "gridcolor": "white",
           "linecolor": "white",
           "ticks": "",
           "title": {
            "standoff": 15
           },
           "zerolinecolor": "white",
           "zerolinewidth": 2
          },
          "yaxis": {
           "automargin": true,
           "gridcolor": "white",
           "linecolor": "white",
           "ticks": "",
           "title": {
            "standoff": 15
           },
           "zerolinecolor": "white",
           "zerolinewidth": 2
          }
         }
        },
        "title": {
         "text": "Basic Sankey Diagram"
        }
       }
      },
      "text/html": [
       "<div>                            <div id=\"b8417373-2c14-4b98-8246-7b711e4fa742\" class=\"plotly-graph-div\" style=\"height:500px; width:100%;\"></div>            <script type=\"text/javascript\">                require([\"plotly\"], function(Plotly) {                    window.PLOTLYENV=window.PLOTLYENV || {};                                    if (document.getElementById(\"b8417373-2c14-4b98-8246-7b711e4fa742\")) {                    Plotly.newPlot(                        \"b8417373-2c14-4b98-8246-7b711e4fa742\",                        [{\"link\":{\"color\":[\"rgba(200,200,200,0.7)\",\"rgba(200,200,200,0.7)\",\"rgba(200,200,200,0.7)\",\"rgba(200,100,100,0.7)\",\"rgba(200,100,100,0.7)\",\"rgba(200,200,200,0.7)\",\"rgba(200,200,200,0.7)\",\"rgba(200,200,200,0.7)\",\"rgba(200,200,200,0.7)\",\"rgba(200,200,200,0.7)\",\"rgba(200,100,100,0.7)\",\"rgba(200,100,100,0.7)\",\"rgba(200,200,200,0.7)\",\"rgba(200,100,100,0.7)\",\"rgba(200,100,100,0.7)\",\"rgba(200,200,200,0.7)\",\"rgba(200,200,200,0.7)\"],\"source\":[23,8,8,8,8,8,24,9,9,9,9,9,12,18,14,19,20],\"target\":[8,15,16,17,18,25,9,10,11,12,13,14,20,19,19,21,22],\"value\":[34.623,0.354,33.362,0.1,0.1,0.384,236.507,102.4345,46.5925,140.2055,0.1,0.1,140.2055,0.1,0.1,23.2995,18.3435]},\"node\":{\"label\":[\"\\u041e\\u0444\\u0438\\u0441\",\"\\u0412\\u0420\\u0423-3.1\",\"\\u0412\\u0420\\u0423-3.2\",\"\\u0412\\u0420\\u0423 2-\\u0433\\u043e \\u044d\\u0442\\u0430\\u0436\\u0430\",\"\\u0412\\u0420\\u0423 1-\\u0433\\u043e \\u044d\\u0442\\u0430\\u0436\\u0430\",\"\\u0428\\u043a\\u0430\\u0444 \\u0410\\u0412\\u0420\",\"\\u0421\\u0435\\u0440\\u0432\\u0435\\u0440\\u043d\\u0430\\u044f\",\"\\u041c\\u043e\\u0434\\u0443\\u043b\\u044c \\u0434\\u043e\\u0440\\u0430\\u0441\\u0447\\u0435\\u0442\\u043e\\u0432\",\"\\u0412\\u0420\\u0423-3.1\",\"\\u0412\\u0420\\u0423-3.2\",\"\\u0429\\u0412\\u041a 3.3 (\\u0412\\u0420\\u0423 3.2)\",\"\\u0429\\u0420 3.2 (\\u0412\\u0420\\u0423 3.2)\",\"\\u0429\\u0420\\u0421 2 (\\u0412\\u0420\\u0423 3.2)\",\"\\u0420\\u0435\\u0437\\u0435\\u0440\\u0432 (\\u0412\\u0420\\u0423 3.2)\",\"\\u0429\\u0410\\u0412\\u0420 (\\u0412\\u0420\\u0423 3.2)\",\"\\u0429\\u0412\\u041a 3.2 (\\u0412\\u0420\\u0423 3.1)\",\"\\u0429\\u0420 3.1 (\\u0412\\u0420\\u0423 3.1)\",\"\\u0420\\u0435\\u0437\\u0435\\u0440\\u0432 (\\u0412\\u0420\\u0423-3.1)\",\"\\u0429\\u0410\\u0412\\u0420 (\\u0412\\u0420\\u0423 3.1)\",\"\\u0429\\u0420\\u0421-1\",\"\\u0429\\u0420\\u0421-2\",\"\\u0428\\u043a\\u0430\\u0444 \\u0441\\u0435\\u0440\\u0432\\u0435\\u0440\\u043d\\u044b\\u0439 \\u21162  \\u0432\\u0432\\u043e\\u0434-1\",\"\\u0428\\u043a\\u0430\\u0444 \\u0441\\u0435\\u0440\\u0432\\u0435\\u0440\\u043d\\u044b\\u0439 \\u21162  \\u0432\\u0432\\u043e\\u0434-2\",\"\\u0412\\u0432\\u043e\\u0434-1 (\\u043a\\u043e\\u043c.)\",\"\\u0412\\u0432\\u043e\\u0434-2 (\\u043a\\u043e\\u043c.)\",\"\\u0429\\u0412\\u041a 3.1 (\\u0412\\u0420\\u0423 3.1)\"],\"line\":{\"color\":\"black\",\"width\":0.5},\"pad\":15,\"thickness\":20},\"type\":\"sankey\",\"valuesuffix\":\" \\u043a\\u0412\\u0442\\u0447\"}],                        {\"height\":500,\"margin\":{\"b\":30,\"l\":20,\"pad\":1,\"r\":20,\"t\":80},\"template\":{\"data\":{\"bar\":[{\"error_x\":{\"color\":\"#2a3f5f\"},\"error_y\":{\"color\":\"#2a3f5f\"},\"marker\":{\"line\":{\"color\":\"#E5ECF6\",\"width\":0.5},\"pattern\":{\"fillmode\":\"overlay\",\"size\":10,\"solidity\":0.2}},\"type\":\"bar\"}],\"barpolar\":[{\"marker\":{\"line\":{\"color\":\"#E5ECF6\",\"width\":0.5},\"pattern\":{\"fillmode\":\"overlay\",\"size\":10,\"solidity\":0.2}},\"type\":\"barpolar\"}],\"carpet\":[{\"aaxis\":{\"endlinecolor\":\"#2a3f5f\",\"gridcolor\":\"white\",\"linecolor\":\"white\",\"minorgridcolor\":\"white\",\"startlinecolor\":\"#2a3f5f\"},\"baxis\":{\"endlinecolor\":\"#2a3f5f\",\"gridcolor\":\"white\",\"linecolor\":\"white\",\"minorgridcolor\":\"white\",\"startlinecolor\":\"#2a3f5f\"},\"type\":\"carpet\"}],\"choropleth\":[{\"colorbar\":{\"outlinewidth\":0,\"ticks\":\"\"},\"type\":\"choropleth\"}],\"contour\":[{\"colorbar\":{\"outlinewidth\":0,\"ticks\":\"\"},\"colorscale\":[[0.0,\"#0d0887\"],[0.1111111111111111,\"#46039f\"],[0.2222222222222222,\"#7201a8\"],[0.3333333333333333,\"#9c179e\"],[0.4444444444444444,\"#bd3786\"],[0.5555555555555556,\"#d8576b\"],[0.6666666666666666,\"#ed7953\"],[0.7777777777777778,\"#fb9f3a\"],[0.8888888888888888,\"#fdca26\"],[1.0,\"#f0f921\"]],\"type\":\"contour\"}],\"contourcarpet\":[{\"colorbar\":{\"outlinewidth\":0,\"ticks\":\"\"},\"type\":\"contourcarpet\"}],\"heatmap\":[{\"colorbar\":{\"outlinewidth\":0,\"ticks\":\"\"},\"colorscale\":[[0.0,\"#0d0887\"],[0.1111111111111111,\"#46039f\"],[0.2222222222222222,\"#7201a8\"],[0.3333333333333333,\"#9c179e\"],[0.4444444444444444,\"#bd3786\"],[0.5555555555555556,\"#d8576b\"],[0.6666666666666666,\"#ed7953\"],[0.7777777777777778,\"#fb9f3a\"],[0.8888888888888888,\"#fdca26\"],[1.0,\"#f0f921\"]],\"type\":\"heatmap\"}],\"heatmapgl\":[{\"colorbar\":{\"outlinewidth\":0,\"ticks\":\"\"},\"colorscale\":[[0.0,\"#0d0887\"],[0.1111111111111111,\"#46039f\"],[0.2222222222222222,\"#7201a8\"],[0.3333333333333333,\"#9c179e\"],[0.4444444444444444,\"#bd3786\"],[0.5555555555555556,\"#d8576b\"],[0.6666666666666666,\"#ed7953\"],[0.7777777777777778,\"#fb9f3a\"],[0.8888888888888888,\"#fdca26\"],[1.0,\"#f0f921\"]],\"type\":\"heatmapgl\"}],\"histogram\":[{\"marker\":{\"pattern\":{\"fillmode\":\"overlay\",\"size\":10,\"solidity\":0.2}},\"type\":\"histogram\"}],\"histogram2d\":[{\"colorbar\":{\"outlinewidth\":0,\"ticks\":\"\"},\"colorscale\":[[0.0,\"#0d0887\"],[0.1111111111111111,\"#46039f\"],[0.2222222222222222,\"#7201a8\"],[0.3333333333333333,\"#9c179e\"],[0.4444444444444444,\"#bd3786\"],[0.5555555555555556,\"#d8576b\"],[0.6666666666666666,\"#ed7953\"],[0.7777777777777778,\"#fb9f3a\"],[0.8888888888888888,\"#fdca26\"],[1.0,\"#f0f921\"]],\"type\":\"histogram2d\"}],\"histogram2dcontour\":[{\"colorbar\":{\"outlinewidth\":0,\"ticks\":\"\"},\"colorscale\":[[0.0,\"#0d0887\"],[0.1111111111111111,\"#46039f\"],[0.2222222222222222,\"#7201a8\"],[0.3333333333333333,\"#9c179e\"],[0.4444444444444444,\"#bd3786\"],[0.5555555555555556,\"#d8576b\"],[0.6666666666666666,\"#ed7953\"],[0.7777777777777778,\"#fb9f3a\"],[0.8888888888888888,\"#fdca26\"],[1.0,\"#f0f921\"]],\"type\":\"histogram2dcontour\"}],\"mesh3d\":[{\"colorbar\":{\"outlinewidth\":0,\"ticks\":\"\"},\"type\":\"mesh3d\"}],\"parcoords\":[{\"line\":{\"colorbar\":{\"outlinewidth\":0,\"ticks\":\"\"}},\"type\":\"parcoords\"}],\"pie\":[{\"automargin\":true,\"type\":\"pie\"}],\"scatter\":[{\"marker\":{\"colorbar\":{\"outlinewidth\":0,\"ticks\":\"\"}},\"type\":\"scatter\"}],\"scatter3d\":[{\"line\":{\"colorbar\":{\"outlinewidth\":0,\"ticks\":\"\"}},\"marker\":{\"colorbar\":{\"outlinewidth\":0,\"ticks\":\"\"}},\"type\":\"scatter3d\"}],\"scattercarpet\":[{\"marker\":{\"colorbar\":{\"outlinewidth\":0,\"ticks\":\"\"}},\"type\":\"scattercarpet\"}],\"scattergeo\":[{\"marker\":{\"colorbar\":{\"outlinewidth\":0,\"ticks\":\"\"}},\"type\":\"scattergeo\"}],\"scattergl\":[{\"marker\":{\"colorbar\":{\"outlinewidth\":0,\"ticks\":\"\"}},\"type\":\"scattergl\"}],\"scattermapbox\":[{\"marker\":{\"colorbar\":{\"outlinewidth\":0,\"ticks\":\"\"}},\"type\":\"scattermapbox\"}],\"scatterpolar\":[{\"marker\":{\"colorbar\":{\"outlinewidth\":0,\"ticks\":\"\"}},\"type\":\"scatterpolar\"}],\"scatterpolargl\":[{\"marker\":{\"colorbar\":{\"outlinewidth\":0,\"ticks\":\"\"}},\"type\":\"scatterpolargl\"}],\"scatterternary\":[{\"marker\":{\"colorbar\":{\"outlinewidth\":0,\"ticks\":\"\"}},\"type\":\"scatterternary\"}],\"surface\":[{\"colorbar\":{\"outlinewidth\":0,\"ticks\":\"\"},\"colorscale\":[[0.0,\"#0d0887\"],[0.1111111111111111,\"#46039f\"],[0.2222222222222222,\"#7201a8\"],[0.3333333333333333,\"#9c179e\"],[0.4444444444444444,\"#bd3786\"],[0.5555555555555556,\"#d8576b\"],[0.6666666666666666,\"#ed7953\"],[0.7777777777777778,\"#fb9f3a\"],[0.8888888888888888,\"#fdca26\"],[1.0,\"#f0f921\"]],\"type\":\"surface\"}],\"table\":[{\"cells\":{\"fill\":{\"color\":\"#EBF0F8\"},\"line\":{\"color\":\"white\"}},\"header\":{\"fill\":{\"color\":\"#C8D4E3\"},\"line\":{\"color\":\"white\"}},\"type\":\"table\"}]},\"layout\":{\"annotationdefaults\":{\"arrowcolor\":\"#2a3f5f\",\"arrowhead\":0,\"arrowwidth\":1},\"autotypenumbers\":\"strict\",\"coloraxis\":{\"colorbar\":{\"outlinewidth\":0,\"ticks\":\"\"}},\"colorscale\":{\"diverging\":[[0,\"#8e0152\"],[0.1,\"#c51b7d\"],[0.2,\"#de77ae\"],[0.3,\"#f1b6da\"],[0.4,\"#fde0ef\"],[0.5,\"#f7f7f7\"],[0.6,\"#e6f5d0\"],[0.7,\"#b8e186\"],[0.8,\"#7fbc41\"],[0.9,\"#4d9221\"],[1,\"#276419\"]],\"sequential\":[[0.0,\"#0d0887\"],[0.1111111111111111,\"#46039f\"],[0.2222222222222222,\"#7201a8\"],[0.3333333333333333,\"#9c179e\"],[0.4444444444444444,\"#bd3786\"],[0.5555555555555556,\"#d8576b\"],[0.6666666666666666,\"#ed7953\"],[0.7777777777777778,\"#fb9f3a\"],[0.8888888888888888,\"#fdca26\"],[1.0,\"#f0f921\"]],\"sequentialminus\":[[0.0,\"#0d0887\"],[0.1111111111111111,\"#46039f\"],[0.2222222222222222,\"#7201a8\"],[0.3333333333333333,\"#9c179e\"],[0.4444444444444444,\"#bd3786\"],[0.5555555555555556,\"#d8576b\"],[0.6666666666666666,\"#ed7953\"],[0.7777777777777778,\"#fb9f3a\"],[0.8888888888888888,\"#fdca26\"],[1.0,\"#f0f921\"]]},\"colorway\":[\"#636efa\",\"#EF553B\",\"#00cc96\",\"#ab63fa\",\"#FFA15A\",\"#19d3f3\",\"#FF6692\",\"#B6E880\",\"#FF97FF\",\"#FECB52\"],\"font\":{\"color\":\"#2a3f5f\"},\"geo\":{\"bgcolor\":\"white\",\"lakecolor\":\"white\",\"landcolor\":\"#E5ECF6\",\"showlakes\":true,\"showland\":true,\"subunitcolor\":\"white\"},\"hoverlabel\":{\"align\":\"left\"},\"hovermode\":\"closest\",\"mapbox\":{\"style\":\"light\"},\"paper_bgcolor\":\"white\",\"plot_bgcolor\":\"#E5ECF6\",\"polar\":{\"angularaxis\":{\"gridcolor\":\"white\",\"linecolor\":\"white\",\"ticks\":\"\"},\"bgcolor\":\"#E5ECF6\",\"radialaxis\":{\"gridcolor\":\"white\",\"linecolor\":\"white\",\"ticks\":\"\"}},\"scene\":{\"xaxis\":{\"backgroundcolor\":\"#E5ECF6\",\"gridcolor\":\"white\",\"gridwidth\":2,\"linecolor\":\"white\",\"showbackground\":true,\"ticks\":\"\",\"zerolinecolor\":\"white\"},\"yaxis\":{\"backgroundcolor\":\"#E5ECF6\",\"gridcolor\":\"white\",\"gridwidth\":2,\"linecolor\":\"white\",\"showbackground\":true,\"ticks\":\"\",\"zerolinecolor\":\"white\"},\"zaxis\":{\"backgroundcolor\":\"#E5ECF6\",\"gridcolor\":\"white\",\"gridwidth\":2,\"linecolor\":\"white\",\"showbackground\":true,\"ticks\":\"\",\"zerolinecolor\":\"white\"}},\"shapedefaults\":{\"line\":{\"color\":\"#2a3f5f\"}},\"ternary\":{\"aaxis\":{\"gridcolor\":\"white\",\"linecolor\":\"white\",\"ticks\":\"\"},\"baxis\":{\"gridcolor\":\"white\",\"linecolor\":\"white\",\"ticks\":\"\"},\"bgcolor\":\"#E5ECF6\",\"caxis\":{\"gridcolor\":\"white\",\"linecolor\":\"white\",\"ticks\":\"\"}},\"title\":{\"x\":0.05},\"xaxis\":{\"automargin\":true,\"gridcolor\":\"white\",\"linecolor\":\"white\",\"ticks\":\"\",\"title\":{\"standoff\":15},\"zerolinecolor\":\"white\",\"zerolinewidth\":2},\"yaxis\":{\"automargin\":true,\"gridcolor\":\"white\",\"linecolor\":\"white\",\"ticks\":\"\",\"title\":{\"standoff\":15},\"zerolinecolor\":\"white\",\"zerolinewidth\":2}}},\"title\":{\"text\":\"Basic Sankey Diagram\"}},                        {\"responsive\": true}                    ).then(function(){\n",
       "                            \n",
       "var gd = document.getElementById('b8417373-2c14-4b98-8246-7b711e4fa742');\n",
       "var x = new MutationObserver(function (mutations, observer) {{\n",
       "        var display = window.getComputedStyle(gd).display;\n",
       "        if (!display || display === 'none') {{\n",
       "            console.log([gd, 'removed!']);\n",
       "            Plotly.purge(gd);\n",
       "            observer.disconnect();\n",
       "        }}\n",
       "}});\n",
       "\n",
       "// Listen for the removal of the full notebook cells\n",
       "var notebookContainer = gd.closest('#notebook-container');\n",
       "if (notebookContainer) {{\n",
       "    x.observe(notebookContainer, {childList: true});\n",
       "}}\n",
       "\n",
       "// Listen for the clearing of the current output cell\n",
       "var outputEl = gd.closest('.output');\n",
       "if (outputEl) {{\n",
       "    x.observe(outputEl, {childList: true});\n",
       "}}\n",
       "\n",
       "                        })                };                });            </script>        </div>"
      ]
     },
     "metadata": {},
     "output_type": "display_data"
    }
   ],
   "source": [
    "fig = go.Figure(data=[go.Sankey(\n",
    "    valuesuffix = \" кВтч\",\n",
    "    node = dict(\n",
    "      pad = 15,\n",
    "      thickness = 20,\n",
    "      line = dict(color = \"black\", width = 0.5),\n",
    "      label = names,\n",
    "      #color = \"blue\"\n",
    "    ),\n",
    "    link = dict(\n",
    "      source = source, # indices correspond to labels, eg A1, A2, A1, B1, ...\n",
    "      target = target,\n",
    "      value = value,\n",
    "      color = link_colors\n",
    "      #label = names  \n",
    "  ))])\n",
    "\n",
    "fig.update_layout(height=500,\n",
    "                      #font_color=colors['graph_font'],\n",
    "                      title_text='Basic Sankey Diagram',\n",
    "                      #plot_bgcolor=colors['plot_area'],\n",
    "                      #paper_bgcolor=colors['plot_background'],\n",
    "                      margin=dict(l=20, r=20, b=30, t=80, pad=1),\n",
    "                      )\n",
    "\n",
    "fig.show()\n"
   ]
  },
  {
   "cell_type": "code",
   "execution_count": 22,
   "id": "356122de",
   "metadata": {
    "collapsed": true
   },
   "outputs": [
    {
     "data": {
      "text/html": [
       "<div>\n",
       "<style scoped>\n",
       "    .dataframe tbody tr th:only-of-type {\n",
       "        vertical-align: middle;\n",
       "    }\n",
       "\n",
       "    .dataframe tbody tr th {\n",
       "        vertical-align: top;\n",
       "    }\n",
       "\n",
       "    .dataframe thead th {\n",
       "        text-align: right;\n",
       "    }\n",
       "</style>\n",
       "<table border=\"1\" class=\"dataframe\">\n",
       "  <thead>\n",
       "    <tr style=\"text-align: right;\">\n",
       "      <th></th>\n",
       "      <th>id</th>\n",
       "      <th>name</th>\n",
       "      <th>parent</th>\n",
       "      <th>type</th>\n",
       "    </tr>\n",
       "  </thead>\n",
       "  <tbody>\n",
       "    <tr>\n",
       "      <th>0</th>\n",
       "      <td>object-1</td>\n",
       "      <td>Офис</td>\n",
       "      <td>object-0</td>\n",
       "      <td>1</td>\n",
       "    </tr>\n",
       "    <tr>\n",
       "      <th>1</th>\n",
       "      <td>object-2</td>\n",
       "      <td>ВРУ-3.1</td>\n",
       "      <td>object-1</td>\n",
       "      <td>1</td>\n",
       "    </tr>\n",
       "    <tr>\n",
       "      <th>2</th>\n",
       "      <td>object-3</td>\n",
       "      <td>ВРУ-3.2</td>\n",
       "      <td>object-1</td>\n",
       "      <td>1</td>\n",
       "    </tr>\n",
       "    <tr>\n",
       "      <th>3</th>\n",
       "      <td>object-4</td>\n",
       "      <td>ВРУ 2-го этажа</td>\n",
       "      <td>object-1</td>\n",
       "      <td>1</td>\n",
       "    </tr>\n",
       "    <tr>\n",
       "      <th>4</th>\n",
       "      <td>object-5</td>\n",
       "      <td>ВРУ 1-го этажа</td>\n",
       "      <td>object-1</td>\n",
       "      <td>1</td>\n",
       "    </tr>\n",
       "    <tr>\n",
       "      <th>5</th>\n",
       "      <td>object-21</td>\n",
       "      <td>Шкаф АВР</td>\n",
       "      <td>object-1</td>\n",
       "      <td>1</td>\n",
       "    </tr>\n",
       "    <tr>\n",
       "      <th>6</th>\n",
       "      <td>object-23</td>\n",
       "      <td>Серверная</td>\n",
       "      <td>object-1</td>\n",
       "      <td>1</td>\n",
       "    </tr>\n",
       "    <tr>\n",
       "      <th>7</th>\n",
       "      <td>device-0</td>\n",
       "      <td>Модуль дорасчетов</td>\n",
       "      <td>object-0</td>\n",
       "      <td>2</td>\n",
       "    </tr>\n",
       "    <tr>\n",
       "      <th>8</th>\n",
       "      <td>device-101</td>\n",
       "      <td>Ввод-1 (контр.)</td>\n",
       "      <td>object-2</td>\n",
       "      <td>2</td>\n",
       "    </tr>\n",
       "    <tr>\n",
       "      <th>9</th>\n",
       "      <td>device-102</td>\n",
       "      <td>Ввод-2 (контр.)</td>\n",
       "      <td>object-3</td>\n",
       "      <td>2</td>\n",
       "    </tr>\n",
       "    <tr>\n",
       "      <th>10</th>\n",
       "      <td>device-103</td>\n",
       "      <td>ЩВК 3.3 (ВРУ 3.2)</td>\n",
       "      <td>object-3</td>\n",
       "      <td>2</td>\n",
       "    </tr>\n",
       "    <tr>\n",
       "      <th>11</th>\n",
       "      <td>device-104</td>\n",
       "      <td>ЩР 3.2 (ВРУ 3.2)</td>\n",
       "      <td>object-3</td>\n",
       "      <td>2</td>\n",
       "    </tr>\n",
       "    <tr>\n",
       "      <th>12</th>\n",
       "      <td>device-105</td>\n",
       "      <td>ЩРС 2 (ВРУ 3.2)</td>\n",
       "      <td>object-3</td>\n",
       "      <td>2</td>\n",
       "    </tr>\n",
       "    <tr>\n",
       "      <th>13</th>\n",
       "      <td>device-106</td>\n",
       "      <td>Резерв (ВРУ 3.2)</td>\n",
       "      <td>object-3</td>\n",
       "      <td>2</td>\n",
       "    </tr>\n",
       "    <tr>\n",
       "      <th>14</th>\n",
       "      <td>device-107</td>\n",
       "      <td>ЩАВР (ВРУ 3.2)</td>\n",
       "      <td>object-3</td>\n",
       "      <td>2</td>\n",
       "    </tr>\n",
       "    <tr>\n",
       "      <th>15</th>\n",
       "      <td>device-109</td>\n",
       "      <td>ЩВК 3.2 (ВРУ 3.1)</td>\n",
       "      <td>object-2</td>\n",
       "      <td>2</td>\n",
       "    </tr>\n",
       "    <tr>\n",
       "      <th>16</th>\n",
       "      <td>device-110</td>\n",
       "      <td>ЩР 3.1 (ВРУ 3.1)</td>\n",
       "      <td>object-2</td>\n",
       "      <td>2</td>\n",
       "    </tr>\n",
       "    <tr>\n",
       "      <th>17</th>\n",
       "      <td>device-111</td>\n",
       "      <td>Резерв (ВРУ-3.1)</td>\n",
       "      <td>object-2</td>\n",
       "      <td>2</td>\n",
       "    </tr>\n",
       "    <tr>\n",
       "      <th>18</th>\n",
       "      <td>device-112</td>\n",
       "      <td>ЩАВР (ВРУ 3.1)</td>\n",
       "      <td>object-2</td>\n",
       "      <td>2</td>\n",
       "    </tr>\n",
       "    <tr>\n",
       "      <th>19</th>\n",
       "      <td>device-113</td>\n",
       "      <td>ЩРС-1</td>\n",
       "      <td>object-21</td>\n",
       "      <td>2</td>\n",
       "    </tr>\n",
       "    <tr>\n",
       "      <th>20</th>\n",
       "      <td>device-114</td>\n",
       "      <td>ЩРС-2</td>\n",
       "      <td>object-2</td>\n",
       "      <td>2</td>\n",
       "    </tr>\n",
       "    <tr>\n",
       "      <th>21</th>\n",
       "      <td>device-116</td>\n",
       "      <td>Шкаф серверный №2  ввод-1</td>\n",
       "      <td>object-23</td>\n",
       "      <td>2</td>\n",
       "    </tr>\n",
       "    <tr>\n",
       "      <th>22</th>\n",
       "      <td>device-117</td>\n",
       "      <td>Шкаф серверный №2  ввод-2</td>\n",
       "      <td>object-23</td>\n",
       "      <td>2</td>\n",
       "    </tr>\n",
       "    <tr>\n",
       "      <th>23</th>\n",
       "      <td>device-201</td>\n",
       "      <td>Ввод-1 (ком.)</td>\n",
       "      <td>object-5</td>\n",
       "      <td>2</td>\n",
       "    </tr>\n",
       "    <tr>\n",
       "      <th>24</th>\n",
       "      <td>device-202</td>\n",
       "      <td>Ввод-2 (ком.)</td>\n",
       "      <td>object-4</td>\n",
       "      <td>2</td>\n",
       "    </tr>\n",
       "    <tr>\n",
       "      <th>25</th>\n",
       "      <td>device-108</td>\n",
       "      <td>ЩВК 3.1 (ВРУ 3.1)</td>\n",
       "      <td>object-2</td>\n",
       "      <td>2</td>\n",
       "    </tr>\n",
       "  </tbody>\n",
       "</table>\n",
       "</div>"
      ],
      "text/plain": [
       "            id                       name     parent  type\n",
       "0     object-1                       Офис   object-0     1\n",
       "1     object-2                    ВРУ-3.1   object-1     1\n",
       "2     object-3                    ВРУ-3.2   object-1     1\n",
       "3     object-4             ВРУ 2-го этажа   object-1     1\n",
       "4     object-5             ВРУ 1-го этажа   object-1     1\n",
       "5    object-21                   Шкаф АВР   object-1     1\n",
       "6    object-23                  Серверная   object-1     1\n",
       "7     device-0          Модуль дорасчетов   object-0     2\n",
       "8   device-101            Ввод-1 (контр.)   object-2     2\n",
       "9   device-102            Ввод-2 (контр.)   object-3     2\n",
       "10  device-103          ЩВК 3.3 (ВРУ 3.2)   object-3     2\n",
       "11  device-104           ЩР 3.2 (ВРУ 3.2)   object-3     2\n",
       "12  device-105            ЩРС 2 (ВРУ 3.2)   object-3     2\n",
       "13  device-106           Резерв (ВРУ 3.2)   object-3     2\n",
       "14  device-107             ЩАВР (ВРУ 3.2)   object-3     2\n",
       "15  device-109          ЩВК 3.2 (ВРУ 3.1)   object-2     2\n",
       "16  device-110           ЩР 3.1 (ВРУ 3.1)   object-2     2\n",
       "17  device-111           Резерв (ВРУ-3.1)   object-2     2\n",
       "18  device-112             ЩАВР (ВРУ 3.1)   object-2     2\n",
       "19  device-113                      ЩРС-1  object-21     2\n",
       "20  device-114                      ЩРС-2   object-2     2\n",
       "21  device-116  Шкаф серверный №2  ввод-1  object-23     2\n",
       "22  device-117  Шкаф серверный №2  ввод-2  object-23     2\n",
       "23  device-201              Ввод-1 (ком.)   object-5     2\n",
       "24  device-202              Ввод-2 (ком.)   object-4     2\n",
       "25  device-108          ЩВК 3.1 (ВРУ 3.1)   object-2     2"
      ]
     },
     "execution_count": 22,
     "metadata": {},
     "output_type": "execute_result"
    }
   ],
   "source": [
    "tree"
   ]
  },
  {
   "cell_type": "code",
   "execution_count": 14,
   "id": "8ddcbcd7",
   "metadata": {
    "scrolled": false
   },
   "outputs": [
    {
     "data": {
      "text/html": [
       "<div>\n",
       "<style scoped>\n",
       "    .dataframe tbody tr th:only-of-type {\n",
       "        vertical-align: middle;\n",
       "    }\n",
       "\n",
       "    .dataframe tbody tr th {\n",
       "        vertical-align: top;\n",
       "    }\n",
       "\n",
       "    .dataframe thead th {\n",
       "        text-align: right;\n",
       "    }\n",
       "</style>\n",
       "<table border=\"1\" class=\"dataframe\">\n",
       "  <thead>\n",
       "    <tr style=\"text-align: right;\">\n",
       "      <th></th>\n",
       "      <th>0</th>\n",
       "      <th>id</th>\n",
       "      <th>name</th>\n",
       "      <th>parent</th>\n",
       "      <th>type</th>\n",
       "    </tr>\n",
       "  </thead>\n",
       "  <tbody>\n",
       "    <tr>\n",
       "      <th>0</th>\n",
       "      <td>NaN</td>\n",
       "      <td>object-1</td>\n",
       "      <td>Офис</td>\n",
       "      <td>object-0</td>\n",
       "      <td>1</td>\n",
       "    </tr>\n",
       "    <tr>\n",
       "      <th>1</th>\n",
       "      <td>NaN</td>\n",
       "      <td>object-2</td>\n",
       "      <td>ВРУ-3.1</td>\n",
       "      <td>object-1</td>\n",
       "      <td>1</td>\n",
       "    </tr>\n",
       "    <tr>\n",
       "      <th>2</th>\n",
       "      <td>NaN</td>\n",
       "      <td>object-3</td>\n",
       "      <td>ВРУ-3.2</td>\n",
       "      <td>object-1</td>\n",
       "      <td>1</td>\n",
       "    </tr>\n",
       "    <tr>\n",
       "      <th>3</th>\n",
       "      <td>NaN</td>\n",
       "      <td>object-4</td>\n",
       "      <td>ВРУ 2-го этажа</td>\n",
       "      <td>object-1</td>\n",
       "      <td>1</td>\n",
       "    </tr>\n",
       "    <tr>\n",
       "      <th>4</th>\n",
       "      <td>NaN</td>\n",
       "      <td>object-5</td>\n",
       "      <td>ВРУ 1-го этажа</td>\n",
       "      <td>object-1</td>\n",
       "      <td>1</td>\n",
       "    </tr>\n",
       "    <tr>\n",
       "      <th>5</th>\n",
       "      <td>NaN</td>\n",
       "      <td>object-21</td>\n",
       "      <td>Шкаф АВР</td>\n",
       "      <td>object-1</td>\n",
       "      <td>1</td>\n",
       "    </tr>\n",
       "    <tr>\n",
       "      <th>6</th>\n",
       "      <td>NaN</td>\n",
       "      <td>object-23</td>\n",
       "      <td>Серверная</td>\n",
       "      <td>object-1</td>\n",
       "      <td>1</td>\n",
       "    </tr>\n",
       "    <tr>\n",
       "      <th>7</th>\n",
       "      <td>NaN</td>\n",
       "      <td>device-0</td>\n",
       "      <td>Модуль дорасчетов</td>\n",
       "      <td>object-0</td>\n",
       "      <td>2</td>\n",
       "    </tr>\n",
       "    <tr>\n",
       "      <th>8</th>\n",
       "      <td>34.5820</td>\n",
       "      <td>device-101</td>\n",
       "      <td>Ввод-1 (контр.)</td>\n",
       "      <td>object-2</td>\n",
       "      <td>2</td>\n",
       "    </tr>\n",
       "    <tr>\n",
       "      <th>9</th>\n",
       "      <td>236.6190</td>\n",
       "      <td>device-102</td>\n",
       "      <td>Ввод-2 (контр.)</td>\n",
       "      <td>object-3</td>\n",
       "      <td>2</td>\n",
       "    </tr>\n",
       "    <tr>\n",
       "      <th>10</th>\n",
       "      <td>102.4345</td>\n",
       "      <td>device-103</td>\n",
       "      <td>ЩВК 3.3 (ВРУ 3.2)</td>\n",
       "      <td>object-3</td>\n",
       "      <td>2</td>\n",
       "    </tr>\n",
       "    <tr>\n",
       "      <th>11</th>\n",
       "      <td>46.5925</td>\n",
       "      <td>device-104</td>\n",
       "      <td>ЩР 3.2 (ВРУ 3.2)</td>\n",
       "      <td>object-3</td>\n",
       "      <td>2</td>\n",
       "    </tr>\n",
       "    <tr>\n",
       "      <th>12</th>\n",
       "      <td>140.2055</td>\n",
       "      <td>device-105</td>\n",
       "      <td>ЩРС 2 (ВРУ 3.2)</td>\n",
       "      <td>object-3</td>\n",
       "      <td>2</td>\n",
       "    </tr>\n",
       "    <tr>\n",
       "      <th>13</th>\n",
       "      <td>0.0000</td>\n",
       "      <td>device-106</td>\n",
       "      <td>Резерв (ВРУ 3.2)</td>\n",
       "      <td>object-3</td>\n",
       "      <td>2</td>\n",
       "    </tr>\n",
       "    <tr>\n",
       "      <th>14</th>\n",
       "      <td>0.0000</td>\n",
       "      <td>device-107</td>\n",
       "      <td>ЩАВР (ВРУ 3.2)</td>\n",
       "      <td>object-3</td>\n",
       "      <td>2</td>\n",
       "    </tr>\n",
       "    <tr>\n",
       "      <th>15</th>\n",
       "      <td>0.3540</td>\n",
       "      <td>device-109</td>\n",
       "      <td>ЩВК 3.2 (ВРУ 3.1)</td>\n",
       "      <td>object-2</td>\n",
       "      <td>2</td>\n",
       "    </tr>\n",
       "    <tr>\n",
       "      <th>16</th>\n",
       "      <td>33.3620</td>\n",
       "      <td>device-110</td>\n",
       "      <td>ЩР 3.1 (ВРУ 3.1)</td>\n",
       "      <td>object-2</td>\n",
       "      <td>2</td>\n",
       "    </tr>\n",
       "    <tr>\n",
       "      <th>17</th>\n",
       "      <td>0.0000</td>\n",
       "      <td>device-111</td>\n",
       "      <td>Резерв (ВРУ-3.1)</td>\n",
       "      <td>object-2</td>\n",
       "      <td>2</td>\n",
       "    </tr>\n",
       "    <tr>\n",
       "      <th>18</th>\n",
       "      <td>0.0000</td>\n",
       "      <td>device-112</td>\n",
       "      <td>ЩАВР (ВРУ 3.1)</td>\n",
       "      <td>object-2</td>\n",
       "      <td>2</td>\n",
       "    </tr>\n",
       "    <tr>\n",
       "      <th>19</th>\n",
       "      <td>23.2995</td>\n",
       "      <td>device-113</td>\n",
       "      <td>ЩРС-1</td>\n",
       "      <td>object-21</td>\n",
       "      <td>2</td>\n",
       "    </tr>\n",
       "    <tr>\n",
       "      <th>20</th>\n",
       "      <td>18.3435</td>\n",
       "      <td>device-114</td>\n",
       "      <td>ЩРС-2</td>\n",
       "      <td>object-2</td>\n",
       "      <td>2</td>\n",
       "    </tr>\n",
       "    <tr>\n",
       "      <th>21</th>\n",
       "      <td>23.2995</td>\n",
       "      <td>device-116</td>\n",
       "      <td>Шкаф серверный №2  ввод-1</td>\n",
       "      <td>object-23</td>\n",
       "      <td>2</td>\n",
       "    </tr>\n",
       "    <tr>\n",
       "      <th>22</th>\n",
       "      <td>23.2995</td>\n",
       "      <td>device-117</td>\n",
       "      <td>Шкаф серверный №2  ввод-2</td>\n",
       "      <td>object-23</td>\n",
       "      <td>2</td>\n",
       "    </tr>\n",
       "    <tr>\n",
       "      <th>23</th>\n",
       "      <td>34.6230</td>\n",
       "      <td>device-201</td>\n",
       "      <td>Ввод-1 (ком.)</td>\n",
       "      <td>object-5</td>\n",
       "      <td>2</td>\n",
       "    </tr>\n",
       "    <tr>\n",
       "      <th>24</th>\n",
       "      <td>236.5070</td>\n",
       "      <td>device-202</td>\n",
       "      <td>Ввод-2 (ком.)</td>\n",
       "      <td>object-4</td>\n",
       "      <td>2</td>\n",
       "    </tr>\n",
       "    <tr>\n",
       "      <th>25</th>\n",
       "      <td>0.3840</td>\n",
       "      <td>device-108</td>\n",
       "      <td>ЩВК 3.1 (ВРУ 3.1)</td>\n",
       "      <td>object-2</td>\n",
       "      <td>2</td>\n",
       "    </tr>\n",
       "  </tbody>\n",
       "</table>\n",
       "</div>"
      ],
      "text/plain": [
       "           0          id                       name     parent  type\n",
       "0        NaN    object-1                       Офис   object-0     1\n",
       "1        NaN    object-2                    ВРУ-3.1   object-1     1\n",
       "2        NaN    object-3                    ВРУ-3.2   object-1     1\n",
       "3        NaN    object-4             ВРУ 2-го этажа   object-1     1\n",
       "4        NaN    object-5             ВРУ 1-го этажа   object-1     1\n",
       "5        NaN   object-21                   Шкаф АВР   object-1     1\n",
       "6        NaN   object-23                  Серверная   object-1     1\n",
       "7        NaN    device-0          Модуль дорасчетов   object-0     2\n",
       "8    34.5820  device-101            Ввод-1 (контр.)   object-2     2\n",
       "9   236.6190  device-102            Ввод-2 (контр.)   object-3     2\n",
       "10  102.4345  device-103          ЩВК 3.3 (ВРУ 3.2)   object-3     2\n",
       "11   46.5925  device-104           ЩР 3.2 (ВРУ 3.2)   object-3     2\n",
       "12  140.2055  device-105            ЩРС 2 (ВРУ 3.2)   object-3     2\n",
       "13    0.0000  device-106           Резерв (ВРУ 3.2)   object-3     2\n",
       "14    0.0000  device-107             ЩАВР (ВРУ 3.2)   object-3     2\n",
       "15    0.3540  device-109          ЩВК 3.2 (ВРУ 3.1)   object-2     2\n",
       "16   33.3620  device-110           ЩР 3.1 (ВРУ 3.1)   object-2     2\n",
       "17    0.0000  device-111           Резерв (ВРУ-3.1)   object-2     2\n",
       "18    0.0000  device-112             ЩАВР (ВРУ 3.1)   object-2     2\n",
       "19   23.2995  device-113                      ЩРС-1  object-21     2\n",
       "20   18.3435  device-114                      ЩРС-2   object-2     2\n",
       "21   23.2995  device-116  Шкаф серверный №2  ввод-1  object-23     2\n",
       "22   23.2995  device-117  Шкаф серверный №2  ввод-2  object-23     2\n",
       "23   34.6230  device-201              Ввод-1 (ком.)   object-5     2\n",
       "24  236.5070  device-202              Ввод-2 (ком.)   object-4     2\n",
       "25    0.3840  device-108          ЩВК 3.1 (ВРУ 3.1)   object-2     2"
      ]
     },
     "execution_count": 14,
     "metadata": {},
     "output_type": "execute_result"
    }
   ],
   "source": [
    "power_data.to_frame().merge(tree, left_index=True, right_index=True, how='outer')"
   ]
  },
  {
   "cell_type": "code",
   "execution_count": 53,
   "id": "1d2f1f0b",
   "metadata": {},
   "outputs": [
    {
     "data": {
      "text/html": [
       "<div>\n",
       "<style scoped>\n",
       "    .dataframe tbody tr th:only-of-type {\n",
       "        vertical-align: middle;\n",
       "    }\n",
       "\n",
       "    .dataframe tbody tr th {\n",
       "        vertical-align: top;\n",
       "    }\n",
       "\n",
       "    .dataframe thead th {\n",
       "        text-align: right;\n",
       "    }\n",
       "</style>\n",
       "<table border=\"1\" class=\"dataframe\">\n",
       "  <thead>\n",
       "    <tr style=\"text-align: right;\">\n",
       "      <th></th>\n",
       "      <th>dev-101_ea_imp</th>\n",
       "      <th>dev-102_ea_imp</th>\n",
       "      <th>dev-103_ea_imp</th>\n",
       "      <th>dev-104_ea_imp</th>\n",
       "      <th>dev-105_ea_imp</th>\n",
       "      <th>dev-106_ea_imp</th>\n",
       "      <th>dev-107_ea_imp</th>\n",
       "      <th>dev-108_ea_imp</th>\n",
       "      <th>dev-109_ea_imp</th>\n",
       "      <th>dev-110_ea_imp</th>\n",
       "      <th>dev-111_ea_imp</th>\n",
       "      <th>dev-112_ea_imp</th>\n",
       "      <th>dev-113_ea_imp</th>\n",
       "      <th>dev-114_ea_imp</th>\n",
       "      <th>dev-116_ea_imp</th>\n",
       "      <th>dev-117_ea_imp</th>\n",
       "      <th>dev-201_ea_imp</th>\n",
       "      <th>dev-202_ea_imp</th>\n",
       "    </tr>\n",
       "    <tr>\n",
       "      <th>dt</th>\n",
       "      <th></th>\n",
       "      <th></th>\n",
       "      <th></th>\n",
       "      <th></th>\n",
       "      <th></th>\n",
       "      <th></th>\n",
       "      <th></th>\n",
       "      <th></th>\n",
       "      <th></th>\n",
       "      <th></th>\n",
       "      <th></th>\n",
       "      <th></th>\n",
       "      <th></th>\n",
       "      <th></th>\n",
       "      <th></th>\n",
       "      <th></th>\n",
       "      <th></th>\n",
       "      <th></th>\n",
       "    </tr>\n",
       "  </thead>\n",
       "  <tbody>\n",
       "    <tr>\n",
       "      <th>2021-12-19 00:00:00</th>\n",
       "      <td>0.7155</td>\n",
       "      <td>4.5875</td>\n",
       "      <td>2.1345</td>\n",
       "      <td>0.8165</td>\n",
       "      <td>2.9060</td>\n",
       "      <td>0.0</td>\n",
       "      <td>0.0</td>\n",
       "      <td>0.008</td>\n",
       "      <td>0.0075</td>\n",
       "      <td>0.6915</td>\n",
       "      <td>0.0</td>\n",
       "      <td>0.0</td>\n",
       "      <td>0.5030</td>\n",
       "      <td>0.3950</td>\n",
       "      <td>0.5030</td>\n",
       "      <td>0.5030</td>\n",
       "      <td>0.6845</td>\n",
       "      <td>4.7890</td>\n",
       "    </tr>\n",
       "    <tr>\n",
       "      <th>2021-12-19 00:30:00</th>\n",
       "      <td>0.7335</td>\n",
       "      <td>4.7980</td>\n",
       "      <td>2.1345</td>\n",
       "      <td>0.8520</td>\n",
       "      <td>1.8895</td>\n",
       "      <td>0.0</td>\n",
       "      <td>0.0</td>\n",
       "      <td>0.008</td>\n",
       "      <td>0.0075</td>\n",
       "      <td>0.7065</td>\n",
       "      <td>0.0</td>\n",
       "      <td>0.0</td>\n",
       "      <td>0.4945</td>\n",
       "      <td>0.3870</td>\n",
       "      <td>0.4945</td>\n",
       "      <td>0.4945</td>\n",
       "      <td>0.7705</td>\n",
       "      <td>4.7365</td>\n",
       "    </tr>\n",
       "    <tr>\n",
       "      <th>2021-12-19 01:00:00</th>\n",
       "      <td>0.7420</td>\n",
       "      <td>4.7575</td>\n",
       "      <td>2.1345</td>\n",
       "      <td>0.8220</td>\n",
       "      <td>1.8880</td>\n",
       "      <td>0.0</td>\n",
       "      <td>NaN</td>\n",
       "      <td>0.008</td>\n",
       "      <td>0.0075</td>\n",
       "      <td>0.7165</td>\n",
       "      <td>0.0</td>\n",
       "      <td>0.0</td>\n",
       "      <td>0.4895</td>\n",
       "      <td>0.3835</td>\n",
       "      <td>0.4895</td>\n",
       "      <td>0.4895</td>\n",
       "      <td>0.7840</td>\n",
       "      <td>4.6955</td>\n",
       "    </tr>\n",
       "    <tr>\n",
       "      <th>2021-12-19 01:30:00</th>\n",
       "      <td>0.7510</td>\n",
       "      <td>4.8000</td>\n",
       "      <td>2.1345</td>\n",
       "      <td>0.8720</td>\n",
       "      <td>1.8820</td>\n",
       "      <td>0.0</td>\n",
       "      <td>0.0</td>\n",
       "      <td>0.008</td>\n",
       "      <td>0.0075</td>\n",
       "      <td>0.7265</td>\n",
       "      <td>0.0</td>\n",
       "      <td>0.0</td>\n",
       "      <td>0.4890</td>\n",
       "      <td>0.3825</td>\n",
       "      <td>0.4890</td>\n",
       "      <td>0.4890</td>\n",
       "      <td>0.7245</td>\n",
       "      <td>5.1035</td>\n",
       "    </tr>\n",
       "    <tr>\n",
       "      <th>2021-12-19 02:00:00</th>\n",
       "      <td>0.7510</td>\n",
       "      <td>4.7640</td>\n",
       "      <td>2.1345</td>\n",
       "      <td>0.8330</td>\n",
       "      <td>1.8825</td>\n",
       "      <td>0.0</td>\n",
       "      <td>0.0</td>\n",
       "      <td>0.008</td>\n",
       "      <td>0.0075</td>\n",
       "      <td>0.7255</td>\n",
       "      <td>0.0</td>\n",
       "      <td>0.0</td>\n",
       "      <td>0.4895</td>\n",
       "      <td>0.3830</td>\n",
       "      <td>0.4895</td>\n",
       "      <td>0.4895</td>\n",
       "      <td>0.7400</td>\n",
       "      <td>4.9485</td>\n",
       "    </tr>\n",
       "    <tr>\n",
       "      <th>2021-12-19 02:30:00</th>\n",
       "      <td>0.6885</td>\n",
       "      <td>4.7415</td>\n",
       "      <td>2.1345</td>\n",
       "      <td>0.8105</td>\n",
       "      <td>1.8835</td>\n",
       "      <td>0.0</td>\n",
       "      <td>0.0</td>\n",
       "      <td>0.008</td>\n",
       "      <td>0.0075</td>\n",
       "      <td>0.6640</td>\n",
       "      <td>0.0</td>\n",
       "      <td>0.0</td>\n",
       "      <td>0.4855</td>\n",
       "      <td>0.3800</td>\n",
       "      <td>0.4855</td>\n",
       "      <td>0.4855</td>\n",
       "      <td>0.6765</td>\n",
       "      <td>4.7870</td>\n",
       "    </tr>\n",
       "    <tr>\n",
       "      <th>2021-12-19 03:00:00</th>\n",
       "      <td>0.7250</td>\n",
       "      <td>4.7695</td>\n",
       "      <td>2.1345</td>\n",
       "      <td>0.8295</td>\n",
       "      <td>1.8960</td>\n",
       "      <td>0.0</td>\n",
       "      <td>0.0</td>\n",
       "      <td>0.008</td>\n",
       "      <td>0.0075</td>\n",
       "      <td>0.7000</td>\n",
       "      <td>0.0</td>\n",
       "      <td>0.0</td>\n",
       "      <td>0.4890</td>\n",
       "      <td>0.3835</td>\n",
       "      <td>0.4890</td>\n",
       "      <td>0.4890</td>\n",
       "      <td>0.6745</td>\n",
       "      <td>4.6355</td>\n",
       "    </tr>\n",
       "    <tr>\n",
       "      <th>2021-12-19 03:30:00</th>\n",
       "      <td>0.7370</td>\n",
       "      <td>4.7955</td>\n",
       "      <td>2.1345</td>\n",
       "      <td>0.8585</td>\n",
       "      <td>1.8915</td>\n",
       "      <td>0.0</td>\n",
       "      <td>0.0</td>\n",
       "      <td>0.008</td>\n",
       "      <td>0.0075</td>\n",
       "      <td>0.7110</td>\n",
       "      <td>0.0</td>\n",
       "      <td>0.0</td>\n",
       "      <td>0.4865</td>\n",
       "      <td>0.3810</td>\n",
       "      <td>0.4865</td>\n",
       "      <td>0.4865</td>\n",
       "      <td>0.7850</td>\n",
       "      <td>4.7800</td>\n",
       "    </tr>\n",
       "    <tr>\n",
       "      <th>2021-12-19 04:00:00</th>\n",
       "      <td>0.7460</td>\n",
       "      <td>4.7755</td>\n",
       "      <td>2.1345</td>\n",
       "      <td>0.8445</td>\n",
       "      <td>1.8855</td>\n",
       "      <td>0.0</td>\n",
       "      <td>0.0</td>\n",
       "      <td>0.008</td>\n",
       "      <td>0.0075</td>\n",
       "      <td>0.7215</td>\n",
       "      <td>0.0</td>\n",
       "      <td>0.0</td>\n",
       "      <td>0.4890</td>\n",
       "      <td>0.3830</td>\n",
       "      <td>0.4890</td>\n",
       "      <td>0.4890</td>\n",
       "      <td>0.7185</td>\n",
       "      <td>4.8345</td>\n",
       "    </tr>\n",
       "    <tr>\n",
       "      <th>2021-12-19 04:30:00</th>\n",
       "      <td>0.7150</td>\n",
       "      <td>4.7610</td>\n",
       "      <td>2.1345</td>\n",
       "      <td>0.8280</td>\n",
       "      <td>1.8870</td>\n",
       "      <td>0.0</td>\n",
       "      <td>0.0</td>\n",
       "      <td>0.008</td>\n",
       "      <td>0.0075</td>\n",
       "      <td>0.6895</td>\n",
       "      <td>0.0</td>\n",
       "      <td>0.0</td>\n",
       "      <td>0.4860</td>\n",
       "      <td>0.3805</td>\n",
       "      <td>0.4860</td>\n",
       "      <td>0.4860</td>\n",
       "      <td>0.7385</td>\n",
       "      <td>4.9640</td>\n",
       "    </tr>\n",
       "    <tr>\n",
       "      <th>2021-12-19 05:00:00</th>\n",
       "      <td>0.6825</td>\n",
       "      <td>4.7600</td>\n",
       "      <td>2.1345</td>\n",
       "      <td>0.8335</td>\n",
       "      <td>1.8820</td>\n",
       "      <td>0.0</td>\n",
       "      <td>0.0</td>\n",
       "      <td>0.008</td>\n",
       "      <td>0.0075</td>\n",
       "      <td>0.6575</td>\n",
       "      <td>0.0</td>\n",
       "      <td>0.0</td>\n",
       "      <td>0.4895</td>\n",
       "      <td>0.3830</td>\n",
       "      <td>0.4895</td>\n",
       "      <td>0.4895</td>\n",
       "      <td>0.6945</td>\n",
       "      <td>4.6080</td>\n",
       "    </tr>\n",
       "    <tr>\n",
       "      <th>2021-12-19 05:30:00</th>\n",
       "      <td>0.7460</td>\n",
       "      <td>4.8115</td>\n",
       "      <td>2.1345</td>\n",
       "      <td>0.8860</td>\n",
       "      <td>1.8825</td>\n",
       "      <td>0.0</td>\n",
       "      <td>0.0</td>\n",
       "      <td>0.008</td>\n",
       "      <td>0.0075</td>\n",
       "      <td>0.7215</td>\n",
       "      <td>0.0</td>\n",
       "      <td>0.0</td>\n",
       "      <td>0.4855</td>\n",
       "      <td>0.3800</td>\n",
       "      <td>0.4855</td>\n",
       "      <td>0.4855</td>\n",
       "      <td>0.7115</td>\n",
       "      <td>4.9315</td>\n",
       "    </tr>\n",
       "    <tr>\n",
       "      <th>2021-12-19 06:00:00</th>\n",
       "      <td>0.7375</td>\n",
       "      <td>4.7235</td>\n",
       "      <td>2.1345</td>\n",
       "      <td>0.7985</td>\n",
       "      <td>1.8805</td>\n",
       "      <td>0.0</td>\n",
       "      <td>0.0</td>\n",
       "      <td>0.008</td>\n",
       "      <td>0.0075</td>\n",
       "      <td>0.7120</td>\n",
       "      <td>0.0</td>\n",
       "      <td>0.0</td>\n",
       "      <td>0.4840</td>\n",
       "      <td>0.3785</td>\n",
       "      <td>0.4840</td>\n",
       "      <td>0.4840</td>\n",
       "      <td>0.7905</td>\n",
       "      <td>4.5720</td>\n",
       "    </tr>\n",
       "    <tr>\n",
       "      <th>2021-12-19 06:30:00</th>\n",
       "      <td>0.7115</td>\n",
       "      <td>4.7890</td>\n",
       "      <td>2.1345</td>\n",
       "      <td>0.8640</td>\n",
       "      <td>1.8840</td>\n",
       "      <td>0.0</td>\n",
       "      <td>0.0</td>\n",
       "      <td>0.008</td>\n",
       "      <td>0.0075</td>\n",
       "      <td>0.6875</td>\n",
       "      <td>0.0</td>\n",
       "      <td>0.0</td>\n",
       "      <td>0.4935</td>\n",
       "      <td>0.3860</td>\n",
       "      <td>0.4935</td>\n",
       "      <td>0.4935</td>\n",
       "      <td>0.6830</td>\n",
       "      <td>4.5810</td>\n",
       "    </tr>\n",
       "    <tr>\n",
       "      <th>2021-12-19 07:00:00</th>\n",
       "      <td>0.7180</td>\n",
       "      <td>4.7870</td>\n",
       "      <td>2.1345</td>\n",
       "      <td>0.8400</td>\n",
       "      <td>2.3175</td>\n",
       "      <td>0.0</td>\n",
       "      <td>0.0</td>\n",
       "      <td>0.008</td>\n",
       "      <td>0.0075</td>\n",
       "      <td>0.6920</td>\n",
       "      <td>0.0</td>\n",
       "      <td>0.0</td>\n",
       "      <td>0.4900</td>\n",
       "      <td>0.3840</td>\n",
       "      <td>0.4900</td>\n",
       "      <td>0.4900</td>\n",
       "      <td>0.7385</td>\n",
       "      <td>4.6990</td>\n",
       "    </tr>\n",
       "    <tr>\n",
       "      <th>2021-12-19 07:30:00</th>\n",
       "      <td>0.6920</td>\n",
       "      <td>4.5115</td>\n",
       "      <td>2.1345</td>\n",
       "      <td>0.8325</td>\n",
       "      <td>3.4330</td>\n",
       "      <td>0.0</td>\n",
       "      <td>0.0</td>\n",
       "      <td>0.008</td>\n",
       "      <td>0.0075</td>\n",
       "      <td>0.6665</td>\n",
       "      <td>0.0</td>\n",
       "      <td>0.0</td>\n",
       "      <td>0.4845</td>\n",
       "      <td>0.3825</td>\n",
       "      <td>0.4845</td>\n",
       "      <td>0.4845</td>\n",
       "      <td>0.7770</td>\n",
       "      <td>4.6960</td>\n",
       "    </tr>\n",
       "    <tr>\n",
       "      <th>2021-12-19 08:00:00</th>\n",
       "      <td>0.7605</td>\n",
       "      <td>4.4985</td>\n",
       "      <td>2.1345</td>\n",
       "      <td>0.8275</td>\n",
       "      <td>3.4255</td>\n",
       "      <td>0.0</td>\n",
       "      <td>0.0</td>\n",
       "      <td>0.008</td>\n",
       "      <td>0.0075</td>\n",
       "      <td>0.7360</td>\n",
       "      <td>0.0</td>\n",
       "      <td>0.0</td>\n",
       "      <td>0.4910</td>\n",
       "      <td>0.3880</td>\n",
       "      <td>0.4910</td>\n",
       "      <td>0.4910</td>\n",
       "      <td>0.7190</td>\n",
       "      <td>4.3990</td>\n",
       "    </tr>\n",
       "    <tr>\n",
       "      <th>2021-12-19 08:30:00</th>\n",
       "      <td>0.7255</td>\n",
       "      <td>4.4860</td>\n",
       "      <td>2.1345</td>\n",
       "      <td>0.8200</td>\n",
       "      <td>3.4180</td>\n",
       "      <td>0.0</td>\n",
       "      <td>0.0</td>\n",
       "      <td>0.008</td>\n",
       "      <td>0.0075</td>\n",
       "      <td>0.7010</td>\n",
       "      <td>0.0</td>\n",
       "      <td>0.0</td>\n",
       "      <td>0.5010</td>\n",
       "      <td>0.3950</td>\n",
       "      <td>0.5010</td>\n",
       "      <td>0.5010</td>\n",
       "      <td>0.6395</td>\n",
       "      <td>4.6790</td>\n",
       "    </tr>\n",
       "    <tr>\n",
       "      <th>2021-12-19 09:00:00</th>\n",
       "      <td>0.6760</td>\n",
       "      <td>4.5555</td>\n",
       "      <td>2.1345</td>\n",
       "      <td>0.8505</td>\n",
       "      <td>3.4345</td>\n",
       "      <td>0.0</td>\n",
       "      <td>0.0</td>\n",
       "      <td>0.008</td>\n",
       "      <td>0.0075</td>\n",
       "      <td>0.6500</td>\n",
       "      <td>0.0</td>\n",
       "      <td>0.0</td>\n",
       "      <td>0.4855</td>\n",
       "      <td>0.3830</td>\n",
       "      <td>0.4855</td>\n",
       "      <td>0.4855</td>\n",
       "      <td>0.6765</td>\n",
       "      <td>5.0895</td>\n",
       "    </tr>\n",
       "    <tr>\n",
       "      <th>2021-12-19 09:30:00</th>\n",
       "      <td>0.6905</td>\n",
       "      <td>4.7795</td>\n",
       "      <td>2.1345</td>\n",
       "      <td>0.8350</td>\n",
       "      <td>3.4190</td>\n",
       "      <td>0.0</td>\n",
       "      <td>0.0</td>\n",
       "      <td>0.008</td>\n",
       "      <td>0.0075</td>\n",
       "      <td>0.6645</td>\n",
       "      <td>0.0</td>\n",
       "      <td>0.0</td>\n",
       "      <td>0.4910</td>\n",
       "      <td>0.3865</td>\n",
       "      <td>0.4910</td>\n",
       "      <td>0.4910</td>\n",
       "      <td>0.6890</td>\n",
       "      <td>4.3415</td>\n",
       "    </tr>\n",
       "    <tr>\n",
       "      <th>2021-12-19 10:00:00</th>\n",
       "      <td>0.7060</td>\n",
       "      <td>4.4590</td>\n",
       "      <td>2.1345</td>\n",
       "      <td>0.7995</td>\n",
       "      <td>3.4220</td>\n",
       "      <td>0.0</td>\n",
       "      <td>0.0</td>\n",
       "      <td>0.008</td>\n",
       "      <td>0.0075</td>\n",
       "      <td>0.6800</td>\n",
       "      <td>0.0</td>\n",
       "      <td>0.0</td>\n",
       "      <td>0.4850</td>\n",
       "      <td>0.3835</td>\n",
       "      <td>0.4850</td>\n",
       "      <td>0.4850</td>\n",
       "      <td>0.7825</td>\n",
       "      <td>4.3935</td>\n",
       "    </tr>\n",
       "    <tr>\n",
       "      <th>2021-12-19 10:30:00</th>\n",
       "      <td>0.7155</td>\n",
       "      <td>4.5060</td>\n",
       "      <td>2.1345</td>\n",
       "      <td>0.8515</td>\n",
       "      <td>3.4245</td>\n",
       "      <td>0.0</td>\n",
       "      <td>0.0</td>\n",
       "      <td>0.008</td>\n",
       "      <td>0.0075</td>\n",
       "      <td>0.6905</td>\n",
       "      <td>0.0</td>\n",
       "      <td>0.0</td>\n",
       "      <td>0.4820</td>\n",
       "      <td>0.3800</td>\n",
       "      <td>0.4820</td>\n",
       "      <td>0.4820</td>\n",
       "      <td>0.7060</td>\n",
       "      <td>4.6195</td>\n",
       "    </tr>\n",
       "    <tr>\n",
       "      <th>2021-12-19 11:00:00</th>\n",
       "      <td>0.6850</td>\n",
       "      <td>4.4990</td>\n",
       "      <td>2.1345</td>\n",
       "      <td>0.8555</td>\n",
       "      <td>3.4035</td>\n",
       "      <td>0.0</td>\n",
       "      <td>0.0</td>\n",
       "      <td>0.008</td>\n",
       "      <td>0.0070</td>\n",
       "      <td>0.6590</td>\n",
       "      <td>0.0</td>\n",
       "      <td>0.0</td>\n",
       "      <td>0.4855</td>\n",
       "      <td>0.3830</td>\n",
       "      <td>0.4855</td>\n",
       "      <td>0.4855</td>\n",
       "      <td>0.7330</td>\n",
       "      <td>4.3335</td>\n",
       "    </tr>\n",
       "    <tr>\n",
       "      <th>2021-12-19 11:30:00</th>\n",
       "      <td>0.6695</td>\n",
       "      <td>4.6730</td>\n",
       "      <td>2.1345</td>\n",
       "      <td>0.8250</td>\n",
       "      <td>3.3990</td>\n",
       "      <td>0.0</td>\n",
       "      <td>0.0</td>\n",
       "      <td>0.008</td>\n",
       "      <td>0.0075</td>\n",
       "      <td>0.6455</td>\n",
       "      <td>0.0</td>\n",
       "      <td>0.0</td>\n",
       "      <td>0.4880</td>\n",
       "      <td>0.3840</td>\n",
       "      <td>0.4880</td>\n",
       "      <td>0.4880</td>\n",
       "      <td>0.6275</td>\n",
       "      <td>4.9650</td>\n",
       "    </tr>\n",
       "    <tr>\n",
       "      <th>2021-12-19 12:00:00</th>\n",
       "      <td>0.7245</td>\n",
       "      <td>4.5595</td>\n",
       "      <td>2.1345</td>\n",
       "      <td>0.8070</td>\n",
       "      <td>3.3970</td>\n",
       "      <td>0.0</td>\n",
       "      <td>0.0</td>\n",
       "      <td>0.008</td>\n",
       "      <td>0.0075</td>\n",
       "      <td>0.6970</td>\n",
       "      <td>0.0</td>\n",
       "      <td>0.0</td>\n",
       "      <td>0.4860</td>\n",
       "      <td>0.3840</td>\n",
       "      <td>0.4860</td>\n",
       "      <td>0.4860</td>\n",
       "      <td>0.7055</td>\n",
       "      <td>4.3010</td>\n",
       "    </tr>\n",
       "    <tr>\n",
       "      <th>2021-12-19 12:30:00</th>\n",
       "      <td>0.7340</td>\n",
       "      <td>4.4790</td>\n",
       "      <td>2.1345</td>\n",
       "      <td>0.8310</td>\n",
       "      <td>3.4130</td>\n",
       "      <td>0.0</td>\n",
       "      <td>0.0</td>\n",
       "      <td>0.008</td>\n",
       "      <td>0.0075</td>\n",
       "      <td>0.7070</td>\n",
       "      <td>0.0</td>\n",
       "      <td>0.0</td>\n",
       "      <td>0.4835</td>\n",
       "      <td>0.3825</td>\n",
       "      <td>0.4835</td>\n",
       "      <td>0.4835</td>\n",
       "      <td>0.7685</td>\n",
       "      <td>4.4040</td>\n",
       "    </tr>\n",
       "    <tr>\n",
       "      <th>2021-12-19 13:00:00</th>\n",
       "      <td>0.6970</td>\n",
       "      <td>4.4965</td>\n",
       "      <td>2.1345</td>\n",
       "      <td>0.8525</td>\n",
       "      <td>3.4110</td>\n",
       "      <td>0.0</td>\n",
       "      <td>0.0</td>\n",
       "      <td>0.008</td>\n",
       "      <td>0.0075</td>\n",
       "      <td>0.6730</td>\n",
       "      <td>0.0</td>\n",
       "      <td>0.0</td>\n",
       "      <td>0.4810</td>\n",
       "      <td>0.3800</td>\n",
       "      <td>0.4810</td>\n",
       "      <td>0.4810</td>\n",
       "      <td>0.6635</td>\n",
       "      <td>4.4155</td>\n",
       "    </tr>\n",
       "    <tr>\n",
       "      <th>2021-12-19 13:30:00</th>\n",
       "      <td>0.7065</td>\n",
       "      <td>4.4685</td>\n",
       "      <td>2.1345</td>\n",
       "      <td>0.8205</td>\n",
       "      <td>3.4195</td>\n",
       "      <td>0.0</td>\n",
       "      <td>0.0</td>\n",
       "      <td>0.008</td>\n",
       "      <td>0.0070</td>\n",
       "      <td>0.6795</td>\n",
       "      <td>0.0</td>\n",
       "      <td>0.0</td>\n",
       "      <td>0.4750</td>\n",
       "      <td>0.3750</td>\n",
       "      <td>0.4750</td>\n",
       "      <td>0.4750</td>\n",
       "      <td>0.7250</td>\n",
       "      <td>4.6725</td>\n",
       "    </tr>\n",
       "    <tr>\n",
       "      <th>2021-12-19 14:00:00</th>\n",
       "      <td>0.6810</td>\n",
       "      <td>4.8270</td>\n",
       "      <td>2.1345</td>\n",
       "      <td>0.8245</td>\n",
       "      <td>3.4125</td>\n",
       "      <td>0.0</td>\n",
       "      <td>0.0</td>\n",
       "      <td>0.008</td>\n",
       "      <td>0.0070</td>\n",
       "      <td>0.6555</td>\n",
       "      <td>0.0</td>\n",
       "      <td>0.0</td>\n",
       "      <td>0.4655</td>\n",
       "      <td>0.3665</td>\n",
       "      <td>0.4655</td>\n",
       "      <td>0.4655</td>\n",
       "      <td>0.7355</td>\n",
       "      <td>5.0955</td>\n",
       "    </tr>\n",
       "    <tr>\n",
       "      <th>2021-12-19 14:30:00</th>\n",
       "      <td>0.7550</td>\n",
       "      <td>4.9840</td>\n",
       "      <td>2.1345</td>\n",
       "      <td>0.8460</td>\n",
       "      <td>3.3635</td>\n",
       "      <td>0.0</td>\n",
       "      <td>0.0</td>\n",
       "      <td>0.008</td>\n",
       "      <td>0.0075</td>\n",
       "      <td>0.7295</td>\n",
       "      <td>0.0</td>\n",
       "      <td>0.0</td>\n",
       "      <td>0.4720</td>\n",
       "      <td>0.3745</td>\n",
       "      <td>0.4720</td>\n",
       "      <td>0.4720</td>\n",
       "      <td>0.7050</td>\n",
       "      <td>5.2320</td>\n",
       "    </tr>\n",
       "    <tr>\n",
       "      <th>2021-12-19 15:00:00</th>\n",
       "      <td>0.7150</td>\n",
       "      <td>4.9810</td>\n",
       "      <td>2.1345</td>\n",
       "      <td>0.8390</td>\n",
       "      <td>3.3470</td>\n",
       "      <td>0.0</td>\n",
       "      <td>0.0</td>\n",
       "      <td>0.008</td>\n",
       "      <td>0.0070</td>\n",
       "      <td>0.6880</td>\n",
       "      <td>0.0</td>\n",
       "      <td>0.0</td>\n",
       "      <td>0.4705</td>\n",
       "      <td>0.3735</td>\n",
       "      <td>0.4705</td>\n",
       "      <td>0.4705</td>\n",
       "      <td>0.7440</td>\n",
       "      <td>4.8940</td>\n",
       "    </tr>\n",
       "    <tr>\n",
       "      <th>2021-12-19 15:30:00</th>\n",
       "      <td>0.7120</td>\n",
       "      <td>4.9720</td>\n",
       "      <td>2.1345</td>\n",
       "      <td>0.8400</td>\n",
       "      <td>3.3365</td>\n",
       "      <td>0.0</td>\n",
       "      <td>0.0</td>\n",
       "      <td>0.008</td>\n",
       "      <td>0.0070</td>\n",
       "      <td>0.6800</td>\n",
       "      <td>0.0</td>\n",
       "      <td>0.0</td>\n",
       "      <td>0.4675</td>\n",
       "      <td>0.3710</td>\n",
       "      <td>0.4675</td>\n",
       "      <td>0.4675</td>\n",
       "      <td>0.9995</td>\n",
       "      <td>5.2655</td>\n",
       "    </tr>\n",
       "    <tr>\n",
       "      <th>2021-12-19 16:00:00</th>\n",
       "      <td>1.6215</td>\n",
       "      <td>4.6320</td>\n",
       "      <td>2.1345</td>\n",
       "      <td>0.8180</td>\n",
       "      <td>3.3440</td>\n",
       "      <td>0.0</td>\n",
       "      <td>0.0</td>\n",
       "      <td>0.008</td>\n",
       "      <td>0.0070</td>\n",
       "      <td>1.5920</td>\n",
       "      <td>0.0</td>\n",
       "      <td>0.0</td>\n",
       "      <td>0.4720</td>\n",
       "      <td>0.3760</td>\n",
       "      <td>0.4720</td>\n",
       "      <td>0.4720</td>\n",
       "      <td>1.5810</td>\n",
       "      <td>4.4200</td>\n",
       "    </tr>\n",
       "    <tr>\n",
       "      <th>2021-12-19 16:30:00</th>\n",
       "      <td>1.6220</td>\n",
       "      <td>4.9140</td>\n",
       "      <td>2.1345</td>\n",
       "      <td>0.8525</td>\n",
       "      <td>3.3290</td>\n",
       "      <td>0.0</td>\n",
       "      <td>0.0</td>\n",
       "      <td>0.008</td>\n",
       "      <td>0.0070</td>\n",
       "      <td>1.5955</td>\n",
       "      <td>0.0</td>\n",
       "      <td>0.0</td>\n",
       "      <td>0.4695</td>\n",
       "      <td>0.3695</td>\n",
       "      <td>0.4695</td>\n",
       "      <td>0.4695</td>\n",
       "      <td>1.6930</td>\n",
       "      <td>5.0030</td>\n",
       "    </tr>\n",
       "    <tr>\n",
       "      <th>2021-12-19 17:00:00</th>\n",
       "      <td>1.6275</td>\n",
       "      <td>4.9475</td>\n",
       "      <td>2.1345</td>\n",
       "      <td>0.8135</td>\n",
       "      <td>3.3185</td>\n",
       "      <td>0.0</td>\n",
       "      <td>0.0</td>\n",
       "      <td>0.008</td>\n",
       "      <td>0.0075</td>\n",
       "      <td>1.6030</td>\n",
       "      <td>0.0</td>\n",
       "      <td>0.0</td>\n",
       "      <td>0.4845</td>\n",
       "      <td>0.3845</td>\n",
       "      <td>0.4845</td>\n",
       "      <td>0.4845</td>\n",
       "      <td>1.5385</td>\n",
       "      <td>4.7935</td>\n",
       "    </tr>\n",
       "    <tr>\n",
       "      <th>2021-12-19 17:30:00</th>\n",
       "      <td>1.4795</td>\n",
       "      <td>4.5435</td>\n",
       "      <td>2.1345</td>\n",
       "      <td>0.8405</td>\n",
       "      <td>3.3300</td>\n",
       "      <td>0.0</td>\n",
       "      <td>0.0</td>\n",
       "      <td>0.008</td>\n",
       "      <td>0.0075</td>\n",
       "      <td>1.4620</td>\n",
       "      <td>0.0</td>\n",
       "      <td>0.0</td>\n",
       "      <td>0.5005</td>\n",
       "      <td>0.3965</td>\n",
       "      <td>0.5005</td>\n",
       "      <td>0.5005</td>\n",
       "      <td>1.1310</td>\n",
       "      <td>4.7955</td>\n",
       "    </tr>\n",
       "    <tr>\n",
       "      <th>2021-12-19 18:00:00</th>\n",
       "      <td>0.6885</td>\n",
       "      <td>4.9780</td>\n",
       "      <td>2.1345</td>\n",
       "      <td>0.8325</td>\n",
       "      <td>3.3175</td>\n",
       "      <td>0.0</td>\n",
       "      <td>0.0</td>\n",
       "      <td>0.008</td>\n",
       "      <td>0.0075</td>\n",
       "      <td>0.6630</td>\n",
       "      <td>0.0</td>\n",
       "      <td>0.0</td>\n",
       "      <td>0.4780</td>\n",
       "      <td>0.3790</td>\n",
       "      <td>0.4780</td>\n",
       "      <td>0.4780</td>\n",
       "      <td>0.6775</td>\n",
       "      <td>4.7805</td>\n",
       "    </tr>\n",
       "    <tr>\n",
       "      <th>2021-12-19 18:30:00</th>\n",
       "      <td>NaN</td>\n",
       "      <td>NaN</td>\n",
       "      <td>NaN</td>\n",
       "      <td>NaN</td>\n",
       "      <td>NaN</td>\n",
       "      <td>NaN</td>\n",
       "      <td>NaN</td>\n",
       "      <td>NaN</td>\n",
       "      <td>NaN</td>\n",
       "      <td>NaN</td>\n",
       "      <td>NaN</td>\n",
       "      <td>NaN</td>\n",
       "      <td>NaN</td>\n",
       "      <td>NaN</td>\n",
       "      <td>NaN</td>\n",
       "      <td>NaN</td>\n",
       "      <td>NaN</td>\n",
       "      <td>NaN</td>\n",
       "    </tr>\n",
       "    <tr>\n",
       "      <th>2021-12-19 19:00:00</th>\n",
       "      <td>NaN</td>\n",
       "      <td>NaN</td>\n",
       "      <td>NaN</td>\n",
       "      <td>NaN</td>\n",
       "      <td>NaN</td>\n",
       "      <td>NaN</td>\n",
       "      <td>NaN</td>\n",
       "      <td>NaN</td>\n",
       "      <td>NaN</td>\n",
       "      <td>NaN</td>\n",
       "      <td>NaN</td>\n",
       "      <td>NaN</td>\n",
       "      <td>NaN</td>\n",
       "      <td>NaN</td>\n",
       "      <td>NaN</td>\n",
       "      <td>NaN</td>\n",
       "      <td>NaN</td>\n",
       "      <td>NaN</td>\n",
       "    </tr>\n",
       "    <tr>\n",
       "      <th>2021-12-19 19:30:00</th>\n",
       "      <td>NaN</td>\n",
       "      <td>NaN</td>\n",
       "      <td>NaN</td>\n",
       "      <td>NaN</td>\n",
       "      <td>NaN</td>\n",
       "      <td>NaN</td>\n",
       "      <td>NaN</td>\n",
       "      <td>NaN</td>\n",
       "      <td>NaN</td>\n",
       "      <td>NaN</td>\n",
       "      <td>NaN</td>\n",
       "      <td>NaN</td>\n",
       "      <td>NaN</td>\n",
       "      <td>NaN</td>\n",
       "      <td>NaN</td>\n",
       "      <td>NaN</td>\n",
       "      <td>NaN</td>\n",
       "      <td>NaN</td>\n",
       "    </tr>\n",
       "    <tr>\n",
       "      <th>2021-12-19 20:00:00</th>\n",
       "      <td>NaN</td>\n",
       "      <td>NaN</td>\n",
       "      <td>NaN</td>\n",
       "      <td>NaN</td>\n",
       "      <td>NaN</td>\n",
       "      <td>NaN</td>\n",
       "      <td>NaN</td>\n",
       "      <td>NaN</td>\n",
       "      <td>NaN</td>\n",
       "      <td>NaN</td>\n",
       "      <td>NaN</td>\n",
       "      <td>NaN</td>\n",
       "      <td>NaN</td>\n",
       "      <td>NaN</td>\n",
       "      <td>NaN</td>\n",
       "      <td>NaN</td>\n",
       "      <td>NaN</td>\n",
       "      <td>NaN</td>\n",
       "    </tr>\n",
       "    <tr>\n",
       "      <th>2021-12-19 20:30:00</th>\n",
       "      <td>NaN</td>\n",
       "      <td>NaN</td>\n",
       "      <td>NaN</td>\n",
       "      <td>NaN</td>\n",
       "      <td>NaN</td>\n",
       "      <td>NaN</td>\n",
       "      <td>NaN</td>\n",
       "      <td>NaN</td>\n",
       "      <td>NaN</td>\n",
       "      <td>NaN</td>\n",
       "      <td>NaN</td>\n",
       "      <td>NaN</td>\n",
       "      <td>NaN</td>\n",
       "      <td>NaN</td>\n",
       "      <td>NaN</td>\n",
       "      <td>NaN</td>\n",
       "      <td>NaN</td>\n",
       "      <td>NaN</td>\n",
       "    </tr>\n",
       "    <tr>\n",
       "      <th>2021-12-19 21:00:00</th>\n",
       "      <td>NaN</td>\n",
       "      <td>NaN</td>\n",
       "      <td>NaN</td>\n",
       "      <td>NaN</td>\n",
       "      <td>NaN</td>\n",
       "      <td>NaN</td>\n",
       "      <td>NaN</td>\n",
       "      <td>NaN</td>\n",
       "      <td>NaN</td>\n",
       "      <td>NaN</td>\n",
       "      <td>NaN</td>\n",
       "      <td>NaN</td>\n",
       "      <td>NaN</td>\n",
       "      <td>NaN</td>\n",
       "      <td>NaN</td>\n",
       "      <td>NaN</td>\n",
       "      <td>NaN</td>\n",
       "      <td>NaN</td>\n",
       "    </tr>\n",
       "    <tr>\n",
       "      <th>2021-12-19 21:30:00</th>\n",
       "      <td>NaN</td>\n",
       "      <td>NaN</td>\n",
       "      <td>NaN</td>\n",
       "      <td>NaN</td>\n",
       "      <td>NaN</td>\n",
       "      <td>NaN</td>\n",
       "      <td>NaN</td>\n",
       "      <td>NaN</td>\n",
       "      <td>NaN</td>\n",
       "      <td>NaN</td>\n",
       "      <td>NaN</td>\n",
       "      <td>NaN</td>\n",
       "      <td>NaN</td>\n",
       "      <td>NaN</td>\n",
       "      <td>NaN</td>\n",
       "      <td>NaN</td>\n",
       "      <td>NaN</td>\n",
       "      <td>NaN</td>\n",
       "    </tr>\n",
       "    <tr>\n",
       "      <th>2021-12-19 22:00:00</th>\n",
       "      <td>NaN</td>\n",
       "      <td>NaN</td>\n",
       "      <td>NaN</td>\n",
       "      <td>NaN</td>\n",
       "      <td>NaN</td>\n",
       "      <td>NaN</td>\n",
       "      <td>NaN</td>\n",
       "      <td>NaN</td>\n",
       "      <td>NaN</td>\n",
       "      <td>NaN</td>\n",
       "      <td>NaN</td>\n",
       "      <td>NaN</td>\n",
       "      <td>NaN</td>\n",
       "      <td>NaN</td>\n",
       "      <td>NaN</td>\n",
       "      <td>NaN</td>\n",
       "      <td>NaN</td>\n",
       "      <td>NaN</td>\n",
       "    </tr>\n",
       "    <tr>\n",
       "      <th>2021-12-19 22:30:00</th>\n",
       "      <td>NaN</td>\n",
       "      <td>NaN</td>\n",
       "      <td>NaN</td>\n",
       "      <td>NaN</td>\n",
       "      <td>NaN</td>\n",
       "      <td>NaN</td>\n",
       "      <td>NaN</td>\n",
       "      <td>NaN</td>\n",
       "      <td>NaN</td>\n",
       "      <td>NaN</td>\n",
       "      <td>NaN</td>\n",
       "      <td>NaN</td>\n",
       "      <td>NaN</td>\n",
       "      <td>NaN</td>\n",
       "      <td>NaN</td>\n",
       "      <td>NaN</td>\n",
       "      <td>NaN</td>\n",
       "      <td>NaN</td>\n",
       "    </tr>\n",
       "    <tr>\n",
       "      <th>2021-12-19 23:00:00</th>\n",
       "      <td>NaN</td>\n",
       "      <td>NaN</td>\n",
       "      <td>NaN</td>\n",
       "      <td>NaN</td>\n",
       "      <td>NaN</td>\n",
       "      <td>NaN</td>\n",
       "      <td>NaN</td>\n",
       "      <td>NaN</td>\n",
       "      <td>NaN</td>\n",
       "      <td>NaN</td>\n",
       "      <td>NaN</td>\n",
       "      <td>NaN</td>\n",
       "      <td>NaN</td>\n",
       "      <td>NaN</td>\n",
       "      <td>NaN</td>\n",
       "      <td>NaN</td>\n",
       "      <td>NaN</td>\n",
       "      <td>NaN</td>\n",
       "    </tr>\n",
       "    <tr>\n",
       "      <th>2021-12-19 23:30:00</th>\n",
       "      <td>NaN</td>\n",
       "      <td>NaN</td>\n",
       "      <td>NaN</td>\n",
       "      <td>NaN</td>\n",
       "      <td>NaN</td>\n",
       "      <td>NaN</td>\n",
       "      <td>NaN</td>\n",
       "      <td>NaN</td>\n",
       "      <td>NaN</td>\n",
       "      <td>NaN</td>\n",
       "      <td>NaN</td>\n",
       "      <td>NaN</td>\n",
       "      <td>NaN</td>\n",
       "      <td>NaN</td>\n",
       "      <td>NaN</td>\n",
       "      <td>NaN</td>\n",
       "      <td>NaN</td>\n",
       "      <td>NaN</td>\n",
       "    </tr>\n",
       "  </tbody>\n",
       "</table>\n",
       "</div>"
      ],
      "text/plain": [
       "                     dev-101_ea_imp  dev-102_ea_imp  dev-103_ea_imp  \\\n",
       "dt                                                                    \n",
       "2021-12-19 00:00:00          0.7155          4.5875          2.1345   \n",
       "2021-12-19 00:30:00          0.7335          4.7980          2.1345   \n",
       "2021-12-19 01:00:00          0.7420          4.7575          2.1345   \n",
       "2021-12-19 01:30:00          0.7510          4.8000          2.1345   \n",
       "2021-12-19 02:00:00          0.7510          4.7640          2.1345   \n",
       "2021-12-19 02:30:00          0.6885          4.7415          2.1345   \n",
       "2021-12-19 03:00:00          0.7250          4.7695          2.1345   \n",
       "2021-12-19 03:30:00          0.7370          4.7955          2.1345   \n",
       "2021-12-19 04:00:00          0.7460          4.7755          2.1345   \n",
       "2021-12-19 04:30:00          0.7150          4.7610          2.1345   \n",
       "2021-12-19 05:00:00          0.6825          4.7600          2.1345   \n",
       "2021-12-19 05:30:00          0.7460          4.8115          2.1345   \n",
       "2021-12-19 06:00:00          0.7375          4.7235          2.1345   \n",
       "2021-12-19 06:30:00          0.7115          4.7890          2.1345   \n",
       "2021-12-19 07:00:00          0.7180          4.7870          2.1345   \n",
       "2021-12-19 07:30:00          0.6920          4.5115          2.1345   \n",
       "2021-12-19 08:00:00          0.7605          4.4985          2.1345   \n",
       "2021-12-19 08:30:00          0.7255          4.4860          2.1345   \n",
       "2021-12-19 09:00:00          0.6760          4.5555          2.1345   \n",
       "2021-12-19 09:30:00          0.6905          4.7795          2.1345   \n",
       "2021-12-19 10:00:00          0.7060          4.4590          2.1345   \n",
       "2021-12-19 10:30:00          0.7155          4.5060          2.1345   \n",
       "2021-12-19 11:00:00          0.6850          4.4990          2.1345   \n",
       "2021-12-19 11:30:00          0.6695          4.6730          2.1345   \n",
       "2021-12-19 12:00:00          0.7245          4.5595          2.1345   \n",
       "2021-12-19 12:30:00          0.7340          4.4790          2.1345   \n",
       "2021-12-19 13:00:00          0.6970          4.4965          2.1345   \n",
       "2021-12-19 13:30:00          0.7065          4.4685          2.1345   \n",
       "2021-12-19 14:00:00          0.6810          4.8270          2.1345   \n",
       "2021-12-19 14:30:00          0.7550          4.9840          2.1345   \n",
       "2021-12-19 15:00:00          0.7150          4.9810          2.1345   \n",
       "2021-12-19 15:30:00          0.7120          4.9720          2.1345   \n",
       "2021-12-19 16:00:00          1.6215          4.6320          2.1345   \n",
       "2021-12-19 16:30:00          1.6220          4.9140          2.1345   \n",
       "2021-12-19 17:00:00          1.6275          4.9475          2.1345   \n",
       "2021-12-19 17:30:00          1.4795          4.5435          2.1345   \n",
       "2021-12-19 18:00:00          0.6885          4.9780          2.1345   \n",
       "2021-12-19 18:30:00             NaN             NaN             NaN   \n",
       "2021-12-19 19:00:00             NaN             NaN             NaN   \n",
       "2021-12-19 19:30:00             NaN             NaN             NaN   \n",
       "2021-12-19 20:00:00             NaN             NaN             NaN   \n",
       "2021-12-19 20:30:00             NaN             NaN             NaN   \n",
       "2021-12-19 21:00:00             NaN             NaN             NaN   \n",
       "2021-12-19 21:30:00             NaN             NaN             NaN   \n",
       "2021-12-19 22:00:00             NaN             NaN             NaN   \n",
       "2021-12-19 22:30:00             NaN             NaN             NaN   \n",
       "2021-12-19 23:00:00             NaN             NaN             NaN   \n",
       "2021-12-19 23:30:00             NaN             NaN             NaN   \n",
       "\n",
       "                     dev-104_ea_imp  dev-105_ea_imp  dev-106_ea_imp  \\\n",
       "dt                                                                    \n",
       "2021-12-19 00:00:00          0.8165          2.9060             0.0   \n",
       "2021-12-19 00:30:00          0.8520          1.8895             0.0   \n",
       "2021-12-19 01:00:00          0.8220          1.8880             0.0   \n",
       "2021-12-19 01:30:00          0.8720          1.8820             0.0   \n",
       "2021-12-19 02:00:00          0.8330          1.8825             0.0   \n",
       "2021-12-19 02:30:00          0.8105          1.8835             0.0   \n",
       "2021-12-19 03:00:00          0.8295          1.8960             0.0   \n",
       "2021-12-19 03:30:00          0.8585          1.8915             0.0   \n",
       "2021-12-19 04:00:00          0.8445          1.8855             0.0   \n",
       "2021-12-19 04:30:00          0.8280          1.8870             0.0   \n",
       "2021-12-19 05:00:00          0.8335          1.8820             0.0   \n",
       "2021-12-19 05:30:00          0.8860          1.8825             0.0   \n",
       "2021-12-19 06:00:00          0.7985          1.8805             0.0   \n",
       "2021-12-19 06:30:00          0.8640          1.8840             0.0   \n",
       "2021-12-19 07:00:00          0.8400          2.3175             0.0   \n",
       "2021-12-19 07:30:00          0.8325          3.4330             0.0   \n",
       "2021-12-19 08:00:00          0.8275          3.4255             0.0   \n",
       "2021-12-19 08:30:00          0.8200          3.4180             0.0   \n",
       "2021-12-19 09:00:00          0.8505          3.4345             0.0   \n",
       "2021-12-19 09:30:00          0.8350          3.4190             0.0   \n",
       "2021-12-19 10:00:00          0.7995          3.4220             0.0   \n",
       "2021-12-19 10:30:00          0.8515          3.4245             0.0   \n",
       "2021-12-19 11:00:00          0.8555          3.4035             0.0   \n",
       "2021-12-19 11:30:00          0.8250          3.3990             0.0   \n",
       "2021-12-19 12:00:00          0.8070          3.3970             0.0   \n",
       "2021-12-19 12:30:00          0.8310          3.4130             0.0   \n",
       "2021-12-19 13:00:00          0.8525          3.4110             0.0   \n",
       "2021-12-19 13:30:00          0.8205          3.4195             0.0   \n",
       "2021-12-19 14:00:00          0.8245          3.4125             0.0   \n",
       "2021-12-19 14:30:00          0.8460          3.3635             0.0   \n",
       "2021-12-19 15:00:00          0.8390          3.3470             0.0   \n",
       "2021-12-19 15:30:00          0.8400          3.3365             0.0   \n",
       "2021-12-19 16:00:00          0.8180          3.3440             0.0   \n",
       "2021-12-19 16:30:00          0.8525          3.3290             0.0   \n",
       "2021-12-19 17:00:00          0.8135          3.3185             0.0   \n",
       "2021-12-19 17:30:00          0.8405          3.3300             0.0   \n",
       "2021-12-19 18:00:00          0.8325          3.3175             0.0   \n",
       "2021-12-19 18:30:00             NaN             NaN             NaN   \n",
       "2021-12-19 19:00:00             NaN             NaN             NaN   \n",
       "2021-12-19 19:30:00             NaN             NaN             NaN   \n",
       "2021-12-19 20:00:00             NaN             NaN             NaN   \n",
       "2021-12-19 20:30:00             NaN             NaN             NaN   \n",
       "2021-12-19 21:00:00             NaN             NaN             NaN   \n",
       "2021-12-19 21:30:00             NaN             NaN             NaN   \n",
       "2021-12-19 22:00:00             NaN             NaN             NaN   \n",
       "2021-12-19 22:30:00             NaN             NaN             NaN   \n",
       "2021-12-19 23:00:00             NaN             NaN             NaN   \n",
       "2021-12-19 23:30:00             NaN             NaN             NaN   \n",
       "\n",
       "                     dev-107_ea_imp  dev-108_ea_imp  dev-109_ea_imp  \\\n",
       "dt                                                                    \n",
       "2021-12-19 00:00:00             0.0           0.008          0.0075   \n",
       "2021-12-19 00:30:00             0.0           0.008          0.0075   \n",
       "2021-12-19 01:00:00             NaN           0.008          0.0075   \n",
       "2021-12-19 01:30:00             0.0           0.008          0.0075   \n",
       "2021-12-19 02:00:00             0.0           0.008          0.0075   \n",
       "2021-12-19 02:30:00             0.0           0.008          0.0075   \n",
       "2021-12-19 03:00:00             0.0           0.008          0.0075   \n",
       "2021-12-19 03:30:00             0.0           0.008          0.0075   \n",
       "2021-12-19 04:00:00             0.0           0.008          0.0075   \n",
       "2021-12-19 04:30:00             0.0           0.008          0.0075   \n",
       "2021-12-19 05:00:00             0.0           0.008          0.0075   \n",
       "2021-12-19 05:30:00             0.0           0.008          0.0075   \n",
       "2021-12-19 06:00:00             0.0           0.008          0.0075   \n",
       "2021-12-19 06:30:00             0.0           0.008          0.0075   \n",
       "2021-12-19 07:00:00             0.0           0.008          0.0075   \n",
       "2021-12-19 07:30:00             0.0           0.008          0.0075   \n",
       "2021-12-19 08:00:00             0.0           0.008          0.0075   \n",
       "2021-12-19 08:30:00             0.0           0.008          0.0075   \n",
       "2021-12-19 09:00:00             0.0           0.008          0.0075   \n",
       "2021-12-19 09:30:00             0.0           0.008          0.0075   \n",
       "2021-12-19 10:00:00             0.0           0.008          0.0075   \n",
       "2021-12-19 10:30:00             0.0           0.008          0.0075   \n",
       "2021-12-19 11:00:00             0.0           0.008          0.0070   \n",
       "2021-12-19 11:30:00             0.0           0.008          0.0075   \n",
       "2021-12-19 12:00:00             0.0           0.008          0.0075   \n",
       "2021-12-19 12:30:00             0.0           0.008          0.0075   \n",
       "2021-12-19 13:00:00             0.0           0.008          0.0075   \n",
       "2021-12-19 13:30:00             0.0           0.008          0.0070   \n",
       "2021-12-19 14:00:00             0.0           0.008          0.0070   \n",
       "2021-12-19 14:30:00             0.0           0.008          0.0075   \n",
       "2021-12-19 15:00:00             0.0           0.008          0.0070   \n",
       "2021-12-19 15:30:00             0.0           0.008          0.0070   \n",
       "2021-12-19 16:00:00             0.0           0.008          0.0070   \n",
       "2021-12-19 16:30:00             0.0           0.008          0.0070   \n",
       "2021-12-19 17:00:00             0.0           0.008          0.0075   \n",
       "2021-12-19 17:30:00             0.0           0.008          0.0075   \n",
       "2021-12-19 18:00:00             0.0           0.008          0.0075   \n",
       "2021-12-19 18:30:00             NaN             NaN             NaN   \n",
       "2021-12-19 19:00:00             NaN             NaN             NaN   \n",
       "2021-12-19 19:30:00             NaN             NaN             NaN   \n",
       "2021-12-19 20:00:00             NaN             NaN             NaN   \n",
       "2021-12-19 20:30:00             NaN             NaN             NaN   \n",
       "2021-12-19 21:00:00             NaN             NaN             NaN   \n",
       "2021-12-19 21:30:00             NaN             NaN             NaN   \n",
       "2021-12-19 22:00:00             NaN             NaN             NaN   \n",
       "2021-12-19 22:30:00             NaN             NaN             NaN   \n",
       "2021-12-19 23:00:00             NaN             NaN             NaN   \n",
       "2021-12-19 23:30:00             NaN             NaN             NaN   \n",
       "\n",
       "                     dev-110_ea_imp  dev-111_ea_imp  dev-112_ea_imp  \\\n",
       "dt                                                                    \n",
       "2021-12-19 00:00:00          0.6915             0.0             0.0   \n",
       "2021-12-19 00:30:00          0.7065             0.0             0.0   \n",
       "2021-12-19 01:00:00          0.7165             0.0             0.0   \n",
       "2021-12-19 01:30:00          0.7265             0.0             0.0   \n",
       "2021-12-19 02:00:00          0.7255             0.0             0.0   \n",
       "2021-12-19 02:30:00          0.6640             0.0             0.0   \n",
       "2021-12-19 03:00:00          0.7000             0.0             0.0   \n",
       "2021-12-19 03:30:00          0.7110             0.0             0.0   \n",
       "2021-12-19 04:00:00          0.7215             0.0             0.0   \n",
       "2021-12-19 04:30:00          0.6895             0.0             0.0   \n",
       "2021-12-19 05:00:00          0.6575             0.0             0.0   \n",
       "2021-12-19 05:30:00          0.7215             0.0             0.0   \n",
       "2021-12-19 06:00:00          0.7120             0.0             0.0   \n",
       "2021-12-19 06:30:00          0.6875             0.0             0.0   \n",
       "2021-12-19 07:00:00          0.6920             0.0             0.0   \n",
       "2021-12-19 07:30:00          0.6665             0.0             0.0   \n",
       "2021-12-19 08:00:00          0.7360             0.0             0.0   \n",
       "2021-12-19 08:30:00          0.7010             0.0             0.0   \n",
       "2021-12-19 09:00:00          0.6500             0.0             0.0   \n",
       "2021-12-19 09:30:00          0.6645             0.0             0.0   \n",
       "2021-12-19 10:00:00          0.6800             0.0             0.0   \n",
       "2021-12-19 10:30:00          0.6905             0.0             0.0   \n",
       "2021-12-19 11:00:00          0.6590             0.0             0.0   \n",
       "2021-12-19 11:30:00          0.6455             0.0             0.0   \n",
       "2021-12-19 12:00:00          0.6970             0.0             0.0   \n",
       "2021-12-19 12:30:00          0.7070             0.0             0.0   \n",
       "2021-12-19 13:00:00          0.6730             0.0             0.0   \n",
       "2021-12-19 13:30:00          0.6795             0.0             0.0   \n",
       "2021-12-19 14:00:00          0.6555             0.0             0.0   \n",
       "2021-12-19 14:30:00          0.7295             0.0             0.0   \n",
       "2021-12-19 15:00:00          0.6880             0.0             0.0   \n",
       "2021-12-19 15:30:00          0.6800             0.0             0.0   \n",
       "2021-12-19 16:00:00          1.5920             0.0             0.0   \n",
       "2021-12-19 16:30:00          1.5955             0.0             0.0   \n",
       "2021-12-19 17:00:00          1.6030             0.0             0.0   \n",
       "2021-12-19 17:30:00          1.4620             0.0             0.0   \n",
       "2021-12-19 18:00:00          0.6630             0.0             0.0   \n",
       "2021-12-19 18:30:00             NaN             NaN             NaN   \n",
       "2021-12-19 19:00:00             NaN             NaN             NaN   \n",
       "2021-12-19 19:30:00             NaN             NaN             NaN   \n",
       "2021-12-19 20:00:00             NaN             NaN             NaN   \n",
       "2021-12-19 20:30:00             NaN             NaN             NaN   \n",
       "2021-12-19 21:00:00             NaN             NaN             NaN   \n",
       "2021-12-19 21:30:00             NaN             NaN             NaN   \n",
       "2021-12-19 22:00:00             NaN             NaN             NaN   \n",
       "2021-12-19 22:30:00             NaN             NaN             NaN   \n",
       "2021-12-19 23:00:00             NaN             NaN             NaN   \n",
       "2021-12-19 23:30:00             NaN             NaN             NaN   \n",
       "\n",
       "                     dev-113_ea_imp  dev-114_ea_imp  dev-116_ea_imp  \\\n",
       "dt                                                                    \n",
       "2021-12-19 00:00:00          0.5030          0.3950          0.5030   \n",
       "2021-12-19 00:30:00          0.4945          0.3870          0.4945   \n",
       "2021-12-19 01:00:00          0.4895          0.3835          0.4895   \n",
       "2021-12-19 01:30:00          0.4890          0.3825          0.4890   \n",
       "2021-12-19 02:00:00          0.4895          0.3830          0.4895   \n",
       "2021-12-19 02:30:00          0.4855          0.3800          0.4855   \n",
       "2021-12-19 03:00:00          0.4890          0.3835          0.4890   \n",
       "2021-12-19 03:30:00          0.4865          0.3810          0.4865   \n",
       "2021-12-19 04:00:00          0.4890          0.3830          0.4890   \n",
       "2021-12-19 04:30:00          0.4860          0.3805          0.4860   \n",
       "2021-12-19 05:00:00          0.4895          0.3830          0.4895   \n",
       "2021-12-19 05:30:00          0.4855          0.3800          0.4855   \n",
       "2021-12-19 06:00:00          0.4840          0.3785          0.4840   \n",
       "2021-12-19 06:30:00          0.4935          0.3860          0.4935   \n",
       "2021-12-19 07:00:00          0.4900          0.3840          0.4900   \n",
       "2021-12-19 07:30:00          0.4845          0.3825          0.4845   \n",
       "2021-12-19 08:00:00          0.4910          0.3880          0.4910   \n",
       "2021-12-19 08:30:00          0.5010          0.3950          0.5010   \n",
       "2021-12-19 09:00:00          0.4855          0.3830          0.4855   \n",
       "2021-12-19 09:30:00          0.4910          0.3865          0.4910   \n",
       "2021-12-19 10:00:00          0.4850          0.3835          0.4850   \n",
       "2021-12-19 10:30:00          0.4820          0.3800          0.4820   \n",
       "2021-12-19 11:00:00          0.4855          0.3830          0.4855   \n",
       "2021-12-19 11:30:00          0.4880          0.3840          0.4880   \n",
       "2021-12-19 12:00:00          0.4860          0.3840          0.4860   \n",
       "2021-12-19 12:30:00          0.4835          0.3825          0.4835   \n",
       "2021-12-19 13:00:00          0.4810          0.3800          0.4810   \n",
       "2021-12-19 13:30:00          0.4750          0.3750          0.4750   \n",
       "2021-12-19 14:00:00          0.4655          0.3665          0.4655   \n",
       "2021-12-19 14:30:00          0.4720          0.3745          0.4720   \n",
       "2021-12-19 15:00:00          0.4705          0.3735          0.4705   \n",
       "2021-12-19 15:30:00          0.4675          0.3710          0.4675   \n",
       "2021-12-19 16:00:00          0.4720          0.3760          0.4720   \n",
       "2021-12-19 16:30:00          0.4695          0.3695          0.4695   \n",
       "2021-12-19 17:00:00          0.4845          0.3845          0.4845   \n",
       "2021-12-19 17:30:00          0.5005          0.3965          0.5005   \n",
       "2021-12-19 18:00:00          0.4780          0.3790          0.4780   \n",
       "2021-12-19 18:30:00             NaN             NaN             NaN   \n",
       "2021-12-19 19:00:00             NaN             NaN             NaN   \n",
       "2021-12-19 19:30:00             NaN             NaN             NaN   \n",
       "2021-12-19 20:00:00             NaN             NaN             NaN   \n",
       "2021-12-19 20:30:00             NaN             NaN             NaN   \n",
       "2021-12-19 21:00:00             NaN             NaN             NaN   \n",
       "2021-12-19 21:30:00             NaN             NaN             NaN   \n",
       "2021-12-19 22:00:00             NaN             NaN             NaN   \n",
       "2021-12-19 22:30:00             NaN             NaN             NaN   \n",
       "2021-12-19 23:00:00             NaN             NaN             NaN   \n",
       "2021-12-19 23:30:00             NaN             NaN             NaN   \n",
       "\n",
       "                     dev-117_ea_imp  dev-201_ea_imp  dev-202_ea_imp  \n",
       "dt                                                                   \n",
       "2021-12-19 00:00:00          0.5030          0.6845          4.7890  \n",
       "2021-12-19 00:30:00          0.4945          0.7705          4.7365  \n",
       "2021-12-19 01:00:00          0.4895          0.7840          4.6955  \n",
       "2021-12-19 01:30:00          0.4890          0.7245          5.1035  \n",
       "2021-12-19 02:00:00          0.4895          0.7400          4.9485  \n",
       "2021-12-19 02:30:00          0.4855          0.6765          4.7870  \n",
       "2021-12-19 03:00:00          0.4890          0.6745          4.6355  \n",
       "2021-12-19 03:30:00          0.4865          0.7850          4.7800  \n",
       "2021-12-19 04:00:00          0.4890          0.7185          4.8345  \n",
       "2021-12-19 04:30:00          0.4860          0.7385          4.9640  \n",
       "2021-12-19 05:00:00          0.4895          0.6945          4.6080  \n",
       "2021-12-19 05:30:00          0.4855          0.7115          4.9315  \n",
       "2021-12-19 06:00:00          0.4840          0.7905          4.5720  \n",
       "2021-12-19 06:30:00          0.4935          0.6830          4.5810  \n",
       "2021-12-19 07:00:00          0.4900          0.7385          4.6990  \n",
       "2021-12-19 07:30:00          0.4845          0.7770          4.6960  \n",
       "2021-12-19 08:00:00          0.4910          0.7190          4.3990  \n",
       "2021-12-19 08:30:00          0.5010          0.6395          4.6790  \n",
       "2021-12-19 09:00:00          0.4855          0.6765          5.0895  \n",
       "2021-12-19 09:30:00          0.4910          0.6890          4.3415  \n",
       "2021-12-19 10:00:00          0.4850          0.7825          4.3935  \n",
       "2021-12-19 10:30:00          0.4820          0.7060          4.6195  \n",
       "2021-12-19 11:00:00          0.4855          0.7330          4.3335  \n",
       "2021-12-19 11:30:00          0.4880          0.6275          4.9650  \n",
       "2021-12-19 12:00:00          0.4860          0.7055          4.3010  \n",
       "2021-12-19 12:30:00          0.4835          0.7685          4.4040  \n",
       "2021-12-19 13:00:00          0.4810          0.6635          4.4155  \n",
       "2021-12-19 13:30:00          0.4750          0.7250          4.6725  \n",
       "2021-12-19 14:00:00          0.4655          0.7355          5.0955  \n",
       "2021-12-19 14:30:00          0.4720          0.7050          5.2320  \n",
       "2021-12-19 15:00:00          0.4705          0.7440          4.8940  \n",
       "2021-12-19 15:30:00          0.4675          0.9995          5.2655  \n",
       "2021-12-19 16:00:00          0.4720          1.5810          4.4200  \n",
       "2021-12-19 16:30:00          0.4695          1.6930          5.0030  \n",
       "2021-12-19 17:00:00          0.4845          1.5385          4.7935  \n",
       "2021-12-19 17:30:00          0.5005          1.1310          4.7955  \n",
       "2021-12-19 18:00:00          0.4780          0.6775          4.7805  \n",
       "2021-12-19 18:30:00             NaN             NaN             NaN  \n",
       "2021-12-19 19:00:00             NaN             NaN             NaN  \n",
       "2021-12-19 19:30:00             NaN             NaN             NaN  \n",
       "2021-12-19 20:00:00             NaN             NaN             NaN  \n",
       "2021-12-19 20:30:00             NaN             NaN             NaN  \n",
       "2021-12-19 21:00:00             NaN             NaN             NaN  \n",
       "2021-12-19 21:30:00             NaN             NaN             NaN  \n",
       "2021-12-19 22:00:00             NaN             NaN             NaN  \n",
       "2021-12-19 22:30:00             NaN             NaN             NaN  \n",
       "2021-12-19 23:00:00             NaN             NaN             NaN  \n",
       "2021-12-19 23:30:00             NaN             NaN             NaN  "
      ]
     },
     "execution_count": 53,
     "metadata": {},
     "output_type": "execute_result"
    }
   ],
   "source": [
    "df"
   ]
  },
  {
   "cell_type": "code",
   "execution_count": 54,
   "id": "29e590b9",
   "metadata": {},
   "outputs": [
    {
     "data": {
      "text/html": [
       "<div>\n",
       "<style scoped>\n",
       "    .dataframe tbody tr th:only-of-type {\n",
       "        vertical-align: middle;\n",
       "    }\n",
       "\n",
       "    .dataframe tbody tr th {\n",
       "        vertical-align: top;\n",
       "    }\n",
       "\n",
       "    .dataframe thead th {\n",
       "        text-align: right;\n",
       "    }\n",
       "</style>\n",
       "<table border=\"1\" class=\"dataframe\">\n",
       "  <thead>\n",
       "    <tr style=\"text-align: right;\">\n",
       "      <th></th>\n",
       "      <th>id</th>\n",
       "      <th>name</th>\n",
       "      <th>parent</th>\n",
       "      <th>type</th>\n",
       "    </tr>\n",
       "  </thead>\n",
       "  <tbody>\n",
       "    <tr>\n",
       "      <th>0</th>\n",
       "      <td>object-1</td>\n",
       "      <td>Офис</td>\n",
       "      <td>object-0</td>\n",
       "      <td>1</td>\n",
       "    </tr>\n",
       "    <tr>\n",
       "      <th>1</th>\n",
       "      <td>object-2</td>\n",
       "      <td>ВРУ-3.1</td>\n",
       "      <td>object-1</td>\n",
       "      <td>1</td>\n",
       "    </tr>\n",
       "    <tr>\n",
       "      <th>2</th>\n",
       "      <td>object-3</td>\n",
       "      <td>ВРУ-3.2</td>\n",
       "      <td>object-1</td>\n",
       "      <td>1</td>\n",
       "    </tr>\n",
       "    <tr>\n",
       "      <th>3</th>\n",
       "      <td>object-4</td>\n",
       "      <td>ВРУ 2-го этажа</td>\n",
       "      <td>object-1</td>\n",
       "      <td>1</td>\n",
       "    </tr>\n",
       "    <tr>\n",
       "      <th>4</th>\n",
       "      <td>object-5</td>\n",
       "      <td>ВРУ 1-го этажа</td>\n",
       "      <td>object-1</td>\n",
       "      <td>1</td>\n",
       "    </tr>\n",
       "    <tr>\n",
       "      <th>5</th>\n",
       "      <td>object-21</td>\n",
       "      <td>Шкаф АВР</td>\n",
       "      <td>object-1</td>\n",
       "      <td>1</td>\n",
       "    </tr>\n",
       "    <tr>\n",
       "      <th>6</th>\n",
       "      <td>object-23</td>\n",
       "      <td>Серверная</td>\n",
       "      <td>object-1</td>\n",
       "      <td>1</td>\n",
       "    </tr>\n",
       "    <tr>\n",
       "      <th>7</th>\n",
       "      <td>device-0</td>\n",
       "      <td>Модуль дорасчетов</td>\n",
       "      <td>object-0</td>\n",
       "      <td>2</td>\n",
       "    </tr>\n",
       "    <tr>\n",
       "      <th>8</th>\n",
       "      <td>device-101</td>\n",
       "      <td>Ввод-1 (контр.)</td>\n",
       "      <td>object-2</td>\n",
       "      <td>2</td>\n",
       "    </tr>\n",
       "    <tr>\n",
       "      <th>9</th>\n",
       "      <td>device-102</td>\n",
       "      <td>Ввод-2 (контр.)</td>\n",
       "      <td>object-3</td>\n",
       "      <td>2</td>\n",
       "    </tr>\n",
       "    <tr>\n",
       "      <th>10</th>\n",
       "      <td>device-103</td>\n",
       "      <td>ЩВК 3.3 (ВРУ 3.2)</td>\n",
       "      <td>object-3</td>\n",
       "      <td>2</td>\n",
       "    </tr>\n",
       "    <tr>\n",
       "      <th>11</th>\n",
       "      <td>device-104</td>\n",
       "      <td>ЩР 3.2 (ВРУ 3.2)</td>\n",
       "      <td>object-3</td>\n",
       "      <td>2</td>\n",
       "    </tr>\n",
       "    <tr>\n",
       "      <th>12</th>\n",
       "      <td>device-105</td>\n",
       "      <td>ЩРС 2 (ВРУ 3.2)</td>\n",
       "      <td>object-3</td>\n",
       "      <td>2</td>\n",
       "    </tr>\n",
       "    <tr>\n",
       "      <th>13</th>\n",
       "      <td>device-106</td>\n",
       "      <td>Резерв (ВРУ 3.2)</td>\n",
       "      <td>object-3</td>\n",
       "      <td>2</td>\n",
       "    </tr>\n",
       "    <tr>\n",
       "      <th>14</th>\n",
       "      <td>device-107</td>\n",
       "      <td>ЩАВР (ВРУ 3.2)</td>\n",
       "      <td>object-3</td>\n",
       "      <td>2</td>\n",
       "    </tr>\n",
       "    <tr>\n",
       "      <th>15</th>\n",
       "      <td>device-109</td>\n",
       "      <td>ЩВК 3.2 (ВРУ 3.1)</td>\n",
       "      <td>object-2</td>\n",
       "      <td>2</td>\n",
       "    </tr>\n",
       "    <tr>\n",
       "      <th>16</th>\n",
       "      <td>device-110</td>\n",
       "      <td>ЩР 3.1 (ВРУ 3.1)</td>\n",
       "      <td>object-2</td>\n",
       "      <td>2</td>\n",
       "    </tr>\n",
       "    <tr>\n",
       "      <th>17</th>\n",
       "      <td>device-111</td>\n",
       "      <td>Резерв (ВРУ-3.1)</td>\n",
       "      <td>object-2</td>\n",
       "      <td>2</td>\n",
       "    </tr>\n",
       "    <tr>\n",
       "      <th>18</th>\n",
       "      <td>device-112</td>\n",
       "      <td>ЩАВР (ВРУ 3.1)</td>\n",
       "      <td>object-2</td>\n",
       "      <td>2</td>\n",
       "    </tr>\n",
       "    <tr>\n",
       "      <th>19</th>\n",
       "      <td>device-113</td>\n",
       "      <td>ЩРС-1</td>\n",
       "      <td>object-21</td>\n",
       "      <td>2</td>\n",
       "    </tr>\n",
       "    <tr>\n",
       "      <th>20</th>\n",
       "      <td>device-114</td>\n",
       "      <td>ЩРС-2</td>\n",
       "      <td>object-2</td>\n",
       "      <td>2</td>\n",
       "    </tr>\n",
       "    <tr>\n",
       "      <th>21</th>\n",
       "      <td>device-116</td>\n",
       "      <td>Шкаф серверный №2  ввод-1</td>\n",
       "      <td>object-23</td>\n",
       "      <td>2</td>\n",
       "    </tr>\n",
       "    <tr>\n",
       "      <th>22</th>\n",
       "      <td>device-117</td>\n",
       "      <td>Шкаф серверный №2  ввод-2</td>\n",
       "      <td>object-23</td>\n",
       "      <td>2</td>\n",
       "    </tr>\n",
       "    <tr>\n",
       "      <th>23</th>\n",
       "      <td>device-201</td>\n",
       "      <td>Ввод-1 (ком.)</td>\n",
       "      <td>object-5</td>\n",
       "      <td>2</td>\n",
       "    </tr>\n",
       "    <tr>\n",
       "      <th>24</th>\n",
       "      <td>device-202</td>\n",
       "      <td>Ввод-2 (ком.)</td>\n",
       "      <td>object-4</td>\n",
       "      <td>2</td>\n",
       "    </tr>\n",
       "    <tr>\n",
       "      <th>25</th>\n",
       "      <td>device-108</td>\n",
       "      <td>ЩВК 3.1 (ВРУ 3.1)</td>\n",
       "      <td>object-2</td>\n",
       "      <td>2</td>\n",
       "    </tr>\n",
       "  </tbody>\n",
       "</table>\n",
       "</div>"
      ],
      "text/plain": [
       "            id                       name     parent  type\n",
       "0     object-1                       Офис   object-0     1\n",
       "1     object-2                    ВРУ-3.1   object-1     1\n",
       "2     object-3                    ВРУ-3.2   object-1     1\n",
       "3     object-4             ВРУ 2-го этажа   object-1     1\n",
       "4     object-5             ВРУ 1-го этажа   object-1     1\n",
       "5    object-21                   Шкаф АВР   object-1     1\n",
       "6    object-23                  Серверная   object-1     1\n",
       "7     device-0          Модуль дорасчетов   object-0     2\n",
       "8   device-101            Ввод-1 (контр.)   object-2     2\n",
       "9   device-102            Ввод-2 (контр.)   object-3     2\n",
       "10  device-103          ЩВК 3.3 (ВРУ 3.2)   object-3     2\n",
       "11  device-104           ЩР 3.2 (ВРУ 3.2)   object-3     2\n",
       "12  device-105            ЩРС 2 (ВРУ 3.2)   object-3     2\n",
       "13  device-106           Резерв (ВРУ 3.2)   object-3     2\n",
       "14  device-107             ЩАВР (ВРУ 3.2)   object-3     2\n",
       "15  device-109          ЩВК 3.2 (ВРУ 3.1)   object-2     2\n",
       "16  device-110           ЩР 3.1 (ВРУ 3.1)   object-2     2\n",
       "17  device-111           Резерв (ВРУ-3.1)   object-2     2\n",
       "18  device-112             ЩАВР (ВРУ 3.1)   object-2     2\n",
       "19  device-113                      ЩРС-1  object-21     2\n",
       "20  device-114                      ЩРС-2   object-2     2\n",
       "21  device-116  Шкаф серверный №2  ввод-1  object-23     2\n",
       "22  device-117  Шкаф серверный №2  ввод-2  object-23     2\n",
       "23  device-201              Ввод-1 (ком.)   object-5     2\n",
       "24  device-202              Ввод-2 (ком.)   object-4     2\n",
       "25  device-108          ЩВК 3.1 (ВРУ 3.1)   object-2     2"
      ]
     },
     "execution_count": 54,
     "metadata": {},
     "output_type": "execute_result"
    }
   ],
   "source": [
    "tree1 = el.devices_tree()\n",
    "tree1"
   ]
  },
  {
   "cell_type": "code",
   "execution_count": 98,
   "id": "2b531753",
   "metadata": {},
   "outputs": [
    {
     "data": {
      "text/html": [
       "<div>\n",
       "<style scoped>\n",
       "    .dataframe tbody tr th:only-of-type {\n",
       "        vertical-align: middle;\n",
       "    }\n",
       "\n",
       "    .dataframe tbody tr th {\n",
       "        vertical-align: top;\n",
       "    }\n",
       "\n",
       "    .dataframe thead th {\n",
       "        text-align: right;\n",
       "    }\n",
       "</style>\n",
       "<table border=\"1\" class=\"dataframe\">\n",
       "  <thead>\n",
       "    <tr style=\"text-align: right;\">\n",
       "      <th></th>\n",
       "      <th>dev-117_ea_imp</th>\n",
       "    </tr>\n",
       "    <tr>\n",
       "      <th>dt</th>\n",
       "      <th></th>\n",
       "    </tr>\n",
       "  </thead>\n",
       "  <tbody>\n",
       "    <tr>\n",
       "      <th>2021-12-19 00:00:00</th>\n",
       "      <td>0.5030</td>\n",
       "    </tr>\n",
       "    <tr>\n",
       "      <th>2021-12-19 00:30:00</th>\n",
       "      <td>0.4945</td>\n",
       "    </tr>\n",
       "    <tr>\n",
       "      <th>2021-12-19 01:00:00</th>\n",
       "      <td>0.4895</td>\n",
       "    </tr>\n",
       "    <tr>\n",
       "      <th>2021-12-19 01:30:00</th>\n",
       "      <td>0.4890</td>\n",
       "    </tr>\n",
       "    <tr>\n",
       "      <th>2021-12-19 02:00:00</th>\n",
       "      <td>0.4895</td>\n",
       "    </tr>\n",
       "    <tr>\n",
       "      <th>2021-12-19 02:30:00</th>\n",
       "      <td>0.4855</td>\n",
       "    </tr>\n",
       "    <tr>\n",
       "      <th>2021-12-19 03:00:00</th>\n",
       "      <td>0.4890</td>\n",
       "    </tr>\n",
       "    <tr>\n",
       "      <th>2021-12-19 03:30:00</th>\n",
       "      <td>0.4865</td>\n",
       "    </tr>\n",
       "    <tr>\n",
       "      <th>2021-12-19 04:00:00</th>\n",
       "      <td>0.4890</td>\n",
       "    </tr>\n",
       "    <tr>\n",
       "      <th>2021-12-19 04:30:00</th>\n",
       "      <td>0.4860</td>\n",
       "    </tr>\n",
       "    <tr>\n",
       "      <th>2021-12-19 05:00:00</th>\n",
       "      <td>0.4895</td>\n",
       "    </tr>\n",
       "    <tr>\n",
       "      <th>2021-12-19 05:30:00</th>\n",
       "      <td>0.4855</td>\n",
       "    </tr>\n",
       "    <tr>\n",
       "      <th>2021-12-19 06:00:00</th>\n",
       "      <td>0.4840</td>\n",
       "    </tr>\n",
       "    <tr>\n",
       "      <th>2021-12-19 06:30:00</th>\n",
       "      <td>0.4935</td>\n",
       "    </tr>\n",
       "    <tr>\n",
       "      <th>2021-12-19 07:00:00</th>\n",
       "      <td>0.4900</td>\n",
       "    </tr>\n",
       "    <tr>\n",
       "      <th>2021-12-19 07:30:00</th>\n",
       "      <td>0.4845</td>\n",
       "    </tr>\n",
       "    <tr>\n",
       "      <th>2021-12-19 08:00:00</th>\n",
       "      <td>0.4910</td>\n",
       "    </tr>\n",
       "    <tr>\n",
       "      <th>2021-12-19 08:30:00</th>\n",
       "      <td>0.5010</td>\n",
       "    </tr>\n",
       "    <tr>\n",
       "      <th>2021-12-19 09:00:00</th>\n",
       "      <td>0.4855</td>\n",
       "    </tr>\n",
       "    <tr>\n",
       "      <th>2021-12-19 09:30:00</th>\n",
       "      <td>0.4910</td>\n",
       "    </tr>\n",
       "    <tr>\n",
       "      <th>2021-12-19 10:00:00</th>\n",
       "      <td>0.4850</td>\n",
       "    </tr>\n",
       "    <tr>\n",
       "      <th>2021-12-19 10:30:00</th>\n",
       "      <td>0.4820</td>\n",
       "    </tr>\n",
       "    <tr>\n",
       "      <th>2021-12-19 11:00:00</th>\n",
       "      <td>0.4855</td>\n",
       "    </tr>\n",
       "    <tr>\n",
       "      <th>2021-12-19 11:30:00</th>\n",
       "      <td>0.4880</td>\n",
       "    </tr>\n",
       "    <tr>\n",
       "      <th>2021-12-19 12:00:00</th>\n",
       "      <td>0.4860</td>\n",
       "    </tr>\n",
       "    <tr>\n",
       "      <th>2021-12-19 12:30:00</th>\n",
       "      <td>0.4835</td>\n",
       "    </tr>\n",
       "    <tr>\n",
       "      <th>2021-12-19 13:00:00</th>\n",
       "      <td>0.4810</td>\n",
       "    </tr>\n",
       "    <tr>\n",
       "      <th>2021-12-19 13:30:00</th>\n",
       "      <td>0.4750</td>\n",
       "    </tr>\n",
       "    <tr>\n",
       "      <th>2021-12-19 14:00:00</th>\n",
       "      <td>0.4655</td>\n",
       "    </tr>\n",
       "    <tr>\n",
       "      <th>2021-12-19 14:30:00</th>\n",
       "      <td>0.4720</td>\n",
       "    </tr>\n",
       "    <tr>\n",
       "      <th>2021-12-19 15:00:00</th>\n",
       "      <td>0.4705</td>\n",
       "    </tr>\n",
       "    <tr>\n",
       "      <th>2021-12-19 15:30:00</th>\n",
       "      <td>0.4675</td>\n",
       "    </tr>\n",
       "    <tr>\n",
       "      <th>2021-12-19 16:00:00</th>\n",
       "      <td>0.4720</td>\n",
       "    </tr>\n",
       "    <tr>\n",
       "      <th>2021-12-19 16:30:00</th>\n",
       "      <td>0.4695</td>\n",
       "    </tr>\n",
       "    <tr>\n",
       "      <th>2021-12-19 17:00:00</th>\n",
       "      <td>0.4845</td>\n",
       "    </tr>\n",
       "    <tr>\n",
       "      <th>2021-12-19 17:30:00</th>\n",
       "      <td>0.5005</td>\n",
       "    </tr>\n",
       "    <tr>\n",
       "      <th>2021-12-19 18:00:00</th>\n",
       "      <td>NaN</td>\n",
       "    </tr>\n",
       "    <tr>\n",
       "      <th>2021-12-19 18:30:00</th>\n",
       "      <td>NaN</td>\n",
       "    </tr>\n",
       "    <tr>\n",
       "      <th>2021-12-19 19:00:00</th>\n",
       "      <td>NaN</td>\n",
       "    </tr>\n",
       "    <tr>\n",
       "      <th>2021-12-19 19:30:00</th>\n",
       "      <td>NaN</td>\n",
       "    </tr>\n",
       "    <tr>\n",
       "      <th>2021-12-19 20:00:00</th>\n",
       "      <td>NaN</td>\n",
       "    </tr>\n",
       "    <tr>\n",
       "      <th>2021-12-19 20:30:00</th>\n",
       "      <td>NaN</td>\n",
       "    </tr>\n",
       "    <tr>\n",
       "      <th>2021-12-19 21:00:00</th>\n",
       "      <td>NaN</td>\n",
       "    </tr>\n",
       "    <tr>\n",
       "      <th>2021-12-19 21:30:00</th>\n",
       "      <td>NaN</td>\n",
       "    </tr>\n",
       "    <tr>\n",
       "      <th>2021-12-19 22:00:00</th>\n",
       "      <td>NaN</td>\n",
       "    </tr>\n",
       "    <tr>\n",
       "      <th>2021-12-19 22:30:00</th>\n",
       "      <td>NaN</td>\n",
       "    </tr>\n",
       "    <tr>\n",
       "      <th>2021-12-19 23:00:00</th>\n",
       "      <td>NaN</td>\n",
       "    </tr>\n",
       "    <tr>\n",
       "      <th>2021-12-19 23:30:00</th>\n",
       "      <td>NaN</td>\n",
       "    </tr>\n",
       "  </tbody>\n",
       "</table>\n",
       "</div>"
      ],
      "text/plain": [
       "                     dev-117_ea_imp\n",
       "dt                                 \n",
       "2021-12-19 00:00:00          0.5030\n",
       "2021-12-19 00:30:00          0.4945\n",
       "2021-12-19 01:00:00          0.4895\n",
       "2021-12-19 01:30:00          0.4890\n",
       "2021-12-19 02:00:00          0.4895\n",
       "2021-12-19 02:30:00          0.4855\n",
       "2021-12-19 03:00:00          0.4890\n",
       "2021-12-19 03:30:00          0.4865\n",
       "2021-12-19 04:00:00          0.4890\n",
       "2021-12-19 04:30:00          0.4860\n",
       "2021-12-19 05:00:00          0.4895\n",
       "2021-12-19 05:30:00          0.4855\n",
       "2021-12-19 06:00:00          0.4840\n",
       "2021-12-19 06:30:00          0.4935\n",
       "2021-12-19 07:00:00          0.4900\n",
       "2021-12-19 07:30:00          0.4845\n",
       "2021-12-19 08:00:00          0.4910\n",
       "2021-12-19 08:30:00          0.5010\n",
       "2021-12-19 09:00:00          0.4855\n",
       "2021-12-19 09:30:00          0.4910\n",
       "2021-12-19 10:00:00          0.4850\n",
       "2021-12-19 10:30:00          0.4820\n",
       "2021-12-19 11:00:00          0.4855\n",
       "2021-12-19 11:30:00          0.4880\n",
       "2021-12-19 12:00:00          0.4860\n",
       "2021-12-19 12:30:00          0.4835\n",
       "2021-12-19 13:00:00          0.4810\n",
       "2021-12-19 13:30:00          0.4750\n",
       "2021-12-19 14:00:00          0.4655\n",
       "2021-12-19 14:30:00          0.4720\n",
       "2021-12-19 15:00:00          0.4705\n",
       "2021-12-19 15:30:00          0.4675\n",
       "2021-12-19 16:00:00          0.4720\n",
       "2021-12-19 16:30:00          0.4695\n",
       "2021-12-19 17:00:00          0.4845\n",
       "2021-12-19 17:30:00          0.5005\n",
       "2021-12-19 18:00:00             NaN\n",
       "2021-12-19 18:30:00             NaN\n",
       "2021-12-19 19:00:00             NaN\n",
       "2021-12-19 19:30:00             NaN\n",
       "2021-12-19 20:00:00             NaN\n",
       "2021-12-19 20:30:00             NaN\n",
       "2021-12-19 21:00:00             NaN\n",
       "2021-12-19 21:30:00             NaN\n",
       "2021-12-19 22:00:00             NaN\n",
       "2021-12-19 22:30:00             NaN\n",
       "2021-12-19 23:00:00             NaN\n",
       "2021-12-19 23:30:00             NaN"
      ]
     },
     "execution_count": 98,
     "metadata": {},
     "output_type": "execute_result"
    }
   ],
   "source": [
    "el.get_data([\"dev-117_ea_imp\"], ['30min'], '2021-12-19','2021-12-19')"
   ]
  },
  {
   "cell_type": "code",
   "execution_count": 55,
   "id": "80aed1b8",
   "metadata": {},
   "outputs": [
    {
     "data": {
      "text/plain": [
       "['dev-101_ea_imp',\n",
       " 'dev-102_ea_imp',\n",
       " 'dev-103_ea_imp',\n",
       " 'dev-104_ea_imp',\n",
       " 'dev-105_ea_imp',\n",
       " 'dev-106_ea_imp',\n",
       " 'dev-107_ea_imp',\n",
       " 'dev-108_ea_imp',\n",
       " 'dev-109_ea_imp',\n",
       " 'dev-110_ea_imp',\n",
       " 'dev-111_ea_imp',\n",
       " 'dev-112_ea_imp',\n",
       " 'dev-113_ea_imp',\n",
       " 'dev-114_ea_imp',\n",
       " 'dev-116_ea_imp',\n",
       " 'dev-117_ea_imp',\n",
       " 'dev-201_ea_imp',\n",
       " 'dev-202_ea_imp']"
      ]
     },
     "execution_count": 55,
     "metadata": {},
     "output_type": "execute_result"
    }
   ],
   "source": [
    "sorted([\"dev-101_ea_imp\",\"dev-109_ea_imp\",\"dev-110_ea_imp\",\n",
    "                \"dev-111_ea_imp\",\"dev-112_ea_imp\",\"dev-114_ea_imp\",\n",
    "                \"dev-108_ea_imp\",\"dev-102_ea_imp\",\"dev-103_ea_imp\",\n",
    "                \"dev-104_ea_imp\",\"dev-105_ea_imp\",\"dev-106_ea_imp\",\n",
    "                \"dev-107_ea_imp\",\"dev-202_ea_imp\",\"dev-201_ea_imp\",\n",
    "                \"dev-113_ea_imp\",\"dev-116_ea_imp\",\"dev-117_ea_imp\"])"
   ]
  },
  {
   "cell_type": "code",
   "execution_count": 48,
   "id": "ea3a5e4e",
   "metadata": {},
   "outputs": [],
   "source": [
    "class SomeClass(object):\n",
    "    def __init__(self, n):\n",
    "        self.list = range(0, n)\n",
    "    \n",
    "    def get_list(self):\n",
    "        return self._list\n",
    "    @property\n",
    "    def list(self):\n",
    "        return self._list\n",
    "    @list.setter\n",
    "    def list(self, val):\n",
    "        self._list = val\n",
    "        self._listsquare = [x**2 for x in self._list ]\n",
    "\n",
    "    @property\n",
    "    def listsquare(self):\n",
    "        return self._listsquare\n",
    "    @listsquare.setter\n",
    "    def listsquare(self, val):\n",
    "        self.list = [int(pow(x, 0.5)) for x in val]\n",
    "        \n",
    "        \n",
    "class ChildClass(object):\n",
    "        def __init__(self, s):\n",
    "            self.atrib = s.list\n",
    "            self.parent = s\n",
    "        def get(self):\n",
    "            return self.parent.get_list()\n",
    "            \n",
    "        \n"
   ]
  },
  {
   "cell_type": "code",
   "execution_count": 54,
   "id": "090a07d2",
   "metadata": {},
   "outputs": [],
   "source": [
    "a = SomeClass(3)"
   ]
  },
  {
   "cell_type": "code",
   "execution_count": 55,
   "id": "6918c2b4",
   "metadata": {},
   "outputs": [
    {
     "data": {
      "text/plain": [
       "range(0, 3)"
      ]
     },
     "execution_count": 55,
     "metadata": {},
     "output_type": "execute_result"
    }
   ],
   "source": [
    "a.list"
   ]
  },
  {
   "cell_type": "code",
   "execution_count": 61,
   "id": "02f3b2db",
   "metadata": {},
   "outputs": [],
   "source": [
    "a.list = range(0, 5)"
   ]
  },
  {
   "cell_type": "code",
   "execution_count": 56,
   "id": "71da42d2",
   "metadata": {},
   "outputs": [],
   "source": [
    "b = ChildClass(a)"
   ]
  },
  {
   "cell_type": "code",
   "execution_count": 65,
   "id": "62cbfbf1",
   "metadata": {},
   "outputs": [
    {
     "data": {
      "text/plain": [
       "range(0, 3)"
      ]
     },
     "execution_count": 65,
     "metadata": {},
     "output_type": "execute_result"
    }
   ],
   "source": [
    "b.atrib"
   ]
  },
  {
   "cell_type": "code",
   "execution_count": 66,
   "id": "d852eaef",
   "metadata": {},
   "outputs": [
    {
     "data": {
      "text/plain": [
       "range(0, 5)"
      ]
     },
     "execution_count": 66,
     "metadata": {},
     "output_type": "execute_result"
    }
   ],
   "source": [
    "b.get()"
   ]
  },
  {
   "cell_type": "code",
   "execution_count": 64,
   "id": "21173469",
   "metadata": {},
   "outputs": [
    {
     "data": {
      "text/plain": [
       "range(0, 5)"
      ]
     },
     "execution_count": 64,
     "metadata": {},
     "output_type": "execute_result"
    }
   ],
   "source": [
    "a.get_list()"
   ]
  },
  {
   "cell_type": "markdown",
   "id": "9258cbb4",
   "metadata": {},
   "source": [
    "### Диаграмма с активной мощностью"
   ]
  },
  {
   "cell_type": "code",
   "execution_count": 142,
   "id": "0c126957",
   "metadata": {},
   "outputs": [],
   "source": [
    "import requests\n",
    "\n",
    "request = {\"nodes\": ['obj-1']}\n",
    "url = s.host + '/sedmax/devices_configurator/ti/list'\n",
    "\n",
    "r = requests.post(\n",
    "            url,\n",
    "            json=request,\n",
    "            cookies={'jwt': s.token}\n",
    "        )\n"
   ]
  },
  {
   "cell_type": "code",
   "execution_count": 143,
   "id": "232ad868",
   "metadata": {},
   "outputs": [],
   "source": [
    "data = pd.DataFrame(r.json()['ti'])"
   ]
  },
  {
   "cell_type": "code",
   "execution_count": 144,
   "id": "eadfd5c3",
   "metadata": {},
   "outputs": [
    {
     "data": {
      "text/html": [
       "<div>\n",
       "<style scoped>\n",
       "    .dataframe tbody tr th:only-of-type {\n",
       "        vertical-align: middle;\n",
       "    }\n",
       "\n",
       "    .dataframe tbody tr th {\n",
       "        vertical-align: top;\n",
       "    }\n",
       "\n",
       "    .dataframe thead th {\n",
       "        text-align: right;\n",
       "    }\n",
       "</style>\n",
       "<table border=\"1\" class=\"dataframe\">\n",
       "  <thead>\n",
       "    <tr style=\"text-align: right;\">\n",
       "      <th></th>\n",
       "      <th>tiId</th>\n",
       "      <th>name</th>\n",
       "      <th>path</th>\n",
       "      <th>deviceName</th>\n",
       "      <th>protocol</th>\n",
       "      <th>address</th>\n",
       "      <th>telecontrolled</th>\n",
       "      <th>unit</th>\n",
       "      <th>category</th>\n",
       "      <th>code</th>\n",
       "      <th>active</th>\n",
       "      <th>common-device</th>\n",
       "    </tr>\n",
       "  </thead>\n",
       "  <tbody>\n",
       "    <tr>\n",
       "      <th>0</th>\n",
       "      <td>1</td>\n",
       "      <td>Свободное место на диске</td>\n",
       "      <td>Офис/Диагностируемое оборудование/Сервер SEDMAX</td>\n",
       "      <td>Сервер SEDMAX</td>\n",
       "      <td>SNMP v.1</td>\n",
       "      <td>1.3.6.1.4.1.2021.9.1.7.1</td>\n",
       "      <td>False</td>\n",
       "      <td>Гб</td>\n",
       "      <td>rtd</td>\n",
       "      <td>par-1</td>\n",
       "      <td>True</td>\n",
       "      <td>Сервер SEDMAX</td>\n",
       "    </tr>\n",
       "    <tr>\n",
       "      <th>1</th>\n",
       "      <td>2</td>\n",
       "      <td>Свободная оперативная память</td>\n",
       "      <td>Офис/Диагностируемое оборудование/Сервер SEDMAX</td>\n",
       "      <td>Сервер SEDMAX</td>\n",
       "      <td>SNMP v.1</td>\n",
       "      <td>.1.3.6.1.4.1.2021.4.11.0</td>\n",
       "      <td>False</td>\n",
       "      <td>Гб</td>\n",
       "      <td>rtd</td>\n",
       "      <td>par-2</td>\n",
       "      <td>True</td>\n",
       "      <td>Сервер SEDMAX</td>\n",
       "    </tr>\n",
       "    <tr>\n",
       "      <th>2</th>\n",
       "      <td>3</td>\n",
       "      <td>Средняя нагрузка на ЦПУ (15 минут)</td>\n",
       "      <td>Офис/Диагностируемое оборудование/Сервер SEDMAX</td>\n",
       "      <td>Сервер SEDMAX</td>\n",
       "      <td>SNMP v.1</td>\n",
       "      <td>.1.3.6.1.4.1.2021.10.1.3.3</td>\n",
       "      <td>False</td>\n",
       "      <td>%</td>\n",
       "      <td>rtd</td>\n",
       "      <td>par-3</td>\n",
       "      <td>True</td>\n",
       "      <td>Сервер SEDMAX</td>\n",
       "    </tr>\n",
       "    <tr>\n",
       "      <th>3</th>\n",
       "      <td>1001</td>\n",
       "      <td>Напряжение фазы А</td>\n",
       "      <td>Офис/ВРУ-3.1/Ввод-1 (контр.)</td>\n",
       "      <td>Ввод-1 (контр.)</td>\n",
       "      <td>Modbus (TCP)</td>\n",
       "      <td>0</td>\n",
       "      <td>False</td>\n",
       "      <td>В</td>\n",
       "      <td>rtd</td>\n",
       "      <td>par-1001</td>\n",
       "      <td>True</td>\n",
       "      <td>Ввод-1 (контр.)</td>\n",
       "    </tr>\n",
       "    <tr>\n",
       "      <th>4</th>\n",
       "      <td>1002</td>\n",
       "      <td>Напряжение фазы В</td>\n",
       "      <td>Офис/ВРУ-3.1/Ввод-1 (контр.)</td>\n",
       "      <td>Ввод-1 (контр.)</td>\n",
       "      <td>Modbus (TCP)</td>\n",
       "      <td>2</td>\n",
       "      <td>False</td>\n",
       "      <td>В</td>\n",
       "      <td>rtd</td>\n",
       "      <td>par-1002</td>\n",
       "      <td>True</td>\n",
       "      <td>Ввод-1 (контр.)</td>\n",
       "    </tr>\n",
       "    <tr>\n",
       "      <th>...</th>\n",
       "      <td>...</td>\n",
       "      <td>...</td>\n",
       "      <td>...</td>\n",
       "      <td>...</td>\n",
       "      <td>...</td>\n",
       "      <td>...</td>\n",
       "      <td>...</td>\n",
       "      <td>...</td>\n",
       "      <td>...</td>\n",
       "      <td>...</td>\n",
       "      <td>...</td>\n",
       "      <td>...</td>\n",
       "    </tr>\n",
       "    <tr>\n",
       "      <th>1382</th>\n",
       "      <td>40011110</td>\n",
       "      <td>Напряжение</td>\n",
       "      <td>Офис/Серверная/Шкаф серверный №2  ввод-2</td>\n",
       "      <td>Шкаф серверный №2  ввод-2</td>\n",
       "      <td>Modbus (TCP)</td>\n",
       "      <td>38</td>\n",
       "      <td>False</td>\n",
       "      <td>В</td>\n",
       "      <td>rtd</td>\n",
       "      <td>par-40011110</td>\n",
       "      <td>True</td>\n",
       "      <td>Шкаф серверный №2  ввод-2</td>\n",
       "    </tr>\n",
       "    <tr>\n",
       "      <th>1383</th>\n",
       "      <td>40011111</td>\n",
       "      <td>Энергия активная прием</td>\n",
       "      <td>Офис/Серверная/Шкаф серверный №2  ввод-2</td>\n",
       "      <td>Шкаф серверный №2  ввод-2</td>\n",
       "      <td>Modbus (TCP)</td>\n",
       "      <td>26</td>\n",
       "      <td>False</td>\n",
       "      <td>кВт*ч</td>\n",
       "      <td>rtd</td>\n",
       "      <td>par-40011111</td>\n",
       "      <td>True</td>\n",
       "      <td>Шкаф серверный №2  ввод-2</td>\n",
       "    </tr>\n",
       "    <tr>\n",
       "      <th>1384</th>\n",
       "      <td>40011112</td>\n",
       "      <td>Энергия активная отдача</td>\n",
       "      <td>Офис/Серверная/Шкаф серверный №2  ввод-2</td>\n",
       "      <td>Шкаф серверный №2  ввод-2</td>\n",
       "      <td>Modbus (TCP)</td>\n",
       "      <td>28</td>\n",
       "      <td>False</td>\n",
       "      <td>кВт*ч</td>\n",
       "      <td>rtd</td>\n",
       "      <td>par-40011112</td>\n",
       "      <td>True</td>\n",
       "      <td>Шкаф серверный №2  ввод-2</td>\n",
       "    </tr>\n",
       "    <tr>\n",
       "      <th>1385</th>\n",
       "      <td>40011113</td>\n",
       "      <td>Энергия реактивная прием</td>\n",
       "      <td>Офис/Серверная/Шкаф серверный №2  ввод-2</td>\n",
       "      <td>Шкаф серверный №2  ввод-2</td>\n",
       "      <td>Modbus (TCP)</td>\n",
       "      <td>30</td>\n",
       "      <td>False</td>\n",
       "      <td>кВАр*ч</td>\n",
       "      <td>rtd</td>\n",
       "      <td>par-40011113</td>\n",
       "      <td>True</td>\n",
       "      <td>Шкаф серверный №2  ввод-2</td>\n",
       "    </tr>\n",
       "    <tr>\n",
       "      <th>1386</th>\n",
       "      <td>40011114</td>\n",
       "      <td>Энергия реактивная отдача</td>\n",
       "      <td>Офис/Серверная/Шкаф серверный №2  ввод-2</td>\n",
       "      <td>Шкаф серверный №2  ввод-2</td>\n",
       "      <td>Modbus (TCP)</td>\n",
       "      <td>32</td>\n",
       "      <td>False</td>\n",
       "      <td>кВАр*ч</td>\n",
       "      <td>rtd</td>\n",
       "      <td>par-40011114</td>\n",
       "      <td>True</td>\n",
       "      <td>Шкаф серверный №2  ввод-2</td>\n",
       "    </tr>\n",
       "  </tbody>\n",
       "</table>\n",
       "<p>1387 rows × 12 columns</p>\n",
       "</div>"
      ],
      "text/plain": [
       "          tiId                                name  \\\n",
       "0            1            Свободное место на диске   \n",
       "1            2        Свободная оперативная память   \n",
       "2            3  Средняя нагрузка на ЦПУ (15 минут)   \n",
       "3         1001                   Напряжение фазы А   \n",
       "4         1002                   Напряжение фазы В   \n",
       "...        ...                                 ...   \n",
       "1382  40011110                          Напряжение   \n",
       "1383  40011111              Энергия активная прием   \n",
       "1384  40011112             Энергия активная отдача   \n",
       "1385  40011113            Энергия реактивная прием   \n",
       "1386  40011114           Энергия реактивная отдача   \n",
       "\n",
       "                                                 path  \\\n",
       "0     Офис/Диагностируемое оборудование/Сервер SEDMAX   \n",
       "1     Офис/Диагностируемое оборудование/Сервер SEDMAX   \n",
       "2     Офис/Диагностируемое оборудование/Сервер SEDMAX   \n",
       "3                        Офис/ВРУ-3.1/Ввод-1 (контр.)   \n",
       "4                        Офис/ВРУ-3.1/Ввод-1 (контр.)   \n",
       "...                                               ...   \n",
       "1382         Офис/Серверная/Шкаф серверный №2  ввод-2   \n",
       "1383         Офис/Серверная/Шкаф серверный №2  ввод-2   \n",
       "1384         Офис/Серверная/Шкаф серверный №2  ввод-2   \n",
       "1385         Офис/Серверная/Шкаф серверный №2  ввод-2   \n",
       "1386         Офис/Серверная/Шкаф серверный №2  ввод-2   \n",
       "\n",
       "                     deviceName      protocol                     address  \\\n",
       "0                 Сервер SEDMAX      SNMP v.1    1.3.6.1.4.1.2021.9.1.7.1   \n",
       "1                 Сервер SEDMAX      SNMP v.1    .1.3.6.1.4.1.2021.4.11.0   \n",
       "2                 Сервер SEDMAX      SNMP v.1  .1.3.6.1.4.1.2021.10.1.3.3   \n",
       "3               Ввод-1 (контр.)  Modbus (TCP)                           0   \n",
       "4               Ввод-1 (контр.)  Modbus (TCP)                           2   \n",
       "...                         ...           ...                         ...   \n",
       "1382  Шкаф серверный №2  ввод-2  Modbus (TCP)                          38   \n",
       "1383  Шкаф серверный №2  ввод-2  Modbus (TCP)                          26   \n",
       "1384  Шкаф серверный №2  ввод-2  Modbus (TCP)                          28   \n",
       "1385  Шкаф серверный №2  ввод-2  Modbus (TCP)                          30   \n",
       "1386  Шкаф серверный №2  ввод-2  Modbus (TCP)                          32   \n",
       "\n",
       "      telecontrolled    unit category          code  active  \\\n",
       "0              False      Гб      rtd         par-1    True   \n",
       "1              False      Гб      rtd         par-2    True   \n",
       "2              False       %      rtd         par-3    True   \n",
       "3              False       В      rtd      par-1001    True   \n",
       "4              False       В      rtd      par-1002    True   \n",
       "...              ...     ...      ...           ...     ...   \n",
       "1382           False       В      rtd  par-40011110    True   \n",
       "1383           False   кВт*ч      rtd  par-40011111    True   \n",
       "1384           False   кВт*ч      rtd  par-40011112    True   \n",
       "1385           False  кВАр*ч      rtd  par-40011113    True   \n",
       "1386           False  кВАр*ч      rtd  par-40011114    True   \n",
       "\n",
       "                  common-device  \n",
       "0                 Сервер SEDMAX  \n",
       "1                 Сервер SEDMAX  \n",
       "2                 Сервер SEDMAX  \n",
       "3               Ввод-1 (контр.)  \n",
       "4               Ввод-1 (контр.)  \n",
       "...                         ...  \n",
       "1382  Шкаф серверный №2  ввод-2  \n",
       "1383  Шкаф серверный №2  ввод-2  \n",
       "1384  Шкаф серверный №2  ввод-2  \n",
       "1385  Шкаф серверный №2  ввод-2  \n",
       "1386  Шкаф серверный №2  ввод-2  \n",
       "\n",
       "[1387 rows x 12 columns]"
      ]
     },
     "execution_count": 144,
     "metadata": {},
     "output_type": "execute_result"
    }
   ],
   "source": [
    "data['common-device'] = [x[-1] for x in data['path'].str.split('/')]\n",
    "data"
   ]
  },
  {
   "cell_type": "code",
   "execution_count": 145,
   "id": "d1d10cab",
   "metadata": {},
   "outputs": [
    {
     "data": {
      "text/html": [
       "<div>\n",
       "<style scoped>\n",
       "    .dataframe tbody tr th:only-of-type {\n",
       "        vertical-align: middle;\n",
       "    }\n",
       "\n",
       "    .dataframe tbody tr th {\n",
       "        vertical-align: top;\n",
       "    }\n",
       "\n",
       "    .dataframe thead th {\n",
       "        text-align: right;\n",
       "    }\n",
       "</style>\n",
       "<table border=\"1\" class=\"dataframe\">\n",
       "  <thead>\n",
       "    <tr style=\"text-align: right;\">\n",
       "      <th></th>\n",
       "      <th>tiId</th>\n",
       "      <th>name</th>\n",
       "      <th>path</th>\n",
       "      <th>deviceName</th>\n",
       "      <th>protocol</th>\n",
       "      <th>address</th>\n",
       "      <th>telecontrolled</th>\n",
       "      <th>unit</th>\n",
       "      <th>category</th>\n",
       "      <th>code</th>\n",
       "      <th>active</th>\n",
       "      <th>common-device</th>\n",
       "    </tr>\n",
       "  </thead>\n",
       "  <tbody>\n",
       "    <tr>\n",
       "      <th>3</th>\n",
       "      <td>1001</td>\n",
       "      <td>Напряжение фазы А</td>\n",
       "      <td>Офис/ВРУ-3.1/Ввод-1 (контр.)</td>\n",
       "      <td>Ввод-1 (контр.)</td>\n",
       "      <td>Modbus (TCP)</td>\n",
       "      <td>0</td>\n",
       "      <td>False</td>\n",
       "      <td>В</td>\n",
       "      <td>rtd</td>\n",
       "      <td>par-1001</td>\n",
       "      <td>True</td>\n",
       "      <td>Ввод-1 (контр.)</td>\n",
       "    </tr>\n",
       "    <tr>\n",
       "      <th>4</th>\n",
       "      <td>1002</td>\n",
       "      <td>Напряжение фазы В</td>\n",
       "      <td>Офис/ВРУ-3.1/Ввод-1 (контр.)</td>\n",
       "      <td>Ввод-1 (контр.)</td>\n",
       "      <td>Modbus (TCP)</td>\n",
       "      <td>2</td>\n",
       "      <td>False</td>\n",
       "      <td>В</td>\n",
       "      <td>rtd</td>\n",
       "      <td>par-1002</td>\n",
       "      <td>True</td>\n",
       "      <td>Ввод-1 (контр.)</td>\n",
       "    </tr>\n",
       "    <tr>\n",
       "      <th>5</th>\n",
       "      <td>1003</td>\n",
       "      <td>Напряжение фазы С</td>\n",
       "      <td>Офис/ВРУ-3.1/Ввод-1 (контр.)</td>\n",
       "      <td>Ввод-1 (контр.)</td>\n",
       "      <td>Modbus (TCP)</td>\n",
       "      <td>4</td>\n",
       "      <td>False</td>\n",
       "      <td>В</td>\n",
       "      <td>rtd</td>\n",
       "      <td>par-1003</td>\n",
       "      <td>True</td>\n",
       "      <td>Ввод-1 (контр.)</td>\n",
       "    </tr>\n",
       "    <tr>\n",
       "      <th>6</th>\n",
       "      <td>1004</td>\n",
       "      <td>Напряжение фазное среднее</td>\n",
       "      <td>Офис/ВРУ-3.1/Ввод-1 (контр.)</td>\n",
       "      <td>Ввод-1 (контр.)</td>\n",
       "      <td>Modbus (TCP)</td>\n",
       "      <td>6</td>\n",
       "      <td>False</td>\n",
       "      <td>В</td>\n",
       "      <td>rtd</td>\n",
       "      <td>par-1004</td>\n",
       "      <td>True</td>\n",
       "      <td>Ввод-1 (контр.)</td>\n",
       "    </tr>\n",
       "    <tr>\n",
       "      <th>7</th>\n",
       "      <td>1005</td>\n",
       "      <td>Напряжение линейное A-B</td>\n",
       "      <td>Офис/ВРУ-3.1/Ввод-1 (контр.)</td>\n",
       "      <td>Ввод-1 (контр.)</td>\n",
       "      <td>Modbus (TCP)</td>\n",
       "      <td>8</td>\n",
       "      <td>False</td>\n",
       "      <td>В</td>\n",
       "      <td>rtd</td>\n",
       "      <td>par-1005</td>\n",
       "      <td>True</td>\n",
       "      <td>Ввод-1 (контр.)</td>\n",
       "    </tr>\n",
       "    <tr>\n",
       "      <th>...</th>\n",
       "      <td>...</td>\n",
       "      <td>...</td>\n",
       "      <td>...</td>\n",
       "      <td>...</td>\n",
       "      <td>...</td>\n",
       "      <td>...</td>\n",
       "      <td>...</td>\n",
       "      <td>...</td>\n",
       "      <td>...</td>\n",
       "      <td>...</td>\n",
       "      <td>...</td>\n",
       "      <td>...</td>\n",
       "    </tr>\n",
       "    <tr>\n",
       "      <th>1382</th>\n",
       "      <td>40011110</td>\n",
       "      <td>Напряжение</td>\n",
       "      <td>Офис/Серверная/Шкаф серверный №2  ввод-2</td>\n",
       "      <td>Шкаф серверный №2  ввод-2</td>\n",
       "      <td>Modbus (TCP)</td>\n",
       "      <td>38</td>\n",
       "      <td>False</td>\n",
       "      <td>В</td>\n",
       "      <td>rtd</td>\n",
       "      <td>par-40011110</td>\n",
       "      <td>True</td>\n",
       "      <td>Шкаф серверный №2  ввод-2</td>\n",
       "    </tr>\n",
       "    <tr>\n",
       "      <th>1383</th>\n",
       "      <td>40011111</td>\n",
       "      <td>Энергия активная прием</td>\n",
       "      <td>Офис/Серверная/Шкаф серверный №2  ввод-2</td>\n",
       "      <td>Шкаф серверный №2  ввод-2</td>\n",
       "      <td>Modbus (TCP)</td>\n",
       "      <td>26</td>\n",
       "      <td>False</td>\n",
       "      <td>кВт*ч</td>\n",
       "      <td>rtd</td>\n",
       "      <td>par-40011111</td>\n",
       "      <td>True</td>\n",
       "      <td>Шкаф серверный №2  ввод-2</td>\n",
       "    </tr>\n",
       "    <tr>\n",
       "      <th>1384</th>\n",
       "      <td>40011112</td>\n",
       "      <td>Энергия активная отдача</td>\n",
       "      <td>Офис/Серверная/Шкаф серверный №2  ввод-2</td>\n",
       "      <td>Шкаф серверный №2  ввод-2</td>\n",
       "      <td>Modbus (TCP)</td>\n",
       "      <td>28</td>\n",
       "      <td>False</td>\n",
       "      <td>кВт*ч</td>\n",
       "      <td>rtd</td>\n",
       "      <td>par-40011112</td>\n",
       "      <td>True</td>\n",
       "      <td>Шкаф серверный №2  ввод-2</td>\n",
       "    </tr>\n",
       "    <tr>\n",
       "      <th>1385</th>\n",
       "      <td>40011113</td>\n",
       "      <td>Энергия реактивная прием</td>\n",
       "      <td>Офис/Серверная/Шкаф серверный №2  ввод-2</td>\n",
       "      <td>Шкаф серверный №2  ввод-2</td>\n",
       "      <td>Modbus (TCP)</td>\n",
       "      <td>30</td>\n",
       "      <td>False</td>\n",
       "      <td>кВАр*ч</td>\n",
       "      <td>rtd</td>\n",
       "      <td>par-40011113</td>\n",
       "      <td>True</td>\n",
       "      <td>Шкаф серверный №2  ввод-2</td>\n",
       "    </tr>\n",
       "    <tr>\n",
       "      <th>1386</th>\n",
       "      <td>40011114</td>\n",
       "      <td>Энергия реактивная отдача</td>\n",
       "      <td>Офис/Серверная/Шкаф серверный №2  ввод-2</td>\n",
       "      <td>Шкаф серверный №2  ввод-2</td>\n",
       "      <td>Modbus (TCP)</td>\n",
       "      <td>32</td>\n",
       "      <td>False</td>\n",
       "      <td>кВАр*ч</td>\n",
       "      <td>rtd</td>\n",
       "      <td>par-40011114</td>\n",
       "      <td>True</td>\n",
       "      <td>Шкаф серверный №2  ввод-2</td>\n",
       "    </tr>\n",
       "  </tbody>\n",
       "</table>\n",
       "<p>1095 rows × 12 columns</p>\n",
       "</div>"
      ],
      "text/plain": [
       "          tiId                       name  \\\n",
       "3         1001          Напряжение фазы А   \n",
       "4         1002          Напряжение фазы В   \n",
       "5         1003          Напряжение фазы С   \n",
       "6         1004  Напряжение фазное среднее   \n",
       "7         1005    Напряжение линейное A-B   \n",
       "...        ...                        ...   \n",
       "1382  40011110                 Напряжение   \n",
       "1383  40011111     Энергия активная прием   \n",
       "1384  40011112    Энергия активная отдача   \n",
       "1385  40011113   Энергия реактивная прием   \n",
       "1386  40011114  Энергия реактивная отдача   \n",
       "\n",
       "                                          path                 deviceName  \\\n",
       "3                 Офис/ВРУ-3.1/Ввод-1 (контр.)            Ввод-1 (контр.)   \n",
       "4                 Офис/ВРУ-3.1/Ввод-1 (контр.)            Ввод-1 (контр.)   \n",
       "5                 Офис/ВРУ-3.1/Ввод-1 (контр.)            Ввод-1 (контр.)   \n",
       "6                 Офис/ВРУ-3.1/Ввод-1 (контр.)            Ввод-1 (контр.)   \n",
       "7                 Офис/ВРУ-3.1/Ввод-1 (контр.)            Ввод-1 (контр.)   \n",
       "...                                        ...                        ...   \n",
       "1382  Офис/Серверная/Шкаф серверный №2  ввод-2  Шкаф серверный №2  ввод-2   \n",
       "1383  Офис/Серверная/Шкаф серверный №2  ввод-2  Шкаф серверный №2  ввод-2   \n",
       "1384  Офис/Серверная/Шкаф серверный №2  ввод-2  Шкаф серверный №2  ввод-2   \n",
       "1385  Офис/Серверная/Шкаф серверный №2  ввод-2  Шкаф серверный №2  ввод-2   \n",
       "1386  Офис/Серверная/Шкаф серверный №2  ввод-2  Шкаф серверный №2  ввод-2   \n",
       "\n",
       "          protocol address  telecontrolled    unit category          code  \\\n",
       "3     Modbus (TCP)       0           False       В      rtd      par-1001   \n",
       "4     Modbus (TCP)       2           False       В      rtd      par-1002   \n",
       "5     Modbus (TCP)       4           False       В      rtd      par-1003   \n",
       "6     Modbus (TCP)       6           False       В      rtd      par-1004   \n",
       "7     Modbus (TCP)       8           False       В      rtd      par-1005   \n",
       "...            ...     ...             ...     ...      ...           ...   \n",
       "1382  Modbus (TCP)      38           False       В      rtd  par-40011110   \n",
       "1383  Modbus (TCP)      26           False   кВт*ч      rtd  par-40011111   \n",
       "1384  Modbus (TCP)      28           False   кВт*ч      rtd  par-40011112   \n",
       "1385  Modbus (TCP)      30           False  кВАр*ч      rtd  par-40011113   \n",
       "1386  Modbus (TCP)      32           False  кВАр*ч      rtd  par-40011114   \n",
       "\n",
       "      active              common-device  \n",
       "3       True            Ввод-1 (контр.)  \n",
       "4       True            Ввод-1 (контр.)  \n",
       "5       True            Ввод-1 (контр.)  \n",
       "6       True            Ввод-1 (контр.)  \n",
       "7       True            Ввод-1 (контр.)  \n",
       "...      ...                        ...  \n",
       "1382    True  Шкаф серверный №2  ввод-2  \n",
       "1383    True  Шкаф серверный №2  ввод-2  \n",
       "1384    True  Шкаф серверный №2  ввод-2  \n",
       "1385    True  Шкаф серверный №2  ввод-2  \n",
       "1386    True  Шкаф серверный №2  ввод-2  \n",
       "\n",
       "[1095 rows x 12 columns]"
      ]
     },
     "execution_count": 145,
     "metadata": {},
     "output_type": "execute_result"
    }
   ],
   "source": [
    "data_dev = data[data['common-device'].isin(tree.name)]\n",
    "data_dev"
   ]
  },
  {
   "cell_type": "code",
   "execution_count": 146,
   "id": "b348b910",
   "metadata": {},
   "outputs": [
    {
     "data": {
      "text/html": [
       "<div>\n",
       "<style scoped>\n",
       "    .dataframe tbody tr th:only-of-type {\n",
       "        vertical-align: middle;\n",
       "    }\n",
       "\n",
       "    .dataframe tbody tr th {\n",
       "        vertical-align: top;\n",
       "    }\n",
       "\n",
       "    .dataframe thead th {\n",
       "        text-align: right;\n",
       "    }\n",
       "</style>\n",
       "<table border=\"1\" class=\"dataframe\">\n",
       "  <thead>\n",
       "    <tr style=\"text-align: right;\">\n",
       "      <th></th>\n",
       "      <th>tiId</th>\n",
       "      <th>name_x</th>\n",
       "      <th>path</th>\n",
       "      <th>deviceName</th>\n",
       "      <th>protocol</th>\n",
       "      <th>address</th>\n",
       "      <th>telecontrolled</th>\n",
       "      <th>unit</th>\n",
       "      <th>category</th>\n",
       "      <th>code</th>\n",
       "      <th>active</th>\n",
       "      <th>common-device</th>\n",
       "      <th>id</th>\n",
       "      <th>name_y</th>\n",
       "      <th>parent</th>\n",
       "      <th>type</th>\n",
       "    </tr>\n",
       "  </thead>\n",
       "  <tbody>\n",
       "    <tr>\n",
       "      <th>0</th>\n",
       "      <td>1016</td>\n",
       "      <td>Активная мощность суммарная</td>\n",
       "      <td>Офис/ВРУ-3.1/Ввод-1 (контр.)</td>\n",
       "      <td>Ввод-1 (контр.)</td>\n",
       "      <td>Modbus (TCP)</td>\n",
       "      <td>30</td>\n",
       "      <td>False</td>\n",
       "      <td>кВт</td>\n",
       "      <td>rtd</td>\n",
       "      <td>par-1016</td>\n",
       "      <td>True</td>\n",
       "      <td>Ввод-1 (контр.)</td>\n",
       "      <td>8</td>\n",
       "      <td>Ввод-1 (контр.)</td>\n",
       "      <td>object-2</td>\n",
       "      <td>2</td>\n",
       "    </tr>\n",
       "    <tr>\n",
       "      <th>1</th>\n",
       "      <td>2016</td>\n",
       "      <td>Активная мощность суммарная</td>\n",
       "      <td>Офис/ВРУ-3.2/Ввод-2 (контр.)</td>\n",
       "      <td>Ввод-2 (контр.)</td>\n",
       "      <td>IEC 60870-5-104</td>\n",
       "      <td>16 (13,36)</td>\n",
       "      <td>False</td>\n",
       "      <td>кВт</td>\n",
       "      <td>rtd</td>\n",
       "      <td>par-2016</td>\n",
       "      <td>True</td>\n",
       "      <td>Ввод-2 (контр.)</td>\n",
       "      <td>9</td>\n",
       "      <td>Ввод-2 (контр.)</td>\n",
       "      <td>object-3</td>\n",
       "      <td>2</td>\n",
       "    </tr>\n",
       "    <tr>\n",
       "      <th>2</th>\n",
       "      <td>3016</td>\n",
       "      <td>Активная мощность суммарная</td>\n",
       "      <td>Офис/ВРУ-3.2/ЩВК 3.3 (ВРУ 3.2)</td>\n",
       "      <td>ЩВК 3.3 (ВРУ 3.2)</td>\n",
       "      <td>Modbus (TCP)</td>\n",
       "      <td>30</td>\n",
       "      <td>False</td>\n",
       "      <td>кВт</td>\n",
       "      <td>rtd</td>\n",
       "      <td>par-3016</td>\n",
       "      <td>True</td>\n",
       "      <td>ЩВК 3.3 (ВРУ 3.2)</td>\n",
       "      <td>10</td>\n",
       "      <td>ЩВК 3.3 (ВРУ 3.2)</td>\n",
       "      <td>object-3</td>\n",
       "      <td>2</td>\n",
       "    </tr>\n",
       "    <tr>\n",
       "      <th>3</th>\n",
       "      <td>4016</td>\n",
       "      <td>Активная мощность суммарная</td>\n",
       "      <td>Офис/ВРУ-3.2/ЩР 3.2 (ВРУ 3.2)</td>\n",
       "      <td>ЩР 3.2 (ВРУ 3.2)</td>\n",
       "      <td>Modbus (TCP)</td>\n",
       "      <td>30</td>\n",
       "      <td>False</td>\n",
       "      <td>кВт</td>\n",
       "      <td>rtd</td>\n",
       "      <td>par-4016</td>\n",
       "      <td>True</td>\n",
       "      <td>ЩР 3.2 (ВРУ 3.2)</td>\n",
       "      <td>11</td>\n",
       "      <td>ЩР 3.2 (ВРУ 3.2)</td>\n",
       "      <td>object-3</td>\n",
       "      <td>2</td>\n",
       "    </tr>\n",
       "    <tr>\n",
       "      <th>4</th>\n",
       "      <td>5016</td>\n",
       "      <td>Активная мощность суммарная</td>\n",
       "      <td>Офис/ВРУ-3.2/ЩРС 2 (ВРУ 3.2)</td>\n",
       "      <td>ЩРС 2 (ВРУ 3.2)</td>\n",
       "      <td>IEC 60870-5-104</td>\n",
       "      <td>16 (13,36)</td>\n",
       "      <td>False</td>\n",
       "      <td>кВт</td>\n",
       "      <td>rtd</td>\n",
       "      <td>par-5016</td>\n",
       "      <td>True</td>\n",
       "      <td>ЩРС 2 (ВРУ 3.2)</td>\n",
       "      <td>12</td>\n",
       "      <td>ЩРС 2 (ВРУ 3.2)</td>\n",
       "      <td>object-3</td>\n",
       "      <td>2</td>\n",
       "    </tr>\n",
       "    <tr>\n",
       "      <th>5</th>\n",
       "      <td>6016</td>\n",
       "      <td>Активная мощность суммарная</td>\n",
       "      <td>Офис/ВРУ-3.2/Резерв (ВРУ 3.2)</td>\n",
       "      <td>Резерв (ВРУ 3.2)</td>\n",
       "      <td>IEC 60870-5-104</td>\n",
       "      <td>16 (13,36)</td>\n",
       "      <td>False</td>\n",
       "      <td>кВт</td>\n",
       "      <td>rtd</td>\n",
       "      <td>par-6016</td>\n",
       "      <td>True</td>\n",
       "      <td>Резерв (ВРУ 3.2)</td>\n",
       "      <td>13</td>\n",
       "      <td>Резерв (ВРУ 3.2)</td>\n",
       "      <td>object-3</td>\n",
       "      <td>2</td>\n",
       "    </tr>\n",
       "    <tr>\n",
       "      <th>6</th>\n",
       "      <td>7016</td>\n",
       "      <td>Активная мощность суммарная</td>\n",
       "      <td>Офис/ВРУ-3.2/ЩАВР (ВРУ 3.2)</td>\n",
       "      <td>ЩАВР (ВРУ 3.2)</td>\n",
       "      <td>Modbus (TCP)</td>\n",
       "      <td>30</td>\n",
       "      <td>False</td>\n",
       "      <td>кВт</td>\n",
       "      <td>rtd</td>\n",
       "      <td>par-7016</td>\n",
       "      <td>True</td>\n",
       "      <td>ЩАВР (ВРУ 3.2)</td>\n",
       "      <td>14</td>\n",
       "      <td>ЩАВР (ВРУ 3.2)</td>\n",
       "      <td>object-3</td>\n",
       "      <td>2</td>\n",
       "    </tr>\n",
       "    <tr>\n",
       "      <th>7</th>\n",
       "      <td>8007</td>\n",
       "      <td>Активная мощность суммарная</td>\n",
       "      <td>Офис/ВРУ-3.1/ЩВК 3.1 (ВРУ 3.1)</td>\n",
       "      <td>ЩВК 3.1 (ВРУ 3.1)</td>\n",
       "      <td>Modbus (TCP)</td>\n",
       "      <td>12</td>\n",
       "      <td>False</td>\n",
       "      <td>кВт</td>\n",
       "      <td>rtd</td>\n",
       "      <td>par-8007</td>\n",
       "      <td>True</td>\n",
       "      <td>ЩВК 3.1 (ВРУ 3.1)</td>\n",
       "      <td>25</td>\n",
       "      <td>ЩВК 3.1 (ВРУ 3.1)</td>\n",
       "      <td>object-2</td>\n",
       "      <td>2</td>\n",
       "    </tr>\n",
       "    <tr>\n",
       "      <th>8</th>\n",
       "      <td>8107</td>\n",
       "      <td>Активная мощность суммарная</td>\n",
       "      <td>Офис/ВРУ-3.1/ЩВК 3.2 (ВРУ 3.1)</td>\n",
       "      <td>ЩВК 3.2 (ВРУ 3.1)</td>\n",
       "      <td>Modbus (TCP)</td>\n",
       "      <td>12</td>\n",
       "      <td>False</td>\n",
       "      <td>кВт</td>\n",
       "      <td>rtd</td>\n",
       "      <td>par-8107</td>\n",
       "      <td>True</td>\n",
       "      <td>ЩВК 3.2 (ВРУ 3.1)</td>\n",
       "      <td>15</td>\n",
       "      <td>ЩВК 3.2 (ВРУ 3.1)</td>\n",
       "      <td>object-2</td>\n",
       "      <td>2</td>\n",
       "    </tr>\n",
       "    <tr>\n",
       "      <th>9</th>\n",
       "      <td>8207</td>\n",
       "      <td>Активная мощность суммарная</td>\n",
       "      <td>Офис/ВРУ-3.1/ЩР 3.1 (ВРУ 3.1)</td>\n",
       "      <td>ЩР 3.1 (ВРУ 3.1)</td>\n",
       "      <td>Modbus (TCP)</td>\n",
       "      <td>12</td>\n",
       "      <td>False</td>\n",
       "      <td>кВт</td>\n",
       "      <td>rtd</td>\n",
       "      <td>par-8207</td>\n",
       "      <td>True</td>\n",
       "      <td>ЩР 3.1 (ВРУ 3.1)</td>\n",
       "      <td>16</td>\n",
       "      <td>ЩР 3.1 (ВРУ 3.1)</td>\n",
       "      <td>object-2</td>\n",
       "      <td>2</td>\n",
       "    </tr>\n",
       "    <tr>\n",
       "      <th>10</th>\n",
       "      <td>8307</td>\n",
       "      <td>Активная мощность суммарная</td>\n",
       "      <td>Офис/ВРУ-3.1/Резерв (ВРУ-3.1)</td>\n",
       "      <td>Резерв (ВРУ-3.1)</td>\n",
       "      <td>Modbus (TCP)</td>\n",
       "      <td>12</td>\n",
       "      <td>False</td>\n",
       "      <td>кВт</td>\n",
       "      <td>rtd</td>\n",
       "      <td>par-8307</td>\n",
       "      <td>True</td>\n",
       "      <td>Резерв (ВРУ-3.1)</td>\n",
       "      <td>17</td>\n",
       "      <td>Резерв (ВРУ-3.1)</td>\n",
       "      <td>object-2</td>\n",
       "      <td>2</td>\n",
       "    </tr>\n",
       "    <tr>\n",
       "      <th>11</th>\n",
       "      <td>8407</td>\n",
       "      <td>Активная мощность суммарная</td>\n",
       "      <td>Офис/ВРУ-3.1/ЩАВР (ВРУ 3.1)</td>\n",
       "      <td>ЩАВР (ВРУ 3.1)</td>\n",
       "      <td>Modbus (TCP)</td>\n",
       "      <td>12</td>\n",
       "      <td>False</td>\n",
       "      <td>кВт</td>\n",
       "      <td>rtd</td>\n",
       "      <td>par-8407</td>\n",
       "      <td>True</td>\n",
       "      <td>ЩАВР (ВРУ 3.1)</td>\n",
       "      <td>18</td>\n",
       "      <td>ЩАВР (ВРУ 3.1)</td>\n",
       "      <td>object-2</td>\n",
       "      <td>2</td>\n",
       "    </tr>\n",
       "    <tr>\n",
       "      <th>12</th>\n",
       "      <td>8502</td>\n",
       "      <td>Активная мощность суммарная</td>\n",
       "      <td>Офис/Шкаф АВР/ЩРС-1</td>\n",
       "      <td>ЩРС-1</td>\n",
       "      <td>Modbus (TCP)</td>\n",
       "      <td>12</td>\n",
       "      <td>False</td>\n",
       "      <td>кВт</td>\n",
       "      <td>rtd</td>\n",
       "      <td>par-8502</td>\n",
       "      <td>True</td>\n",
       "      <td>ЩРС-1</td>\n",
       "      <td>19</td>\n",
       "      <td>ЩРС-1</td>\n",
       "      <td>object-21</td>\n",
       "      <td>2</td>\n",
       "    </tr>\n",
       "    <tr>\n",
       "      <th>13</th>\n",
       "      <td>8622</td>\n",
       "      <td>Активная мощность суммарная</td>\n",
       "      <td>Офис/ВРУ-3.1/ЩРС-2</td>\n",
       "      <td>ЩРС-2</td>\n",
       "      <td>Modbus (TCP)</td>\n",
       "      <td>12</td>\n",
       "      <td>False</td>\n",
       "      <td>кВт</td>\n",
       "      <td>rtd</td>\n",
       "      <td>par-8622</td>\n",
       "      <td>True</td>\n",
       "      <td>ЩРС-2</td>\n",
       "      <td>20</td>\n",
       "      <td>ЩРС-2</td>\n",
       "      <td>object-2</td>\n",
       "      <td>2</td>\n",
       "    </tr>\n",
       "    <tr>\n",
       "      <th>14</th>\n",
       "      <td>10016</td>\n",
       "      <td>Активная мощность суммарная</td>\n",
       "      <td>Офис/ВРУ 1-го этажа/Ввод-1 (ком.)</td>\n",
       "      <td>Ввод-1 (ком.)</td>\n",
       "      <td>Modbus (TCP)</td>\n",
       "      <td>30</td>\n",
       "      <td>False</td>\n",
       "      <td>кВт</td>\n",
       "      <td>rtd</td>\n",
       "      <td>par-10016</td>\n",
       "      <td>True</td>\n",
       "      <td>Ввод-1 (ком.)</td>\n",
       "      <td>23</td>\n",
       "      <td>Ввод-1 (ком.)</td>\n",
       "      <td>object-5</td>\n",
       "      <td>2</td>\n",
       "    </tr>\n",
       "    <tr>\n",
       "      <th>15</th>\n",
       "      <td>11016</td>\n",
       "      <td>Активная мощность суммарная</td>\n",
       "      <td>Офис/ВРУ 2-го этажа/Ввод-2 (ком.)</td>\n",
       "      <td>Ввод-2 (ком.)</td>\n",
       "      <td>Modbus (TCP)</td>\n",
       "      <td>30</td>\n",
       "      <td>False</td>\n",
       "      <td>кВт</td>\n",
       "      <td>rtd</td>\n",
       "      <td>par-11016</td>\n",
       "      <td>True</td>\n",
       "      <td>Ввод-2 (ком.)</td>\n",
       "      <td>24</td>\n",
       "      <td>Ввод-2 (ком.)</td>\n",
       "      <td>object-4</td>\n",
       "      <td>2</td>\n",
       "    </tr>\n",
       "  </tbody>\n",
       "</table>\n",
       "</div>"
      ],
      "text/plain": [
       "     tiId                       name_x                               path  \\\n",
       "0    1016  Активная мощность суммарная       Офис/ВРУ-3.1/Ввод-1 (контр.)   \n",
       "1    2016  Активная мощность суммарная       Офис/ВРУ-3.2/Ввод-2 (контр.)   \n",
       "2    3016  Активная мощность суммарная     Офис/ВРУ-3.2/ЩВК 3.3 (ВРУ 3.2)   \n",
       "3    4016  Активная мощность суммарная      Офис/ВРУ-3.2/ЩР 3.2 (ВРУ 3.2)   \n",
       "4    5016  Активная мощность суммарная       Офис/ВРУ-3.2/ЩРС 2 (ВРУ 3.2)   \n",
       "5    6016  Активная мощность суммарная      Офис/ВРУ-3.2/Резерв (ВРУ 3.2)   \n",
       "6    7016  Активная мощность суммарная        Офис/ВРУ-3.2/ЩАВР (ВРУ 3.2)   \n",
       "7    8007  Активная мощность суммарная     Офис/ВРУ-3.1/ЩВК 3.1 (ВРУ 3.1)   \n",
       "8    8107  Активная мощность суммарная     Офис/ВРУ-3.1/ЩВК 3.2 (ВРУ 3.1)   \n",
       "9    8207  Активная мощность суммарная      Офис/ВРУ-3.1/ЩР 3.1 (ВРУ 3.1)   \n",
       "10   8307  Активная мощность суммарная      Офис/ВРУ-3.1/Резерв (ВРУ-3.1)   \n",
       "11   8407  Активная мощность суммарная        Офис/ВРУ-3.1/ЩАВР (ВРУ 3.1)   \n",
       "12   8502  Активная мощность суммарная                Офис/Шкаф АВР/ЩРС-1   \n",
       "13   8622  Активная мощность суммарная                 Офис/ВРУ-3.1/ЩРС-2   \n",
       "14  10016  Активная мощность суммарная  Офис/ВРУ 1-го этажа/Ввод-1 (ком.)   \n",
       "15  11016  Активная мощность суммарная  Офис/ВРУ 2-го этажа/Ввод-2 (ком.)   \n",
       "\n",
       "           deviceName         protocol     address  telecontrolled unit  \\\n",
       "0     Ввод-1 (контр.)     Modbus (TCP)          30           False  кВт   \n",
       "1     Ввод-2 (контр.)  IEC 60870-5-104  16 (13,36)           False  кВт   \n",
       "2   ЩВК 3.3 (ВРУ 3.2)     Modbus (TCP)          30           False  кВт   \n",
       "3    ЩР 3.2 (ВРУ 3.2)     Modbus (TCP)          30           False  кВт   \n",
       "4     ЩРС 2 (ВРУ 3.2)  IEC 60870-5-104  16 (13,36)           False  кВт   \n",
       "5    Резерв (ВРУ 3.2)  IEC 60870-5-104  16 (13,36)           False  кВт   \n",
       "6      ЩАВР (ВРУ 3.2)     Modbus (TCP)          30           False  кВт   \n",
       "7   ЩВК 3.1 (ВРУ 3.1)     Modbus (TCP)          12           False  кВт   \n",
       "8   ЩВК 3.2 (ВРУ 3.1)     Modbus (TCP)          12           False  кВт   \n",
       "9    ЩР 3.1 (ВРУ 3.1)     Modbus (TCP)          12           False  кВт   \n",
       "10   Резерв (ВРУ-3.1)     Modbus (TCP)          12           False  кВт   \n",
       "11     ЩАВР (ВРУ 3.1)     Modbus (TCP)          12           False  кВт   \n",
       "12              ЩРС-1     Modbus (TCP)          12           False  кВт   \n",
       "13              ЩРС-2     Modbus (TCP)          12           False  кВт   \n",
       "14      Ввод-1 (ком.)     Modbus (TCP)          30           False  кВт   \n",
       "15      Ввод-2 (ком.)     Modbus (TCP)          30           False  кВт   \n",
       "\n",
       "   category       code  active      common-device  id             name_y  \\\n",
       "0       rtd   par-1016    True    Ввод-1 (контр.)   8    Ввод-1 (контр.)   \n",
       "1       rtd   par-2016    True    Ввод-2 (контр.)   9    Ввод-2 (контр.)   \n",
       "2       rtd   par-3016    True  ЩВК 3.3 (ВРУ 3.2)  10  ЩВК 3.3 (ВРУ 3.2)   \n",
       "3       rtd   par-4016    True   ЩР 3.2 (ВРУ 3.2)  11   ЩР 3.2 (ВРУ 3.2)   \n",
       "4       rtd   par-5016    True    ЩРС 2 (ВРУ 3.2)  12    ЩРС 2 (ВРУ 3.2)   \n",
       "5       rtd   par-6016    True   Резерв (ВРУ 3.2)  13   Резерв (ВРУ 3.2)   \n",
       "6       rtd   par-7016    True     ЩАВР (ВРУ 3.2)  14     ЩАВР (ВРУ 3.2)   \n",
       "7       rtd   par-8007    True  ЩВК 3.1 (ВРУ 3.1)  25  ЩВК 3.1 (ВРУ 3.1)   \n",
       "8       rtd   par-8107    True  ЩВК 3.2 (ВРУ 3.1)  15  ЩВК 3.2 (ВРУ 3.1)   \n",
       "9       rtd   par-8207    True   ЩР 3.1 (ВРУ 3.1)  16   ЩР 3.1 (ВРУ 3.1)   \n",
       "10      rtd   par-8307    True   Резерв (ВРУ-3.1)  17   Резерв (ВРУ-3.1)   \n",
       "11      rtd   par-8407    True     ЩАВР (ВРУ 3.1)  18     ЩАВР (ВРУ 3.1)   \n",
       "12      rtd   par-8502    True              ЩРС-1  19              ЩРС-1   \n",
       "13      rtd   par-8622    True              ЩРС-2  20              ЩРС-2   \n",
       "14      rtd  par-10016    True      Ввод-1 (ком.)  23      Ввод-1 (ком.)   \n",
       "15      rtd  par-11016    True      Ввод-2 (ком.)  24      Ввод-2 (ком.)   \n",
       "\n",
       "       parent  type  \n",
       "0    object-2     2  \n",
       "1    object-3     2  \n",
       "2    object-3     2  \n",
       "3    object-3     2  \n",
       "4    object-3     2  \n",
       "5    object-3     2  \n",
       "6    object-3     2  \n",
       "7    object-2     2  \n",
       "8    object-2     2  \n",
       "9    object-2     2  \n",
       "10   object-2     2  \n",
       "11   object-2     2  \n",
       "12  object-21     2  \n",
       "13   object-2     2  \n",
       "14   object-5     2  \n",
       "15   object-4     2  "
      ]
     },
     "execution_count": 146,
     "metadata": {},
     "output_type": "execute_result"
    }
   ],
   "source": [
    "data_dev = data_dev[data_dev.name == 'Активная мощность суммарная'].merge(tree, left_on = 'common-device', right_on = 'name')\n",
    "data_dev"
   ]
  },
  {
   "cell_type": "code",
   "execution_count": 147,
   "id": "aa85eec7",
   "metadata": {},
   "outputs": [],
   "source": [
    "rtd = RTDArchive(s)"
   ]
  },
  {
   "cell_type": "code",
   "execution_count": 148,
   "id": "a9f1e9a7",
   "metadata": {},
   "outputs": [],
   "source": [
    "tags = data_dev.code.to_list()\n",
    "\n",
    "powe = rtd.get_data(tags, len(tags), '2022-03-21 00:00:00','2022-03-21 23:59:59')"
   ]
  },
  {
   "cell_type": "code",
   "execution_count": 149,
   "id": "c91a6665",
   "metadata": {},
   "outputs": [
    {
     "data": {
      "text/html": [
       "<div>\n",
       "<style scoped>\n",
       "    .dataframe tbody tr th:only-of-type {\n",
       "        vertical-align: middle;\n",
       "    }\n",
       "\n",
       "    .dataframe tbody tr th {\n",
       "        vertical-align: top;\n",
       "    }\n",
       "\n",
       "    .dataframe thead th {\n",
       "        text-align: right;\n",
       "    }\n",
       "</style>\n",
       "<table border=\"1\" class=\"dataframe\">\n",
       "  <thead>\n",
       "    <tr style=\"text-align: right;\">\n",
       "      <th></th>\n",
       "      <th>index</th>\n",
       "      <th>0</th>\n",
       "      <th>code</th>\n",
       "    </tr>\n",
       "  </thead>\n",
       "  <tbody>\n",
       "    <tr>\n",
       "      <th>0</th>\n",
       "      <td>par-10016-value</td>\n",
       "      <td>4.968648</td>\n",
       "      <td>par-10016</td>\n",
       "    </tr>\n",
       "    <tr>\n",
       "      <th>1</th>\n",
       "      <td>par-1016-value</td>\n",
       "      <td>4.949575</td>\n",
       "      <td>par-1016</td>\n",
       "    </tr>\n",
       "    <tr>\n",
       "      <th>2</th>\n",
       "      <td>par-11016-value</td>\n",
       "      <td>12.579769</td>\n",
       "      <td>par-11016</td>\n",
       "    </tr>\n",
       "    <tr>\n",
       "      <th>3</th>\n",
       "      <td>par-2016-value</td>\n",
       "      <td>12.494300</td>\n",
       "      <td>par-2016</td>\n",
       "    </tr>\n",
       "    <tr>\n",
       "      <th>4</th>\n",
       "      <td>par-3016-value</td>\n",
       "      <td>0.716599</td>\n",
       "      <td>par-3016</td>\n",
       "    </tr>\n",
       "    <tr>\n",
       "      <th>5</th>\n",
       "      <td>par-4016-value</td>\n",
       "      <td>4.291100</td>\n",
       "      <td>par-4016</td>\n",
       "    </tr>\n",
       "    <tr>\n",
       "      <th>6</th>\n",
       "      <td>par-5016-value</td>\n",
       "      <td>5.891100</td>\n",
       "      <td>par-5016</td>\n",
       "    </tr>\n",
       "    <tr>\n",
       "      <th>7</th>\n",
       "      <td>par-6016-value</td>\n",
       "      <td>0.000000</td>\n",
       "      <td>par-6016</td>\n",
       "    </tr>\n",
       "    <tr>\n",
       "      <th>8</th>\n",
       "      <td>par-7016-value</td>\n",
       "      <td>4.602560</td>\n",
       "      <td>par-7016</td>\n",
       "    </tr>\n",
       "    <tr>\n",
       "      <th>9</th>\n",
       "      <td>par-8007-value</td>\n",
       "      <td>0.606533</td>\n",
       "      <td>par-8007</td>\n",
       "    </tr>\n",
       "    <tr>\n",
       "      <th>10</th>\n",
       "      <td>par-8107-value</td>\n",
       "      <td>1.413785</td>\n",
       "      <td>par-8107</td>\n",
       "    </tr>\n",
       "    <tr>\n",
       "      <th>11</th>\n",
       "      <td>par-8207-value</td>\n",
       "      <td>2.914659</td>\n",
       "      <td>par-8207</td>\n",
       "    </tr>\n",
       "    <tr>\n",
       "      <th>12</th>\n",
       "      <td>par-8307-value</td>\n",
       "      <td>0.000000</td>\n",
       "      <td>par-8307</td>\n",
       "    </tr>\n",
       "    <tr>\n",
       "      <th>13</th>\n",
       "      <td>par-8407-value</td>\n",
       "      <td>0.000000</td>\n",
       "      <td>par-8407</td>\n",
       "    </tr>\n",
       "    <tr>\n",
       "      <th>14</th>\n",
       "      <td>par-8502-value</td>\n",
       "      <td>1.132916</td>\n",
       "      <td>par-8502</td>\n",
       "    </tr>\n",
       "    <tr>\n",
       "      <th>15</th>\n",
       "      <td>par-8622-value</td>\n",
       "      <td>0.915906</td>\n",
       "      <td>par-8622</td>\n",
       "    </tr>\n",
       "  </tbody>\n",
       "</table>\n",
       "</div>"
      ],
      "text/plain": [
       "              index          0       code\n",
       "0   par-10016-value   4.968648  par-10016\n",
       "1    par-1016-value   4.949575   par-1016\n",
       "2   par-11016-value  12.579769  par-11016\n",
       "3    par-2016-value  12.494300   par-2016\n",
       "4    par-3016-value   0.716599   par-3016\n",
       "5    par-4016-value   4.291100   par-4016\n",
       "6    par-5016-value   5.891100   par-5016\n",
       "7    par-6016-value   0.000000   par-6016\n",
       "8    par-7016-value   4.602560   par-7016\n",
       "9    par-8007-value   0.606533   par-8007\n",
       "10   par-8107-value   1.413785   par-8107\n",
       "11   par-8207-value   2.914659   par-8207\n",
       "12   par-8307-value   0.000000   par-8307\n",
       "13   par-8407-value   0.000000   par-8407\n",
       "14   par-8502-value   1.132916   par-8502\n",
       "15   par-8622-value   0.915906   par-8622"
      ]
     },
     "execution_count": 149,
     "metadata": {},
     "output_type": "execute_result"
    }
   ],
   "source": [
    "vals = pd.DataFrame(powe[[x for x in powe.columns if x.split('-')[-1] == 'value']].mean()).reset_index()\n",
    "vals['code'] = [x[0] for x in vals['index'].str.split('-value')]\n",
    "vals"
   ]
  },
  {
   "cell_type": "code",
   "execution_count": 150,
   "id": "5011433f",
   "metadata": {},
   "outputs": [
    {
     "name": "stdout",
     "output_type": "stream",
     "text": [
      "19 19 19 27\n"
     ]
    }
   ],
   "source": [
    "import pandas as pd\n",
    "import numpy as np\n",
    "import dash\n",
    "import datetime\n",
    "from dash import dcc, html, dash_table, callback_context\n",
    "from dash.dependencies import Input, Output, State\n",
    "import dash_bootstrap_components as dbc\n",
    "\n",
    "from sdk import SedmaxHeader, Sedmax, ElectricalArchive, EventJournal, RTDArchive\n",
    "from uptime_report.graphs import out_time_scatter, out_table\n",
    "\n",
    "\n",
    "energy = 'ea' #'er' or 'ea'\n",
    "\n",
    "\n",
    "s = Sedmax('https://demo.sedmax.ru')\n",
    "\n",
    "username = 'demo' #os.environ['SEDMAX_USERNAME']\n",
    "password = 'demo' #os.environ['SEDMAX_PASSWORD']\n",
    "s.login(username, password)\n",
    "\n",
    "el = ElectricalArchive(s)\n",
    "\n",
    "tree = el.devices_tree()\n",
    "parents = tree.parent.unique()\n",
    "\n",
    "names = tree.name.values.tolist()\n",
    "names.append('object-0')\n",
    "map_dict = tree.id.values.tolist()\n",
    "map_dict.append('object-0')\n",
    "map_dict = dict([(v,k) for (k,v) in enumerate(map_dict)])\n",
    "\n",
    "tree.id = tree.id.map(map_dict)\n",
    "\n",
    "power_data = data_dev.merge(vals)[['id', 0]].set_index('id')[0]\n",
    "\n",
    "records = []\n",
    "for par in parents:\n",
    "\n",
    "    children = tree[tree.parent == par].id.to_list()\n",
    "    values = []\n",
    "    for device in children:\n",
    "        if device in power_data.index:\n",
    "            values.append(power_data[device])\n",
    "        else:\n",
    "            values.append(0)\n",
    "\n",
    "    Dict = {'name': map_dict[par],\n",
    "          'children': tree[tree.parent == par].id.to_list(),\n",
    "          'values': values\n",
    "          }\n",
    "    records.append(Dict)\n",
    "\n",
    "    \n",
    "#manually determined records    \n",
    "\n",
    "records = [\n",
    "        {'dev': 23, 'children': [8]},\n",
    "        {'dev': 8, 'children': [1]},\n",
    "        {'dev': 1, 'children': [15, 16, 17, 18, 25]},\n",
    "        {'dev': 24, 'children': [9]},\n",
    "        {'dev': 9, 'children': [2]},\n",
    "        {'dev': 2, 'children': [10, 11, 12, 13, 14]},\n",
    "        {'dev': 12, 'children': [20]},\n",
    "        {'dev': 18, 'children': [19]},\n",
    "        {'dev': 14, 'children': [19]},\n",
    "        {'dev': 19, 'children': [21]},\n",
    "        {'dev': 20, 'children': [22]},\n",
    "    ]\n",
    "\n",
    "\n",
    "def flatten(t):\n",
    "    return [item for sublist in t for item in sublist]\n",
    "\n",
    "source = []\n",
    "target = []\n",
    "value = []\n",
    "link_colors = []\n",
    "\n",
    "for record in records:\n",
    "    children = record['children']\n",
    "    device = record['dev']\n",
    "    values = []\n",
    "\n",
    "    if len(children) <= 1:\n",
    "        if device in power_data.index:\n",
    "            if power_data[device] != 0:\n",
    "                values.append(power_data[device])\n",
    "                link_colors.append(colors['active_link'])\n",
    "            else:\n",
    "                values.append(0.01)\n",
    "                link_colors.append(colors['disabled_link'])\n",
    "        else:\n",
    "            values.append(0.01)\n",
    "            link_colors.append(colors['disabled_link'])\n",
    "    else:\n",
    "        for child in children:\n",
    "            if child in power_data.index:\n",
    "                if power_data[child] != 0:\n",
    "                    values.append(power_data[child])\n",
    "                    link_colors.append(colors['active_link'])\n",
    "                else:\n",
    "                    values.append(0.01)\n",
    "                    link_colors.append(colors['disabled_link'])\n",
    "            else:\n",
    "                values.append(0.01)\n",
    "                link_colors.append(colors['disabled_link'])\n",
    "\n",
    "    node = [record['dev']] * len(children)\n",
    "\n",
    "    source.append(node)\n",
    "    target.append(children)\n",
    "    value.append(values)\n",
    "\n",
    "source = flatten(source)\n",
    "target = flatten(target)\n",
    "value = flatten(value)\n",
    "labels = names\n",
    "\n",
    "print(len(source), len(target), len(value), len(labels))"
   ]
  },
  {
   "cell_type": "code",
   "execution_count": 151,
   "id": "42bc6cbe",
   "metadata": {},
   "outputs": [
    {
     "data": {
      "application/vnd.plotly.v1+json": {
       "config": {
        "plotlyServerURL": "https://plot.ly"
       },
       "data": [
        {
         "link": {
          "source": [
           23,
           8,
           1,
           1,
           1,
           1,
           1,
           24,
           9,
           2,
           2,
           2,
           2,
           2,
           12,
           18,
           14,
           19,
           20
          ],
          "target": [
           8,
           1,
           15,
           16,
           17,
           18,
           25,
           9,
           2,
           10,
           11,
           12,
           13,
           14,
           20,
           19,
           19,
           21,
           22
          ],
          "value": [
           4.968648055832503,
           4.949575274177468,
           1.4137846460618149,
           2.9146590229312066,
           0.01,
           0.01,
           0.6065333998005981,
           12.579768693918245,
           12.494300099700897,
           0.7165992023928215,
           4.291099700897308,
           5.891099700897307,
           0.01,
           4.602560319042872,
           5.891099700897307,
           0.01,
           4.602560319042872,
           1.1329162512462612,
           0.9159062811565304
          ]
         },
         "node": {
          "label": [
           "Офис",
           "ВРУ-3.1",
           "ВРУ-3.2",
           "ВРУ 2-го этажа",
           "ВРУ 1-го этажа",
           "Шкаф АВР",
           "Серверная",
           "Модуль дорасчетов",
           "Ввод-1 (контр.)",
           "Ввод-2 (контр.)",
           "ЩВК 3.3 (ВРУ 3.2)",
           "ЩР 3.2 (ВРУ 3.2)",
           "ЩРС 2 (ВРУ 3.2)",
           "Резерв (ВРУ 3.2)",
           "ЩАВР (ВРУ 3.2)",
           "ЩВК 3.2 (ВРУ 3.1)",
           "ЩР 3.1 (ВРУ 3.1)",
           "Резерв (ВРУ-3.1)",
           "ЩАВР (ВРУ 3.1)",
           "ЩРС-1",
           "ЩРС-2",
           "Шкаф серверный №2  ввод-1",
           "Шкаф серверный №2  ввод-2",
           "Ввод-1 (ком.)",
           "Ввод-2 (ком.)",
           "ЩВК 3.1 (ВРУ 3.1)",
           "object-0"
          ],
          "line": {
           "color": "black",
           "width": 0.5
          },
          "pad": 15,
          "thickness": 20
         },
         "type": "sankey",
         "valuesuffix": " кВтч"
        }
       ],
       "layout": {
        "font": {
         "color": "#f0f8ff"
        },
        "height": 700,
        "margin": {
         "b": 30,
         "l": 20,
         "pad": 1,
         "r": 20,
         "t": 80
        },
        "paper_bgcolor": "rgba(50,50,50,0.5)",
        "plot_bgcolor": "rgba(50,50,50,0.2)",
        "template": {
         "data": {
          "bar": [
           {
            "error_x": {
             "color": "#2a3f5f"
            },
            "error_y": {
             "color": "#2a3f5f"
            },
            "marker": {
             "line": {
              "color": "#E5ECF6",
              "width": 0.5
             },
             "pattern": {
              "fillmode": "overlay",
              "size": 10,
              "solidity": 0.2
             }
            },
            "type": "bar"
           }
          ],
          "barpolar": [
           {
            "marker": {
             "line": {
              "color": "#E5ECF6",
              "width": 0.5
             },
             "pattern": {
              "fillmode": "overlay",
              "size": 10,
              "solidity": 0.2
             }
            },
            "type": "barpolar"
           }
          ],
          "carpet": [
           {
            "aaxis": {
             "endlinecolor": "#2a3f5f",
             "gridcolor": "white",
             "linecolor": "white",
             "minorgridcolor": "white",
             "startlinecolor": "#2a3f5f"
            },
            "baxis": {
             "endlinecolor": "#2a3f5f",
             "gridcolor": "white",
             "linecolor": "white",
             "minorgridcolor": "white",
             "startlinecolor": "#2a3f5f"
            },
            "type": "carpet"
           }
          ],
          "choropleth": [
           {
            "colorbar": {
             "outlinewidth": 0,
             "ticks": ""
            },
            "type": "choropleth"
           }
          ],
          "contour": [
           {
            "colorbar": {
             "outlinewidth": 0,
             "ticks": ""
            },
            "colorscale": [
             [
              0,
              "#0d0887"
             ],
             [
              0.1111111111111111,
              "#46039f"
             ],
             [
              0.2222222222222222,
              "#7201a8"
             ],
             [
              0.3333333333333333,
              "#9c179e"
             ],
             [
              0.4444444444444444,
              "#bd3786"
             ],
             [
              0.5555555555555556,
              "#d8576b"
             ],
             [
              0.6666666666666666,
              "#ed7953"
             ],
             [
              0.7777777777777778,
              "#fb9f3a"
             ],
             [
              0.8888888888888888,
              "#fdca26"
             ],
             [
              1,
              "#f0f921"
             ]
            ],
            "type": "contour"
           }
          ],
          "contourcarpet": [
           {
            "colorbar": {
             "outlinewidth": 0,
             "ticks": ""
            },
            "type": "contourcarpet"
           }
          ],
          "heatmap": [
           {
            "colorbar": {
             "outlinewidth": 0,
             "ticks": ""
            },
            "colorscale": [
             [
              0,
              "#0d0887"
             ],
             [
              0.1111111111111111,
              "#46039f"
             ],
             [
              0.2222222222222222,
              "#7201a8"
             ],
             [
              0.3333333333333333,
              "#9c179e"
             ],
             [
              0.4444444444444444,
              "#bd3786"
             ],
             [
              0.5555555555555556,
              "#d8576b"
             ],
             [
              0.6666666666666666,
              "#ed7953"
             ],
             [
              0.7777777777777778,
              "#fb9f3a"
             ],
             [
              0.8888888888888888,
              "#fdca26"
             ],
             [
              1,
              "#f0f921"
             ]
            ],
            "type": "heatmap"
           }
          ],
          "heatmapgl": [
           {
            "colorbar": {
             "outlinewidth": 0,
             "ticks": ""
            },
            "colorscale": [
             [
              0,
              "#0d0887"
             ],
             [
              0.1111111111111111,
              "#46039f"
             ],
             [
              0.2222222222222222,
              "#7201a8"
             ],
             [
              0.3333333333333333,
              "#9c179e"
             ],
             [
              0.4444444444444444,
              "#bd3786"
             ],
             [
              0.5555555555555556,
              "#d8576b"
             ],
             [
              0.6666666666666666,
              "#ed7953"
             ],
             [
              0.7777777777777778,
              "#fb9f3a"
             ],
             [
              0.8888888888888888,
              "#fdca26"
             ],
             [
              1,
              "#f0f921"
             ]
            ],
            "type": "heatmapgl"
           }
          ],
          "histogram": [
           {
            "marker": {
             "pattern": {
              "fillmode": "overlay",
              "size": 10,
              "solidity": 0.2
             }
            },
            "type": "histogram"
           }
          ],
          "histogram2d": [
           {
            "colorbar": {
             "outlinewidth": 0,
             "ticks": ""
            },
            "colorscale": [
             [
              0,
              "#0d0887"
             ],
             [
              0.1111111111111111,
              "#46039f"
             ],
             [
              0.2222222222222222,
              "#7201a8"
             ],
             [
              0.3333333333333333,
              "#9c179e"
             ],
             [
              0.4444444444444444,
              "#bd3786"
             ],
             [
              0.5555555555555556,
              "#d8576b"
             ],
             [
              0.6666666666666666,
              "#ed7953"
             ],
             [
              0.7777777777777778,
              "#fb9f3a"
             ],
             [
              0.8888888888888888,
              "#fdca26"
             ],
             [
              1,
              "#f0f921"
             ]
            ],
            "type": "histogram2d"
           }
          ],
          "histogram2dcontour": [
           {
            "colorbar": {
             "outlinewidth": 0,
             "ticks": ""
            },
            "colorscale": [
             [
              0,
              "#0d0887"
             ],
             [
              0.1111111111111111,
              "#46039f"
             ],
             [
              0.2222222222222222,
              "#7201a8"
             ],
             [
              0.3333333333333333,
              "#9c179e"
             ],
             [
              0.4444444444444444,
              "#bd3786"
             ],
             [
              0.5555555555555556,
              "#d8576b"
             ],
             [
              0.6666666666666666,
              "#ed7953"
             ],
             [
              0.7777777777777778,
              "#fb9f3a"
             ],
             [
              0.8888888888888888,
              "#fdca26"
             ],
             [
              1,
              "#f0f921"
             ]
            ],
            "type": "histogram2dcontour"
           }
          ],
          "mesh3d": [
           {
            "colorbar": {
             "outlinewidth": 0,
             "ticks": ""
            },
            "type": "mesh3d"
           }
          ],
          "parcoords": [
           {
            "line": {
             "colorbar": {
              "outlinewidth": 0,
              "ticks": ""
             }
            },
            "type": "parcoords"
           }
          ],
          "pie": [
           {
            "automargin": true,
            "type": "pie"
           }
          ],
          "scatter": [
           {
            "marker": {
             "colorbar": {
              "outlinewidth": 0,
              "ticks": ""
             }
            },
            "type": "scatter"
           }
          ],
          "scatter3d": [
           {
            "line": {
             "colorbar": {
              "outlinewidth": 0,
              "ticks": ""
             }
            },
            "marker": {
             "colorbar": {
              "outlinewidth": 0,
              "ticks": ""
             }
            },
            "type": "scatter3d"
           }
          ],
          "scattercarpet": [
           {
            "marker": {
             "colorbar": {
              "outlinewidth": 0,
              "ticks": ""
             }
            },
            "type": "scattercarpet"
           }
          ],
          "scattergeo": [
           {
            "marker": {
             "colorbar": {
              "outlinewidth": 0,
              "ticks": ""
             }
            },
            "type": "scattergeo"
           }
          ],
          "scattergl": [
           {
            "marker": {
             "colorbar": {
              "outlinewidth": 0,
              "ticks": ""
             }
            },
            "type": "scattergl"
           }
          ],
          "scattermapbox": [
           {
            "marker": {
             "colorbar": {
              "outlinewidth": 0,
              "ticks": ""
             }
            },
            "type": "scattermapbox"
           }
          ],
          "scatterpolar": [
           {
            "marker": {
             "colorbar": {
              "outlinewidth": 0,
              "ticks": ""
             }
            },
            "type": "scatterpolar"
           }
          ],
          "scatterpolargl": [
           {
            "marker": {
             "colorbar": {
              "outlinewidth": 0,
              "ticks": ""
             }
            },
            "type": "scatterpolargl"
           }
          ],
          "scatterternary": [
           {
            "marker": {
             "colorbar": {
              "outlinewidth": 0,
              "ticks": ""
             }
            },
            "type": "scatterternary"
           }
          ],
          "surface": [
           {
            "colorbar": {
             "outlinewidth": 0,
             "ticks": ""
            },
            "colorscale": [
             [
              0,
              "#0d0887"
             ],
             [
              0.1111111111111111,
              "#46039f"
             ],
             [
              0.2222222222222222,
              "#7201a8"
             ],
             [
              0.3333333333333333,
              "#9c179e"
             ],
             [
              0.4444444444444444,
              "#bd3786"
             ],
             [
              0.5555555555555556,
              "#d8576b"
             ],
             [
              0.6666666666666666,
              "#ed7953"
             ],
             [
              0.7777777777777778,
              "#fb9f3a"
             ],
             [
              0.8888888888888888,
              "#fdca26"
             ],
             [
              1,
              "#f0f921"
             ]
            ],
            "type": "surface"
           }
          ],
          "table": [
           {
            "cells": {
             "fill": {
              "color": "#EBF0F8"
             },
             "line": {
              "color": "white"
             }
            },
            "header": {
             "fill": {
              "color": "#C8D4E3"
             },
             "line": {
              "color": "white"
             }
            },
            "type": "table"
           }
          ]
         },
         "layout": {
          "annotationdefaults": {
           "arrowcolor": "#2a3f5f",
           "arrowhead": 0,
           "arrowwidth": 1
          },
          "autotypenumbers": "strict",
          "coloraxis": {
           "colorbar": {
            "outlinewidth": 0,
            "ticks": ""
           }
          },
          "colorscale": {
           "diverging": [
            [
             0,
             "#8e0152"
            ],
            [
             0.1,
             "#c51b7d"
            ],
            [
             0.2,
             "#de77ae"
            ],
            [
             0.3,
             "#f1b6da"
            ],
            [
             0.4,
             "#fde0ef"
            ],
            [
             0.5,
             "#f7f7f7"
            ],
            [
             0.6,
             "#e6f5d0"
            ],
            [
             0.7,
             "#b8e186"
            ],
            [
             0.8,
             "#7fbc41"
            ],
            [
             0.9,
             "#4d9221"
            ],
            [
             1,
             "#276419"
            ]
           ],
           "sequential": [
            [
             0,
             "#0d0887"
            ],
            [
             0.1111111111111111,
             "#46039f"
            ],
            [
             0.2222222222222222,
             "#7201a8"
            ],
            [
             0.3333333333333333,
             "#9c179e"
            ],
            [
             0.4444444444444444,
             "#bd3786"
            ],
            [
             0.5555555555555556,
             "#d8576b"
            ],
            [
             0.6666666666666666,
             "#ed7953"
            ],
            [
             0.7777777777777778,
             "#fb9f3a"
            ],
            [
             0.8888888888888888,
             "#fdca26"
            ],
            [
             1,
             "#f0f921"
            ]
           ],
           "sequentialminus": [
            [
             0,
             "#0d0887"
            ],
            [
             0.1111111111111111,
             "#46039f"
            ],
            [
             0.2222222222222222,
             "#7201a8"
            ],
            [
             0.3333333333333333,
             "#9c179e"
            ],
            [
             0.4444444444444444,
             "#bd3786"
            ],
            [
             0.5555555555555556,
             "#d8576b"
            ],
            [
             0.6666666666666666,
             "#ed7953"
            ],
            [
             0.7777777777777778,
             "#fb9f3a"
            ],
            [
             0.8888888888888888,
             "#fdca26"
            ],
            [
             1,
             "#f0f921"
            ]
           ]
          },
          "colorway": [
           "#636efa",
           "#EF553B",
           "#00cc96",
           "#ab63fa",
           "#FFA15A",
           "#19d3f3",
           "#FF6692",
           "#B6E880",
           "#FF97FF",
           "#FECB52"
          ],
          "font": {
           "color": "#2a3f5f"
          },
          "geo": {
           "bgcolor": "white",
           "lakecolor": "white",
           "landcolor": "#E5ECF6",
           "showlakes": true,
           "showland": true,
           "subunitcolor": "white"
          },
          "hoverlabel": {
           "align": "left"
          },
          "hovermode": "closest",
          "mapbox": {
           "style": "light"
          },
          "paper_bgcolor": "white",
          "plot_bgcolor": "#E5ECF6",
          "polar": {
           "angularaxis": {
            "gridcolor": "white",
            "linecolor": "white",
            "ticks": ""
           },
           "bgcolor": "#E5ECF6",
           "radialaxis": {
            "gridcolor": "white",
            "linecolor": "white",
            "ticks": ""
           }
          },
          "scene": {
           "xaxis": {
            "backgroundcolor": "#E5ECF6",
            "gridcolor": "white",
            "gridwidth": 2,
            "linecolor": "white",
            "showbackground": true,
            "ticks": "",
            "zerolinecolor": "white"
           },
           "yaxis": {
            "backgroundcolor": "#E5ECF6",
            "gridcolor": "white",
            "gridwidth": 2,
            "linecolor": "white",
            "showbackground": true,
            "ticks": "",
            "zerolinecolor": "white"
           },
           "zaxis": {
            "backgroundcolor": "#E5ECF6",
            "gridcolor": "white",
            "gridwidth": 2,
            "linecolor": "white",
            "showbackground": true,
            "ticks": "",
            "zerolinecolor": "white"
           }
          },
          "shapedefaults": {
           "line": {
            "color": "#2a3f5f"
           }
          },
          "ternary": {
           "aaxis": {
            "gridcolor": "white",
            "linecolor": "white",
            "ticks": ""
           },
           "baxis": {
            "gridcolor": "white",
            "linecolor": "white",
            "ticks": ""
           },
           "bgcolor": "#E5ECF6",
           "caxis": {
            "gridcolor": "white",
            "linecolor": "white",
            "ticks": ""
           }
          },
          "title": {
           "x": 0.05
          },
          "xaxis": {
           "automargin": true,
           "gridcolor": "white",
           "linecolor": "white",
           "ticks": "",
           "title": {
            "standoff": 15
           },
           "zerolinecolor": "white",
           "zerolinewidth": 2
          },
          "yaxis": {
           "automargin": true,
           "gridcolor": "white",
           "linecolor": "white",
           "ticks": "",
           "title": {
            "standoff": 15
           },
           "zerolinecolor": "white",
           "zerolinewidth": 2
          }
         }
        },
        "title": {
         "text": "Basic Sankey Diagram"
        }
       }
      },
      "text/html": [
       "<div>                            <div id=\"30e92c2a-ce25-4d94-8edc-085188908a28\" class=\"plotly-graph-div\" style=\"height:700px; width:100%;\"></div>            <script type=\"text/javascript\">                require([\"plotly\"], function(Plotly) {                    window.PLOTLYENV=window.PLOTLYENV || {};                                    if (document.getElementById(\"30e92c2a-ce25-4d94-8edc-085188908a28\")) {                    Plotly.newPlot(                        \"30e92c2a-ce25-4d94-8edc-085188908a28\",                        [{\"link\":{\"source\":[23,8,1,1,1,1,1,24,9,2,2,2,2,2,12,18,14,19,20],\"target\":[8,1,15,16,17,18,25,9,2,10,11,12,13,14,20,19,19,21,22],\"value\":[4.968648055832503,4.949575274177468,1.4137846460618149,2.9146590229312066,0.01,0.01,0.6065333998005981,12.579768693918245,12.494300099700897,0.7165992023928215,4.291099700897308,5.891099700897307,0.01,4.602560319042872,5.891099700897307,0.01,4.602560319042872,1.1329162512462612,0.9159062811565304]},\"node\":{\"label\":[\"\\u041e\\u0444\\u0438\\u0441\",\"\\u0412\\u0420\\u0423-3.1\",\"\\u0412\\u0420\\u0423-3.2\",\"\\u0412\\u0420\\u0423 2-\\u0433\\u043e \\u044d\\u0442\\u0430\\u0436\\u0430\",\"\\u0412\\u0420\\u0423 1-\\u0433\\u043e \\u044d\\u0442\\u0430\\u0436\\u0430\",\"\\u0428\\u043a\\u0430\\u0444 \\u0410\\u0412\\u0420\",\"\\u0421\\u0435\\u0440\\u0432\\u0435\\u0440\\u043d\\u0430\\u044f\",\"\\u041c\\u043e\\u0434\\u0443\\u043b\\u044c \\u0434\\u043e\\u0440\\u0430\\u0441\\u0447\\u0435\\u0442\\u043e\\u0432\",\"\\u0412\\u0432\\u043e\\u0434-1 (\\u043a\\u043e\\u043d\\u0442\\u0440.)\",\"\\u0412\\u0432\\u043e\\u0434-2 (\\u043a\\u043e\\u043d\\u0442\\u0440.)\",\"\\u0429\\u0412\\u041a 3.3 (\\u0412\\u0420\\u0423 3.2)\",\"\\u0429\\u0420 3.2 (\\u0412\\u0420\\u0423 3.2)\",\"\\u0429\\u0420\\u0421 2 (\\u0412\\u0420\\u0423 3.2)\",\"\\u0420\\u0435\\u0437\\u0435\\u0440\\u0432 (\\u0412\\u0420\\u0423 3.2)\",\"\\u0429\\u0410\\u0412\\u0420 (\\u0412\\u0420\\u0423 3.2)\",\"\\u0429\\u0412\\u041a 3.2 (\\u0412\\u0420\\u0423 3.1)\",\"\\u0429\\u0420 3.1 (\\u0412\\u0420\\u0423 3.1)\",\"\\u0420\\u0435\\u0437\\u0435\\u0440\\u0432 (\\u0412\\u0420\\u0423-3.1)\",\"\\u0429\\u0410\\u0412\\u0420 (\\u0412\\u0420\\u0423 3.1)\",\"\\u0429\\u0420\\u0421-1\",\"\\u0429\\u0420\\u0421-2\",\"\\u0428\\u043a\\u0430\\u0444 \\u0441\\u0435\\u0440\\u0432\\u0435\\u0440\\u043d\\u044b\\u0439 \\u21162  \\u0432\\u0432\\u043e\\u0434-1\",\"\\u0428\\u043a\\u0430\\u0444 \\u0441\\u0435\\u0440\\u0432\\u0435\\u0440\\u043d\\u044b\\u0439 \\u21162  \\u0432\\u0432\\u043e\\u0434-2\",\"\\u0412\\u0432\\u043e\\u0434-1 (\\u043a\\u043e\\u043c.)\",\"\\u0412\\u0432\\u043e\\u0434-2 (\\u043a\\u043e\\u043c.)\",\"\\u0429\\u0412\\u041a 3.1 (\\u0412\\u0420\\u0423 3.1)\",\"object-0\"],\"line\":{\"color\":\"black\",\"width\":0.5},\"pad\":15,\"thickness\":20},\"type\":\"sankey\",\"valuesuffix\":\" \\u043a\\u0412\\u0442\\u0447\"}],                        {\"font\":{\"color\":\"#f0f8ff\"},\"height\":700,\"margin\":{\"b\":30,\"l\":20,\"pad\":1,\"r\":20,\"t\":80},\"paper_bgcolor\":\"rgba(50,50,50,0.5)\",\"plot_bgcolor\":\"rgba(50,50,50,0.2)\",\"template\":{\"data\":{\"bar\":[{\"error_x\":{\"color\":\"#2a3f5f\"},\"error_y\":{\"color\":\"#2a3f5f\"},\"marker\":{\"line\":{\"color\":\"#E5ECF6\",\"width\":0.5},\"pattern\":{\"fillmode\":\"overlay\",\"size\":10,\"solidity\":0.2}},\"type\":\"bar\"}],\"barpolar\":[{\"marker\":{\"line\":{\"color\":\"#E5ECF6\",\"width\":0.5},\"pattern\":{\"fillmode\":\"overlay\",\"size\":10,\"solidity\":0.2}},\"type\":\"barpolar\"}],\"carpet\":[{\"aaxis\":{\"endlinecolor\":\"#2a3f5f\",\"gridcolor\":\"white\",\"linecolor\":\"white\",\"minorgridcolor\":\"white\",\"startlinecolor\":\"#2a3f5f\"},\"baxis\":{\"endlinecolor\":\"#2a3f5f\",\"gridcolor\":\"white\",\"linecolor\":\"white\",\"minorgridcolor\":\"white\",\"startlinecolor\":\"#2a3f5f\"},\"type\":\"carpet\"}],\"choropleth\":[{\"colorbar\":{\"outlinewidth\":0,\"ticks\":\"\"},\"type\":\"choropleth\"}],\"contour\":[{\"colorbar\":{\"outlinewidth\":0,\"ticks\":\"\"},\"colorscale\":[[0.0,\"#0d0887\"],[0.1111111111111111,\"#46039f\"],[0.2222222222222222,\"#7201a8\"],[0.3333333333333333,\"#9c179e\"],[0.4444444444444444,\"#bd3786\"],[0.5555555555555556,\"#d8576b\"],[0.6666666666666666,\"#ed7953\"],[0.7777777777777778,\"#fb9f3a\"],[0.8888888888888888,\"#fdca26\"],[1.0,\"#f0f921\"]],\"type\":\"contour\"}],\"contourcarpet\":[{\"colorbar\":{\"outlinewidth\":0,\"ticks\":\"\"},\"type\":\"contourcarpet\"}],\"heatmap\":[{\"colorbar\":{\"outlinewidth\":0,\"ticks\":\"\"},\"colorscale\":[[0.0,\"#0d0887\"],[0.1111111111111111,\"#46039f\"],[0.2222222222222222,\"#7201a8\"],[0.3333333333333333,\"#9c179e\"],[0.4444444444444444,\"#bd3786\"],[0.5555555555555556,\"#d8576b\"],[0.6666666666666666,\"#ed7953\"],[0.7777777777777778,\"#fb9f3a\"],[0.8888888888888888,\"#fdca26\"],[1.0,\"#f0f921\"]],\"type\":\"heatmap\"}],\"heatmapgl\":[{\"colorbar\":{\"outlinewidth\":0,\"ticks\":\"\"},\"colorscale\":[[0.0,\"#0d0887\"],[0.1111111111111111,\"#46039f\"],[0.2222222222222222,\"#7201a8\"],[0.3333333333333333,\"#9c179e\"],[0.4444444444444444,\"#bd3786\"],[0.5555555555555556,\"#d8576b\"],[0.6666666666666666,\"#ed7953\"],[0.7777777777777778,\"#fb9f3a\"],[0.8888888888888888,\"#fdca26\"],[1.0,\"#f0f921\"]],\"type\":\"heatmapgl\"}],\"histogram\":[{\"marker\":{\"pattern\":{\"fillmode\":\"overlay\",\"size\":10,\"solidity\":0.2}},\"type\":\"histogram\"}],\"histogram2d\":[{\"colorbar\":{\"outlinewidth\":0,\"ticks\":\"\"},\"colorscale\":[[0.0,\"#0d0887\"],[0.1111111111111111,\"#46039f\"],[0.2222222222222222,\"#7201a8\"],[0.3333333333333333,\"#9c179e\"],[0.4444444444444444,\"#bd3786\"],[0.5555555555555556,\"#d8576b\"],[0.6666666666666666,\"#ed7953\"],[0.7777777777777778,\"#fb9f3a\"],[0.8888888888888888,\"#fdca26\"],[1.0,\"#f0f921\"]],\"type\":\"histogram2d\"}],\"histogram2dcontour\":[{\"colorbar\":{\"outlinewidth\":0,\"ticks\":\"\"},\"colorscale\":[[0.0,\"#0d0887\"],[0.1111111111111111,\"#46039f\"],[0.2222222222222222,\"#7201a8\"],[0.3333333333333333,\"#9c179e\"],[0.4444444444444444,\"#bd3786\"],[0.5555555555555556,\"#d8576b\"],[0.6666666666666666,\"#ed7953\"],[0.7777777777777778,\"#fb9f3a\"],[0.8888888888888888,\"#fdca26\"],[1.0,\"#f0f921\"]],\"type\":\"histogram2dcontour\"}],\"mesh3d\":[{\"colorbar\":{\"outlinewidth\":0,\"ticks\":\"\"},\"type\":\"mesh3d\"}],\"parcoords\":[{\"line\":{\"colorbar\":{\"outlinewidth\":0,\"ticks\":\"\"}},\"type\":\"parcoords\"}],\"pie\":[{\"automargin\":true,\"type\":\"pie\"}],\"scatter\":[{\"marker\":{\"colorbar\":{\"outlinewidth\":0,\"ticks\":\"\"}},\"type\":\"scatter\"}],\"scatter3d\":[{\"line\":{\"colorbar\":{\"outlinewidth\":0,\"ticks\":\"\"}},\"marker\":{\"colorbar\":{\"outlinewidth\":0,\"ticks\":\"\"}},\"type\":\"scatter3d\"}],\"scattercarpet\":[{\"marker\":{\"colorbar\":{\"outlinewidth\":0,\"ticks\":\"\"}},\"type\":\"scattercarpet\"}],\"scattergeo\":[{\"marker\":{\"colorbar\":{\"outlinewidth\":0,\"ticks\":\"\"}},\"type\":\"scattergeo\"}],\"scattergl\":[{\"marker\":{\"colorbar\":{\"outlinewidth\":0,\"ticks\":\"\"}},\"type\":\"scattergl\"}],\"scattermapbox\":[{\"marker\":{\"colorbar\":{\"outlinewidth\":0,\"ticks\":\"\"}},\"type\":\"scattermapbox\"}],\"scatterpolar\":[{\"marker\":{\"colorbar\":{\"outlinewidth\":0,\"ticks\":\"\"}},\"type\":\"scatterpolar\"}],\"scatterpolargl\":[{\"marker\":{\"colorbar\":{\"outlinewidth\":0,\"ticks\":\"\"}},\"type\":\"scatterpolargl\"}],\"scatterternary\":[{\"marker\":{\"colorbar\":{\"outlinewidth\":0,\"ticks\":\"\"}},\"type\":\"scatterternary\"}],\"surface\":[{\"colorbar\":{\"outlinewidth\":0,\"ticks\":\"\"},\"colorscale\":[[0.0,\"#0d0887\"],[0.1111111111111111,\"#46039f\"],[0.2222222222222222,\"#7201a8\"],[0.3333333333333333,\"#9c179e\"],[0.4444444444444444,\"#bd3786\"],[0.5555555555555556,\"#d8576b\"],[0.6666666666666666,\"#ed7953\"],[0.7777777777777778,\"#fb9f3a\"],[0.8888888888888888,\"#fdca26\"],[1.0,\"#f0f921\"]],\"type\":\"surface\"}],\"table\":[{\"cells\":{\"fill\":{\"color\":\"#EBF0F8\"},\"line\":{\"color\":\"white\"}},\"header\":{\"fill\":{\"color\":\"#C8D4E3\"},\"line\":{\"color\":\"white\"}},\"type\":\"table\"}]},\"layout\":{\"annotationdefaults\":{\"arrowcolor\":\"#2a3f5f\",\"arrowhead\":0,\"arrowwidth\":1},\"autotypenumbers\":\"strict\",\"coloraxis\":{\"colorbar\":{\"outlinewidth\":0,\"ticks\":\"\"}},\"colorscale\":{\"diverging\":[[0,\"#8e0152\"],[0.1,\"#c51b7d\"],[0.2,\"#de77ae\"],[0.3,\"#f1b6da\"],[0.4,\"#fde0ef\"],[0.5,\"#f7f7f7\"],[0.6,\"#e6f5d0\"],[0.7,\"#b8e186\"],[0.8,\"#7fbc41\"],[0.9,\"#4d9221\"],[1,\"#276419\"]],\"sequential\":[[0.0,\"#0d0887\"],[0.1111111111111111,\"#46039f\"],[0.2222222222222222,\"#7201a8\"],[0.3333333333333333,\"#9c179e\"],[0.4444444444444444,\"#bd3786\"],[0.5555555555555556,\"#d8576b\"],[0.6666666666666666,\"#ed7953\"],[0.7777777777777778,\"#fb9f3a\"],[0.8888888888888888,\"#fdca26\"],[1.0,\"#f0f921\"]],\"sequentialminus\":[[0.0,\"#0d0887\"],[0.1111111111111111,\"#46039f\"],[0.2222222222222222,\"#7201a8\"],[0.3333333333333333,\"#9c179e\"],[0.4444444444444444,\"#bd3786\"],[0.5555555555555556,\"#d8576b\"],[0.6666666666666666,\"#ed7953\"],[0.7777777777777778,\"#fb9f3a\"],[0.8888888888888888,\"#fdca26\"],[1.0,\"#f0f921\"]]},\"colorway\":[\"#636efa\",\"#EF553B\",\"#00cc96\",\"#ab63fa\",\"#FFA15A\",\"#19d3f3\",\"#FF6692\",\"#B6E880\",\"#FF97FF\",\"#FECB52\"],\"font\":{\"color\":\"#2a3f5f\"},\"geo\":{\"bgcolor\":\"white\",\"lakecolor\":\"white\",\"landcolor\":\"#E5ECF6\",\"showlakes\":true,\"showland\":true,\"subunitcolor\":\"white\"},\"hoverlabel\":{\"align\":\"left\"},\"hovermode\":\"closest\",\"mapbox\":{\"style\":\"light\"},\"paper_bgcolor\":\"white\",\"plot_bgcolor\":\"#E5ECF6\",\"polar\":{\"angularaxis\":{\"gridcolor\":\"white\",\"linecolor\":\"white\",\"ticks\":\"\"},\"bgcolor\":\"#E5ECF6\",\"radialaxis\":{\"gridcolor\":\"white\",\"linecolor\":\"white\",\"ticks\":\"\"}},\"scene\":{\"xaxis\":{\"backgroundcolor\":\"#E5ECF6\",\"gridcolor\":\"white\",\"gridwidth\":2,\"linecolor\":\"white\",\"showbackground\":true,\"ticks\":\"\",\"zerolinecolor\":\"white\"},\"yaxis\":{\"backgroundcolor\":\"#E5ECF6\",\"gridcolor\":\"white\",\"gridwidth\":2,\"linecolor\":\"white\",\"showbackground\":true,\"ticks\":\"\",\"zerolinecolor\":\"white\"},\"zaxis\":{\"backgroundcolor\":\"#E5ECF6\",\"gridcolor\":\"white\",\"gridwidth\":2,\"linecolor\":\"white\",\"showbackground\":true,\"ticks\":\"\",\"zerolinecolor\":\"white\"}},\"shapedefaults\":{\"line\":{\"color\":\"#2a3f5f\"}},\"ternary\":{\"aaxis\":{\"gridcolor\":\"white\",\"linecolor\":\"white\",\"ticks\":\"\"},\"baxis\":{\"gridcolor\":\"white\",\"linecolor\":\"white\",\"ticks\":\"\"},\"bgcolor\":\"#E5ECF6\",\"caxis\":{\"gridcolor\":\"white\",\"linecolor\":\"white\",\"ticks\":\"\"}},\"title\":{\"x\":0.05},\"xaxis\":{\"automargin\":true,\"gridcolor\":\"white\",\"linecolor\":\"white\",\"ticks\":\"\",\"title\":{\"standoff\":15},\"zerolinecolor\":\"white\",\"zerolinewidth\":2},\"yaxis\":{\"automargin\":true,\"gridcolor\":\"white\",\"linecolor\":\"white\",\"ticks\":\"\",\"title\":{\"standoff\":15},\"zerolinecolor\":\"white\",\"zerolinewidth\":2}}},\"title\":{\"text\":\"Basic Sankey Diagram\"}},                        {\"responsive\": true}                    ).then(function(){\n",
       "                            \n",
       "var gd = document.getElementById('30e92c2a-ce25-4d94-8edc-085188908a28');\n",
       "var x = new MutationObserver(function (mutations, observer) {{\n",
       "        var display = window.getComputedStyle(gd).display;\n",
       "        if (!display || display === 'none') {{\n",
       "            console.log([gd, 'removed!']);\n",
       "            Plotly.purge(gd);\n",
       "            observer.disconnect();\n",
       "        }}\n",
       "}});\n",
       "\n",
       "// Listen for the removal of the full notebook cells\n",
       "var notebookContainer = gd.closest('#notebook-container');\n",
       "if (notebookContainer) {{\n",
       "    x.observe(notebookContainer, {childList: true});\n",
       "}}\n",
       "\n",
       "// Listen for the clearing of the current output cell\n",
       "var outputEl = gd.closest('.output');\n",
       "if (outputEl) {{\n",
       "    x.observe(outputEl, {childList: true});\n",
       "}}\n",
       "\n",
       "                        })                };                });            </script>        </div>"
      ]
     },
     "metadata": {},
     "output_type": "display_data"
    }
   ],
   "source": [
    "fig = go.Figure(data=[go.Sankey(\n",
    "    valuesuffix = \" кВтч\",\n",
    "    node = dict(\n",
    "      pad = 15,\n",
    "      thickness = 20,\n",
    "      line = dict(color = \"black\", width = 0.5),\n",
    "      label = names,\n",
    "      #color = \"blue\"\n",
    "    ),\n",
    "    link = dict(\n",
    "      source = source, # indices correspond to labels, eg A1, A2, A1, B1, ...\n",
    "      target = target,\n",
    "      value = value,\n",
    "      #label = names  \n",
    "  ))])\n",
    "#fig.update_layout(title_text=\"Basic Sankey Diagram\", font_size=10)\n",
    "\n",
    "fig.update_layout(height=700,\n",
    "                      font_color=colors['graph_font'],\n",
    "                      title_text='Basic Sankey Diagram',\n",
    "                      plot_bgcolor=colors['plot_area'],\n",
    "                      paper_bgcolor=colors['plot_background'],\n",
    "                      margin=dict(l=20, r=20, b=30, t=80, pad=1),\n",
    "                      )\n",
    "\n",
    "fig.show()\n"
   ]
  },
  {
   "cell_type": "code",
   "execution_count": 138,
   "id": "ee320880",
   "metadata": {},
   "outputs": [
    {
     "ename": "AttributeError",
     "evalue": "'RTDArchive' object has no attribute 'devices_tree'",
     "output_type": "error",
     "traceback": [
      "\u001b[1;31m---------------------------------------------------------------------------\u001b[0m",
      "\u001b[1;31mAttributeError\u001b[0m                            Traceback (most recent call last)",
      "\u001b[1;32mC:\\Users\\2C1D~1\\AppData\\Local\\Temp/ipykernel_3520/2722768695.py\u001b[0m in \u001b[0;36m<module>\u001b[1;34m\u001b[0m\n\u001b[1;32m----> 1\u001b[1;33m \u001b[0mrtd\u001b[0m\u001b[1;33m.\u001b[0m\u001b[0mdevices_tree\u001b[0m\u001b[1;33m(\u001b[0m\u001b[1;33m)\u001b[0m\u001b[1;33m\u001b[0m\u001b[1;33m\u001b[0m\u001b[0m\n\u001b[0m",
      "\u001b[1;31mAttributeError\u001b[0m: 'RTDArchive' object has no attribute 'devices_tree'"
     ]
    }
   ],
   "source": []
  },
  {
   "cell_type": "code",
   "execution_count": null,
   "id": "fd70ea8b",
   "metadata": {},
   "outputs": [],
   "source": []
  }
 ],
 "metadata": {
  "kernelspec": {
   "display_name": "Python 3 (ipykernel)",
   "language": "python",
   "name": "python3"
  },
  "language_info": {
   "codemirror_mode": {
    "name": "ipython",
    "version": 3
   },
   "file_extension": ".py",
   "mimetype": "text/x-python",
   "name": "python",
   "nbconvert_exporter": "python",
   "pygments_lexer": "ipython3",
   "version": "3.9.10"
  }
 },
 "nbformat": 4,
 "nbformat_minor": 5
}
